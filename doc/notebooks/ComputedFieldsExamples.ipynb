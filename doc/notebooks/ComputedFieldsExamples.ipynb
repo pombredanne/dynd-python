{
 "metadata": {
  "name": "ComputedFieldsExamples"
 },
 "nbformat": 3,
 "nbformat_minor": 0,
 "worksheets": [
  {
   "cells": [
    {
     "cell_type": "markdown",
     "metadata": {},
     "source": [
      "## Computed Fields in Blaze/DyND\n",
      "\n",
      "This demo shows a mechanism for creating computed fields, creating 'full name' and 'age' fields.\n",
      "\n",
      "To start, we import the DyND library."
     ]
    },
    {
     "cell_type": "code",
     "collapsed": false,
     "input": [
      "from dynd import nd, ndt"
     ],
     "language": "python",
     "metadata": {},
     "outputs": [],
     "prompt_number": 1
    },
    {
     "cell_type": "markdown",
     "metadata": {},
     "source": [
      "### Creating a Table\n",
      "\n",
      "Let's create a table with name and birthday fields."
     ]
    },
    {
     "cell_type": "code",
     "collapsed": false,
     "input": [
      "a = nd.array([('Smith', 'John', '1979-01-22'),\n",
      "                ('Katz', 'Barbara', '1990-12-03'),\n",
      "                ('Barker', 'Henry', '1979-06-12')],\n",
      "            dtype='{lastname: string(32); firstname: string(32); birthday: date}')"
     ],
     "language": "python",
     "metadata": {},
     "outputs": [],
     "prompt_number": 3
    },
    {
     "cell_type": "code",
     "collapsed": false,
     "input": [
      "a"
     ],
     "language": "python",
     "metadata": {},
     "outputs": [
      {
       "output_type": "pyout",
       "prompt_number": 4,
       "text": [
        "nd.array([[\"Smith\", \"John\", 1979-01-22], [\"Katz\", \"Barbara\", 1990-12-03], [\"Barker\", \"Henry\", 1979-06-12]], strided_dim<cstruct<string<32> lastname, string<32> firstname, date birthday>>)"
       ]
      }
     ],
     "prompt_number": 4
    },
    {
     "cell_type": "markdown",
     "metadata": {},
     "source": [
      "Because we used fixed-buffer strings, we can reassign their values and convert them into NumPy."
     ]
    },
    {
     "cell_type": "code",
     "collapsed": false,
     "input": [
      "a[2].firstname = 'George'"
     ],
     "language": "python",
     "metadata": {},
     "outputs": [],
     "prompt_number": 5
    },
    {
     "cell_type": "code",
     "collapsed": false,
     "input": [
      "nd.as_numpy(a, allow_copy=True)"
     ],
     "language": "python",
     "metadata": {},
     "outputs": [
      {
       "output_type": "pyout",
       "prompt_number": 6,
       "text": [
        "array([(u'Smith', u'John', datetime.date(1979, 1, 22)),\n",
        "       (u'Katz', u'Barbara', datetime.date(1990, 12, 3)),\n",
        "       (u'Barker', u'George', datetime.date(1979, 6, 12))], \n",
        "      dtype={'names':['lastname','firstname','birthday'], 'formats':['<U32','<U32','<M8[D]'], 'offsets':[0,128,256], 'itemsize':264, 'aligned':True})"
       ]
      }
     ],
     "prompt_number": 6
    },
    {
     "cell_type": "markdown",
     "metadata": {},
     "source": [
      "### Adding Computed Fields\n",
      "\n",
      "Now let's add our two computed fields.\n",
      "\n",
      "The first one, 'fullname', is simple, we simply concatenate the first and last name strings together. The second one, 'age', is a little trickier. There doesn't seem to be a simple one-liner for this, and the code here will crash on February 29th, but hopefully it demonstrates the idea nicely."
     ]
    },
    {
     "cell_type": "code",
     "collapsed": false,
     "input": [
      "b = nd.add_computed_fields(a,\n",
      "    [('fullname', ndt.string,\n",
      "        'firstname + \" \" + lastname'),\n",
      "     ('age', ndt.int32,\n",
      "        'date.today().year - birthday.year - 1 + (date.today().replace(year=birthday.year) >= birthday)')])"
     ],
     "language": "python",
     "metadata": {},
     "outputs": [],
     "prompt_number": 7
    },
    {
     "cell_type": "markdown",
     "metadata": {},
     "source": [
      "Now 'b' is a deferred evaluation object, with a fairly complicated dynd type. You don't need to know what's going on in the type printout, but here it is for show."
     ]
    },
    {
     "cell_type": "code",
     "collapsed": false,
     "input": [
      "nd.type_of(b)"
     ],
     "language": "python",
     "metadata": {},
     "outputs": [
      {
       "output_type": "pyout",
       "prompt_number": 9,
       "text": [
        "ndt.type('strided_dim<expr<cstruct<string<32> lastname, string<32> firstname, date birthday, string fullname, int32 age>, op0=cstruct<string<32> lastname, string<32> firstname, date birthday>, expr=computed_field_expr(op0)>>')"
       ]
      }
     ],
     "prompt_number": 9
    },
    {
     "cell_type": "markdown",
     "metadata": {},
     "source": [
      "We can evaluate back to an object with no deferred expression using the 'eval' method."
     ]
    },
    {
     "cell_type": "code",
     "collapsed": false,
     "input": [
      "b.eval()"
     ],
     "language": "python",
     "metadata": {},
     "outputs": [
      {
       "output_type": "pyout",
       "prompt_number": 10,
       "text": [
        "nd.array([[\"Smith\", \"John\", 1979-01-22, \"John Smith\", 34], [\"Katz\", \"Barbara\", 1990-12-03, \"Barbara Katz\", 22], [\"Barker\", \"George\", 1979-06-12, \"George Barker\", 34]], strided_dim<cstruct<string<32> lastname, string<32> firstname, date birthday, string fullname, int32 age>>)"
       ]
      }
     ],
     "prompt_number": 10
    },
    {
     "cell_type": "markdown",
     "metadata": {},
     "source": [
      "### Testing the Deferred Evaluation\n",
      "\n",
      "Finally, let's modify values in 'a', and see how that affects 'b'."
     ]
    },
    {
     "cell_type": "code",
     "collapsed": false,
     "input": [
      "print(nd.as_py(b[1]))\n",
      "print(nd.as_py(b.age))"
     ],
     "language": "python",
     "metadata": {},
     "outputs": [
      {
       "output_type": "stream",
       "stream": "stdout",
       "text": [
        "{u'lastname': u'Katz', u'fullname': u'Barbara Katz', u'birthday': datetime.date(1990, 12, 3), u'age': 22, u'firstname': u'Barbara'}\n",
        "[34, 22, 34]\n"
       ]
      }
     ],
     "prompt_number": 11
    },
    {
     "cell_type": "code",
     "collapsed": false,
     "input": [
      "a[1] = ['Ford', 'Carol', '1967-05-12']"
     ],
     "language": "python",
     "metadata": {},
     "outputs": [],
     "prompt_number": 12
    },
    {
     "cell_type": "code",
     "collapsed": false,
     "input": [
      "print(nd.as_py(b[1]))\n",
      "print(nd.as_py(b.age))"
     ],
     "language": "python",
     "metadata": {},
     "outputs": [
      {
       "output_type": "stream",
       "stream": "stdout",
       "text": [
        "{u'lastname': u'Ford', u'fullname': u'Carol Ford', u'birthday': datetime.date(1967, 5, 12), u'age': 46, u'firstname': u'Carol'}\n",
        "[34, 46, 34]\n"
       ]
      }
     ],
     "prompt_number": 13
    }
   ],
   "metadata": {}
  }
 ]
}
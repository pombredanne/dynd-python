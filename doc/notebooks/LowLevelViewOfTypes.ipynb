{
 "metadata": {
  "name": "LowLevelViewOfTypes"
 },
 "nbformat": 3,
 "nbformat_minor": 0,
 "worksheets": [
  {
   "cells": [
    {
     "cell_type": "heading",
     "level": 1,
     "metadata": {},
     "source": [
      "A Low Level View of DyND Types"
     ]
    },
    {
     "cell_type": "markdown",
     "metadata": {},
     "source": [
      "The dynd data structure describes memory layout using two components, a type and a block of metadata. This notebook takes a tour through the types in dynd, how the metadata for each type is laid out, and how the corresponding data looks. For most uses of dynd, this low level perspective is unnecessary, but in cases such as JIT code generation to operate on a dynd array, it is essential."
     ]
    },
    {
     "cell_type": "code",
     "collapsed": false,
     "input": [
      "from __future__ import print_function\n",
      "import sys, ctypes\n",
      "from pprint import pprint\n",
      "import dynd\n",
      "from dynd import nd, ndt, _lowlevel\n",
      "print('Python:', sys.version)\n",
      "print('DyND:', dynd.__version__)\n",
      "print('LibDyND:', dynd.__libdynd_version__)"
     ],
     "language": "python",
     "metadata": {},
     "outputs": [
      {
       "output_type": "stream",
       "stream": "stdout",
       "text": [
        "Python: 2.7.3 |Anaconda 1.6.0 (64-bit)| (default, Feb 25 2013, 18:41:24) [MSC v.1500 64 bit (AMD64)]\n",
        "DyND: 0.4.1.post40.g32df3cb.dirty\n",
        "LibDyND: 0.4.1.post28.g89563e1\n"
       ]
      }
     ],
     "prompt_number": 1
    },
    {
     "cell_type": "markdown",
     "metadata": {},
     "source": [
      "Since we're going to be printing information about many different dynd types, let's create a function to do the printing."
     ]
    },
    {
     "cell_type": "code",
     "collapsed": false,
     "input": [
      "def print_type(t):\n",
      "    print('type: %r' % t)\n",
      "    print('data_size: %d' % t.data_size)\n",
      "    print('data_alignment: %d' % t.data_alignment)\n",
      "    print('metadata size: %d' % t.metadata_size)"
     ],
     "language": "python",
     "metadata": {},
     "outputs": [],
     "prompt_number": 2
    },
    {
     "cell_type": "heading",
     "level": 3,
     "metadata": {},
     "source": [
      "Types With No Metadata"
     ]
    },
    {
     "cell_type": "markdown",
     "metadata": {},
     "source": [
      "There are a bunch of types which have no metadata. These are types whose memory layout and interpretation requires no extra information to interpret. This includes builtin types such as the integers and floating point numbers, as well as some others like the fixed_dim and cstruct.\n",
      "\n",
      "Any time the metadata has size zero, any function which operates on a dynd type/metadata pair will accept NULL as the metadata, because it does not use it."
     ]
    },
    {
     "cell_type": "heading",
     "level": 2,
     "metadata": {},
     "source": [
      "Primitive Types"
     ]
    },
    {
     "cell_type": "heading",
     "level": 3,
     "metadata": {},
     "source": [
      "ndt.bool"
     ]
    },
    {
     "cell_type": "code",
     "collapsed": false,
     "input": [
      "print_type(ndt.bool)"
     ],
     "language": "python",
     "metadata": {},
     "outputs": [
      {
       "output_type": "stream",
       "stream": "stdout",
       "text": [
        "type: ndt.bool\n",
        "data_size: 1\n",
        "data_alignment: 1\n",
        "metadata size: 0\n"
       ]
      }
     ],
     "prompt_number": 3
    },
    {
     "cell_type": "markdown",
     "metadata": {},
     "source": [
      "The bool type is stored as one byte, which contains either the value 0 for false or 1 for true. It's using one byte because the typical dynd array pattern offsets are defined in terms of bytes, thus having booleans be bits is not as straightforward. While it doesn't exist yet, having an additional `bitarray` type which would act like a one dimensional array of `ndt.bool` would be nice as well."
     ]
    },
    {
     "cell_type": "heading",
     "level": 3,
     "metadata": {},
     "source": [
      "ndt.int#"
     ]
    },
    {
     "cell_type": "code",
     "collapsed": false,
     "input": [
      "print_type(ndt.int16)"
     ],
     "language": "python",
     "metadata": {},
     "outputs": [
      {
       "output_type": "stream",
       "stream": "stdout",
       "text": [
        "type: ndt.int16\n",
        "data_size: 2\n",
        "data_alignment: 2\n",
        "metadata size: 0\n"
       ]
      }
     ],
     "prompt_number": 4
    },
    {
     "cell_type": "markdown",
     "metadata": {},
     "source": [
      "There are signed twos-complement integers with power of two sizes from `int8` through `int128`. The `int128` type is only partially implemented."
     ]
    },
    {
     "cell_type": "heading",
     "level": 3,
     "metadata": {},
     "source": [
      "ndt.uint#"
     ]
    },
    {
     "cell_type": "code",
     "collapsed": false,
     "input": [
      "print_type(ndt.uint64)"
     ],
     "language": "python",
     "metadata": {},
     "outputs": [
      {
       "output_type": "stream",
       "stream": "stdout",
       "text": [
        "type: ndt.uint64\n",
        "data_size: 8\n",
        "data_alignment: 8\n",
        "metadata size: 0\n"
       ]
      }
     ],
     "prompt_number": 5
    },
    {
     "cell_type": "markdown",
     "metadata": {},
     "source": [
      "There are unsigned integers from `uint8` through `uint128`, with the same status as for signed integers."
     ]
    },
    {
     "cell_type": "heading",
     "level": 3,
     "metadata": {},
     "source": [
      "ndt.float#"
     ]
    },
    {
     "cell_type": "code",
     "collapsed": false,
     "input": [
      "print_type(ndt.float64)"
     ],
     "language": "python",
     "metadata": {},
     "outputs": [
      {
       "output_type": "stream",
       "stream": "stdout",
       "text": [
        "type: ndt.float64\n",
        "data_size: 8\n",
        "data_alignment: 8\n",
        "metadata size: 0\n"
       ]
      }
     ],
     "prompt_number": 6
    },
    {
     "cell_type": "markdown",
     "metadata": {},
     "source": [
      "The `float#` types are floating point with IEEE binary# layout. Note that the C++ `long double` type is not presently supported by dynd, but will be added."
     ]
    },
    {
     "cell_type": "heading",
     "level": 3,
     "metadata": {},
     "source": [
      "ndt.cfloat#"
     ]
    },
    {
     "cell_type": "code",
     "collapsed": false,
     "input": [
      "print_type(ndt.cfloat32)"
     ],
     "language": "python",
     "metadata": {},
     "outputs": [
      {
       "output_type": "stream",
       "stream": "stdout",
       "text": [
        "type: ndt.cfloat32\n",
        "data_size: 8\n",
        "data_alignment: 4\n",
        "metadata size: 0\n"
       ]
      }
     ],
     "prompt_number": 7
    },
    {
     "cell_type": "markdown",
     "metadata": {},
     "source": [
      "The `cfloat#` types are complex numbers containing a pair of `float#`."
     ]
    },
    {
     "cell_type": "heading",
     "level": 3,
     "metadata": {},
     "source": [
      "ndt.void"
     ]
    },
    {
     "cell_type": "code",
     "collapsed": false,
     "input": [
      "print_type(ndt.void)"
     ],
     "language": "python",
     "metadata": {},
     "outputs": [
      {
       "output_type": "stream",
       "stream": "stdout",
       "text": [
        "type: ndt.void\n",
        "data_size: 0\n",
        "data_alignment: 1\n",
        "metadata size: 0\n"
       ]
      }
     ],
     "prompt_number": 8
    },
    {
     "cell_type": "markdown",
     "metadata": {},
     "source": [
      "The `void` type means no data. If is used as a way for a dynd callable to indicate no return value."
     ]
    },
    {
     "cell_type": "heading",
     "level": 3,
     "metadata": {},
     "source": [
      "void pointer"
     ]
    },
    {
     "cell_type": "code",
     "collapsed": false,
     "input": [
      "print_type(ndt.make_pointer(ndt.void))"
     ],
     "language": "python",
     "metadata": {},
     "outputs": [
      {
       "output_type": "stream",
       "stream": "stdout",
       "text": [
        "type: ndt.type('pointer<void>')\n",
        "data_size: 8\n",
        "data_alignment: 8\n",
        "metadata size: 0\n"
       ]
      }
     ],
     "prompt_number": 9
    },
    {
     "cell_type": "markdown",
     "metadata": {},
     "source": [
      "The void pointer is a special pointer type which has no metadata, and is the value type for other pointer types."
     ]
    },
    {
     "cell_type": "heading",
     "level": 3,
     "metadata": {},
     "source": [
      "ndt.date"
     ]
    },
    {
     "cell_type": "code",
     "collapsed": false,
     "input": [
      "print_type(ndt.date)"
     ],
     "language": "python",
     "metadata": {},
     "outputs": [
      {
       "output_type": "stream",
       "stream": "stdout",
       "text": [
        "type: ndt.date\n",
        "data_size: 4\n",
        "data_alignment: 4\n",
        "metadata size: 0\n"
       ]
      }
     ],
     "prompt_number": 10
    },
    {
     "cell_type": "markdown",
     "metadata": {},
     "source": [
      "The `date` type represents a date as the number of days after January 1, 1970, in a 32-bit signed integer. It may be desirable to add a time zone either to the type or to the metadata when time zone handling is added to dynd."
     ]
    },
    {
     "cell_type": "heading",
     "level": 2,
     "metadata": {},
     "source": [
      "String/Bytes"
     ]
    },
    {
     "cell_type": "heading",
     "level": 3,
     "metadata": {},
     "source": [
      "fixedstring"
     ]
    },
    {
     "cell_type": "code",
     "collapsed": false,
     "input": [
      "dt = ndt.make_fixedstring(16, 'utf-16')\n",
      "print_type(dt)\n",
      "print('encoding: %s' % dt.encoding)"
     ],
     "language": "python",
     "metadata": {},
     "outputs": [
      {
       "output_type": "stream",
       "stream": "stdout",
       "text": [
        "type: ndt.type('string<16,'utf-16'>')\n",
        "data_size: 32\n",
        "data_alignment: 2\n",
        "metadata size: 0\n",
        "encoding: utf-16\n"
       ]
      }
     ],
     "prompt_number": 11
    },
    {
     "cell_type": "markdown",
     "metadata": {},
     "source": [
      "The `fixedstring` type represents a string in a fixed-size buffer, whose size may be shortened through NULL-termination. It is not quite a C string or \"stringz\", because the string is allowed to use up the whole buffer and not be NULL-terminated. This is equivalent to how NumPy `string` and `unicode` work.\n",
      "\n",
      "The name `fixedstring` isn't quite satisfactory, but neither is `cstring` or `stringz` because NULL-termination is not guaranteed."
     ]
    },
    {
     "cell_type": "heading",
     "level": 3,
     "metadata": {},
     "source": [
      "fixedbytes"
     ]
    },
    {
     "cell_type": "code",
     "collapsed": false,
     "input": [
      "print_type(ndt.make_fixedbytes(16, 4))"
     ],
     "language": "python",
     "metadata": {},
     "outputs": [
      {
       "output_type": "stream",
       "stream": "stdout",
       "text": [
        "type: ndt.type('fixedbytes<16,4>')\n",
        "data_size: 16\n",
        "data_alignment: 4\n",
        "metadata size: 0\n"
       ]
      }
     ],
     "prompt_number": 12
    },
    {
     "cell_type": "markdown",
     "metadata": {},
     "source": [
      "The `fixedbytes` type represents a fixed-size buffer of bytes, with a specified alignment."
     ]
    },
    {
     "cell_type": "heading",
     "level": 3,
     "metadata": {},
     "source": [
      "string"
     ]
    },
    {
     "cell_type": "code",
     "collapsed": false,
     "input": [
      "dt = ndt.string\n",
      "print_type(dt)\n",
      "print('encoding: %s' % dt.encoding)"
     ],
     "language": "python",
     "metadata": {},
     "outputs": [
      {
       "output_type": "stream",
       "stream": "stdout",
       "text": [
        "type: ndt.string\n",
        "data_size: 16\n",
        "data_alignment: 8\n",
        "metadata size: 8\n",
        "encoding: utf-8\n"
       ]
      }
     ],
     "prompt_number": 13
    },
    {
     "cell_type": "code",
     "collapsed": false,
     "input": [
      "dt = ndt.make_string('utf-32')\n",
      "print_type(dt)\n",
      "print('encoding: %s' % dt.encoding)"
     ],
     "language": "python",
     "metadata": {},
     "outputs": [
      {
       "output_type": "stream",
       "stream": "stdout",
       "text": [
        "type: ndt.type('string<'utf-32'>')\n",
        "data_size: 16\n",
        "data_alignment: 8\n",
        "metadata size: 8\n",
        "encoding: utf-32\n"
       ]
      }
     ],
     "prompt_number": 14
    },
    {
     "cell_type": "markdown",
     "metadata": {},
     "source": [
      "The `string` type represents variable-sized strings using a blockref mechanism. The data of a string consists of two pointers, `begin` and `end` which consist of a half-open range of bytes. The metadata is a single memory block reference, which owns the data of all the strings. For writing strings, this memory block also has an interface for allocating memory for an output string."
     ]
    },
    {
     "cell_type": "heading",
     "level": 3,
     "metadata": {},
     "source": [
      "bytes"
     ]
    },
    {
     "cell_type": "code",
     "collapsed": false,
     "input": [
      "dt = ndt.bytes\n",
      "print_type(dt)\n",
      "print('target_alignment: %d' % dt.target_alignment)"
     ],
     "language": "python",
     "metadata": {},
     "outputs": [
      {
       "output_type": "stream",
       "stream": "stdout",
       "text": [
        "type: ndt.bytes\n",
        "data_size: 16\n",
        "data_alignment: 8\n",
        "metadata size: 8\n",
        "target_alignment: 1\n"
       ]
      }
     ],
     "prompt_number": 15
    },
    {
     "cell_type": "code",
     "collapsed": false,
     "input": [
      "dt = ndt.make_bytes(4)\n",
      "print_type(dt)\n",
      "print('target_alignment: %d' % dt.target_alignment)"
     ],
     "language": "python",
     "metadata": {},
     "outputs": [
      {
       "output_type": "stream",
       "stream": "stdout",
       "text": [
        "type: ndt.type('bytes<align=4>')\n",
        "data_size: 16\n",
        "data_alignment: 8\n",
        "metadata size: 8\n",
        "target_alignment: 4\n"
       ]
      }
     ],
     "prompt_number": 16
    },
    {
     "cell_type": "markdown",
     "metadata": {},
     "source": [
      "The `bytes` type has identical data and metadata as the `string` type, but represents variable-sized raw byte buffers instead of strings."
     ]
    },
    {
     "cell_type": "heading",
     "level": 3,
     "metadata": {},
     "source": [
      "json"
     ]
    },
    {
     "cell_type": "code",
     "collapsed": false,
     "input": [
      "dt = ndt.json\n",
      "print_type(dt)\n",
      "print('encoding: %s' % dt.encoding)"
     ],
     "language": "python",
     "metadata": {},
     "outputs": [
      {
       "output_type": "stream",
       "stream": "stdout",
       "text": [
        "type: ndt.json\n",
        "data_size: 16\n",
        "data_alignment: 8\n",
        "metadata size: 8\n",
        "encoding: utf-8\n"
       ]
      }
     ],
     "prompt_number": 17
    },
    {
     "cell_type": "markdown",
     "metadata": {},
     "source": [
      "The `json` type is a special string type whose data holds a single JSON value. Its data and metadata are identical to that of `ndt.string`."
     ]
    },
    {
     "cell_type": "heading",
     "level": 2,
     "metadata": {},
     "source": [
      "Array Types"
     ]
    },
    {
     "cell_type": "heading",
     "level": 3,
     "metadata": {},
     "source": [
      "strided_dim"
     ]
    },
    {
     "cell_type": "code",
     "collapsed": false,
     "input": [
      "print_type(ndt.make_strided_dim(ndt.int32))"
     ],
     "language": "python",
     "metadata": {},
     "outputs": [
      {
       "output_type": "stream",
       "stream": "stdout",
       "text": [
        "type: ndt.type('strided_dim<int32>')\n",
        "data_size: 0\n",
        "data_alignment: 4\n",
        "metadata size: 16\n"
       ]
      }
     ],
     "prompt_number": 18
    },
    {
     "cell_type": "markdown",
     "metadata": {},
     "source": [
      "The `strided_dim` type works most closely like the strided dimensions in NumPy arrays. It indicates one strided dimension of an array, and has metadata which consists of a dimension size and a stride, as two `intptr_t` values. Notice that the `data_size` is zero, because the size of the data is unknown without a corresponding metadata."
     ]
    },
    {
     "cell_type": "heading",
     "level": 3,
     "metadata": {},
     "source": [
      "fixed_dim"
     ]
    },
    {
     "cell_type": "code",
     "collapsed": false,
     "input": [
      "print_type(ndt.make_fixed_dim(3, ndt.int32))"
     ],
     "language": "python",
     "metadata": {},
     "outputs": [
      {
       "output_type": "stream",
       "stream": "stdout",
       "text": [
        "type: ndt.type('fixed_dim<3, int32>')\n",
        "data_size: 12\n",
        "data_alignment: 4\n",
        "metadata size: 0\n"
       ]
      }
     ],
     "prompt_number": 19
    },
    {
     "cell_type": "markdown",
     "metadata": {},
     "source": [
      "The `fixed_dim` type represents a strided array whose layout is fully specified by the type, not the metadata. Note that while the `fixed_dim` type itself defines no metadata, its element type may, so you cannot assume there is no metadata because it is a `fixed_dim` type.\n",
      "\n",
      "It supports multi-dimensional arrays in multiple layouts, such as C order:"
     ]
    },
    {
     "cell_type": "code",
     "collapsed": false,
     "input": [
      "print_type(ndt.make_fixed_dim((2,2), ndt.int32))"
     ],
     "language": "python",
     "metadata": {},
     "outputs": [
      {
       "output_type": "stream",
       "stream": "stdout",
       "text": [
        "type: ndt.type('fixed_dim<2, fixed_dim<2, int32>>')\n",
        "data_size: 16\n",
        "data_alignment: 4\n",
        "metadata size: 0\n"
       ]
      }
     ],
     "prompt_number": 20
    },
    {
     "cell_type": "markdown",
     "metadata": {},
     "source": [
      "or F order:"
     ]
    },
    {
     "cell_type": "code",
     "collapsed": false,
     "input": [
      "print_type(ndt.make_fixed_dim((2,2), ndt.int32, axis_perm=(0,1)))"
     ],
     "language": "python",
     "metadata": {},
     "outputs": [
      {
       "output_type": "stream",
       "stream": "stdout",
       "text": [
        "type: ndt.type('fixed_dim<2, stride=4, fixed_dim<2, stride=8, int32>>')\n",
        "data_size: 16\n",
        "data_alignment: 4\n",
        "metadata size: 0\n"
       ]
      }
     ],
     "prompt_number": 21
    },
    {
     "cell_type": "heading",
     "level": 3,
     "metadata": {},
     "source": [
      "var_dim"
     ]
    },
    {
     "cell_type": "code",
     "collapsed": false,
     "input": [
      "print_type(ndt.make_var_dim(ndt.int32))"
     ],
     "language": "python",
     "metadata": {},
     "outputs": [
      {
       "output_type": "stream",
       "stream": "stdout",
       "text": [
        "type: ndt.type('var_dim<int32>')\n",
        "data_size: 16\n",
        "data_alignment: 8\n",
        "metadata size: 24\n"
       ]
      }
     ],
     "prompt_number": 22
    },
    {
     "cell_type": "markdown",
     "metadata": {},
     "source": [
      "The `var_dim` type represents a variable-sized array, using a blockref to the actual data. The data consists of a pointer and a size, while the metadata consists of a reference to the memory block owning the array data, an `intptr_t` stride, and an `intptr_t` offset which must be added to the data pointer to get the location of the actual data.\n",
      "\n",
      "To get a typical ragged array, one needs a two-dimensional array with a `var_dim` as the second dimension."
     ]
    },
    {
     "cell_type": "code",
     "collapsed": false,
     "input": [
      "print_type(ndt.make_strided_dim(ndt.make_var_dim(ndt.int32)))"
     ],
     "language": "python",
     "metadata": {},
     "outputs": [
      {
       "output_type": "stream",
       "stream": "stdout",
       "text": [
        "type: ndt.type('strided_dim<var_dim<int32>>')\n",
        "data_size: 0\n",
        "data_alignment: 8\n",
        "metadata size: 40\n"
       ]
      }
     ],
     "prompt_number": 23
    },
    {
     "cell_type": "heading",
     "level": 2,
     "metadata": {},
     "source": [
      "Struct Types"
     ]
    },
    {
     "cell_type": "heading",
     "level": 3,
     "metadata": {},
     "source": [
      "cstruct"
     ]
    },
    {
     "cell_type": "code",
     "collapsed": false,
     "input": [
      "print_type(ndt.make_cstruct([ndt.int32, ndt.make_fixedstring(7)], ['id', 'name']))"
     ],
     "language": "python",
     "metadata": {},
     "outputs": [
      {
       "output_type": "stream",
       "stream": "stdout",
       "text": [
        "type: ndt.type('cstruct<int32 id, string<7> name>')\n",
        "data_size: 12\n",
        "data_alignment: 4\n",
        "metadata size: 0\n"
       ]
      }
     ],
     "prompt_number": 24
    },
    {
     "cell_type": "markdown",
     "metadata": {},
     "source": [
      "The `cstruct` defines a struct whose data layout matches that produced by the platform C++ compiler for equivalent types. Note that while the `cstruct` type itself defines no metadata, any of its field types may, so you cannot assume there is no metadata because it is a `cstruct` type. The metadata of all the fields are placed contiguously in order."
     ]
    },
    {
     "cell_type": "heading",
     "level": 3,
     "metadata": {},
     "source": [
      "struct"
     ]
    },
    {
     "cell_type": "code",
     "collapsed": false,
     "input": [
      "print_type(ndt.make_struct([ndt.int32, ndt.make_fixedstring(7)], ['id', 'name']))"
     ],
     "language": "python",
     "metadata": {},
     "outputs": [
      {
       "output_type": "stream",
       "stream": "stdout",
       "text": [
        "type: ndt.type('struct<int32 id, string<7> name>')\n",
        "data_size: 0\n",
        "data_alignment: 4\n",
        "metadata size: 16\n"
       ]
      }
     ],
     "prompt_number": 25
    },
    {
     "cell_type": "markdown",
     "metadata": {},
     "source": [
      "The `struct` generalizes the `cstruct` by allowing the fields to be arbitrarily laid out with any offsets conforming to their field's alignment. Notice that the `data_size` is zero, because the `struct` requires corresponding metadata to have a layout defined. The alignment is the same as the alignment of the `cstruct`, because the struct itself must be aligned enough to guarantee alignment of its most aligned field.\n",
      "\n",
      "The metadata of the `struct` is an `intptr_t` array of all the data offsets. The metadata of all the fields are placed contiguously in order, after the offsets array."
     ]
    },
    {
     "cell_type": "heading",
     "level": 2,
     "metadata": {},
     "source": [
      "Expression Types"
     ]
    },
    {
     "cell_type": "heading",
     "level": 3,
     "metadata": {},
     "source": [
      "convert"
     ]
    },
    {
     "cell_type": "code",
     "collapsed": false,
     "input": [
      "print_type(ndt.make_convert(ndt.int32, ndt.int64))"
     ],
     "language": "python",
     "metadata": {},
     "outputs": [
      {
       "output_type": "stream",
       "stream": "stdout",
       "text": [
        "type: ndt.type('convert<to=int32, from=int64>')\n",
        "data_size: 8\n",
        "data_alignment: 8\n",
        "metadata size: 0\n"
       ]
      }
     ],
     "prompt_number": 26
    },
    {
     "cell_type": "markdown",
     "metadata": {},
     "source": [
      "The `convert` types represents a type conversion as an expression type. Its underlying storage is that of its \"from\" type, but its value is that of its \"to\" type."
     ]
    },
    {
     "cell_type": "heading",
     "level": 3,
     "metadata": {},
     "source": [
      "byteswap"
     ]
    },
    {
     "cell_type": "code",
     "collapsed": false,
     "input": [
      "print_type(ndt.make_byteswap(ndt.int32))"
     ],
     "language": "python",
     "metadata": {},
     "outputs": [
      {
       "output_type": "stream",
       "stream": "stdout",
       "text": [
        "type: ndt.type('byteswap<int32>')\n",
        "data_size: 4\n",
        "data_alignment: 4\n",
        "metadata size: 0\n"
       ]
      }
     ],
     "prompt_number": 27
    },
    {
     "cell_type": "markdown",
     "metadata": {},
     "source": [
      "The `byteswap` type represents a value which is byte-swapped from native endianness. All dynd types which are used for calculations have native endianness, but data with non-native endianness can be used via the `byteswap` type."
     ]
    },
    {
     "cell_type": "heading",
     "level": 3,
     "metadata": {},
     "source": [
      "view"
     ]
    },
    {
     "cell_type": "code",
     "collapsed": false,
     "input": [
      "print_type(ndt.make_view(ndt.int64, ndt.float64))"
     ],
     "language": "python",
     "metadata": {},
     "outputs": [
      {
       "output_type": "stream",
       "stream": "stdout",
       "text": [
        "type: ndt.type('view<as=int64, original=float64>')\n",
        "data_size: 8\n",
        "data_alignment: 8\n",
        "metadata size: 0\n"
       ]
      }
     ],
     "prompt_number": 28
    },
    {
     "cell_type": "markdown",
     "metadata": {},
     "source": [
      "The `view` type represents a value whose bytes are being reinterpreted as another type. For example, a float64 being viewed as an int64. Usually, the value of the bytes reinterpreted as a different type will be different."
     ]
    },
    {
     "cell_type": "heading",
     "level": 3,
     "metadata": {},
     "source": [
      "unaligned"
     ]
    },
    {
     "cell_type": "code",
     "collapsed": false,
     "input": [
      "print_type(ndt.make_unaligned(ndt.int32))"
     ],
     "language": "python",
     "metadata": {},
     "outputs": [
      {
       "output_type": "stream",
       "stream": "stdout",
       "text": [
        "type: ndt.type('unaligned<int32>')\n",
        "data_size: 4\n",
        "data_alignment: 1\n",
        "metadata size: 0\n"
       ]
      }
     ],
     "prompt_number": 29
    },
    {
     "cell_type": "markdown",
     "metadata": {},
     "source": [
      "The `unaligned` type is a special case of the `view` type, where the original type is a `fixedbytes` with the same size as the value type. This is the mechanism by which unaligned data is handled in dynd."
     ]
    },
    {
     "cell_type": "heading",
     "level": 2,
     "metadata": {},
     "source": [
      "Types With Lifetimes (i.e. destructors)"
     ]
    },
    {
     "cell_type": "heading",
     "level": 3,
     "metadata": {},
     "source": [
      "type"
     ]
    },
    {
     "cell_type": "code",
     "collapsed": false,
     "input": [
      "print_type(ndt.type('type'))"
     ],
     "language": "python",
     "metadata": {},
     "outputs": [
      {
       "output_type": "stream",
       "stream": "stdout",
       "text": [
        "type: ndt.type('type')\n",
        "data_size: 8\n",
        "data_alignment: 8\n",
        "metadata size: 0\n"
       ]
      }
     ],
     "prompt_number": 30
    },
    {
     "cell_type": "markdown",
     "metadata": {},
     "source": [
      "The `type` type is for holding dynd types themselves. These types are reference-counted, and data for them must be zero-initialized and destructed via a reference decrement when it is done.\n",
      "\n",
      "One place this is used is to get the list of types from a `struct` or `cstruct`."
     ]
    },
    {
     "cell_type": "code",
     "collapsed": false,
     "input": [
      "dt = ndt.make_struct([ndt.int32, ndt.string], ['x', 'y'])\n",
      "dt.field_types"
     ],
     "language": "python",
     "metadata": {},
     "outputs": [
      {
       "output_type": "pyout",
       "prompt_number": 31,
       "text": [
        "nd.array([int32, string], strided_dim<type>)"
       ]
      }
     ],
     "prompt_number": 31
    }
   ],
   "metadata": {}
  }
 ]
}
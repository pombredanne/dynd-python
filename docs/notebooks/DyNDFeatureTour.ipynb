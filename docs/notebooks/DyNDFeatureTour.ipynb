{
 "metadata": {
  "name": "",
  "signature": "sha256:6921cfb28c3333e83bf49334a69bfa1ad054bae8d5f9862935da02b766bc2e07"
 },
 "nbformat": 3,
 "nbformat_minor": 0,
 "worksheets": [
  {
   "cells": [
    {
     "cell_type": "heading",
     "level": 1,
     "metadata": {},
     "source": [
      "DyND Feature Tour"
     ]
    },
    {
     "cell_type": "markdown",
     "metadata": {},
     "source": [
      "DyND is a multi-dimensional array library for Python, available as a preview release, which provides functionality augmenting the NumPy/Matplotlib/SciPy computing stack. As it is a preview release, we are prepared to change anything in the library, and are currently developing it in an incubation form. Over the course of the releases leading up to 1.0, we expect it to become gradually more stable, and encourage people to experiment with the library and peruse the roadmap to get an idea of where things are going.\n",
      "\n",
      "DyND is being developed as a component of Blaze, an ambitious project to evolve the NumPy/SciPy technology stack towards out of core and distributed computation, to become a meeting point for big data and scientific computing algorithms.\n",
      "\n",
      "To get started, after installing the DyND Python bindings using CMake or a conda package, import DyND with the following command. This namespace is designed to always be used as a namespace, and things will not work properly if `import *` is used."
     ]
    },
    {
     "cell_type": "code",
     "collapsed": false,
     "input": [
      "from dynd import nd, ndt"
     ],
     "language": "python",
     "metadata": {},
     "outputs": [],
     "prompt_number": 1
    },
    {
     "cell_type": "markdown",
     "metadata": {},
     "source": [
      "The namespace 'nd' is for array object constructions and algorithms, and 'ndt' is for the type system."
     ]
    },
    {
     "cell_type": "heading",
     "level": 2,
     "metadata": {},
     "source": [
      "Making DyND Arrays"
     ]
    },
    {
     "cell_type": "markdown",
     "metadata": {},
     "source": [
      "The primitive object is `nd.array`, which can be used to create multi-dimensional arrays of various types."
     ]
    },
    {
     "cell_type": "code",
     "collapsed": false,
     "input": [
      "nd.array(3.14)"
     ],
     "language": "python",
     "metadata": {},
     "outputs": [
      {
       "metadata": {},
       "output_type": "pyout",
       "prompt_number": 2,
       "text": [
        "nd.array(3.14,\n",
        "         type=\"float64\")"
       ]
      }
     ],
     "prompt_number": 2
    },
    {
     "cell_type": "code",
     "collapsed": false,
     "input": [
      "nd.array([1,2,3])"
     ],
     "language": "python",
     "metadata": {},
     "outputs": [
      {
       "metadata": {},
       "output_type": "pyout",
       "prompt_number": 3,
       "text": [
        "nd.array([1, 2, 3],\n",
        "         type=\"3 * int32\")"
       ]
      }
     ],
     "prompt_number": 3
    },
    {
     "cell_type": "code",
     "collapsed": false,
     "input": [
      "nd.array([1,2.5,1+3j])"
     ],
     "language": "python",
     "metadata": {},
     "outputs": [
      {
       "metadata": {},
       "output_type": "pyout",
       "prompt_number": 4,
       "text": [
        "nd.array([  (1 + 0j), (2.5 + 0j),   (1 + 3j)],\n",
        "         type=\"3 * complex[float64]\")"
       ]
      }
     ],
     "prompt_number": 4
    },
    {
     "cell_type": "code",
     "collapsed": false,
     "input": [
      "nd.array(True)"
     ],
     "language": "python",
     "metadata": {},
     "outputs": [
      {
       "metadata": {},
       "output_type": "pyout",
       "prompt_number": 5,
       "text": [
        "nd.array(True,\n",
        "         type=\"bool\")"
       ]
      }
     ],
     "prompt_number": 5
    },
    {
     "cell_type": "markdown",
     "metadata": {},
     "source": [
      "In the case of strings, the scalar string constructor can use the internal Python string data by using a type with the right encoding. To respect the immutability of Python strings, the resulting dynd array is itself immutable as well."
     ]
    },
    {
     "cell_type": "code",
     "collapsed": false,
     "input": [
      "nd.array(\"a string\")"
     ],
     "language": "python",
     "metadata": {},
     "outputs": [
      {
       "metadata": {},
       "output_type": "pyout",
       "prompt_number": 6,
       "text": [
        "nd.array(\"a string\",\n",
        "         type=\"string\")"
       ]
      }
     ],
     "prompt_number": 6
    },
    {
     "cell_type": "code",
     "collapsed": false,
     "input": [
      "nd.array(u\"a string\")"
     ],
     "language": "python",
     "metadata": {},
     "outputs": [
      {
       "metadata": {},
       "output_type": "pyout",
       "prompt_number": 7,
       "text": [
        "nd.array(\"a string\",\n",
        "         type=\"string\")"
       ]
      }
     ],
     "prompt_number": 7
    },
    {
     "cell_type": "heading",
     "level": 2,
     "metadata": {},
     "source": [
      "Converting to Python and NumPy Types"
     ]
    },
    {
     "cell_type": "markdown",
     "metadata": {},
     "source": [
      "In many cases you will want to convert a dynd array back into Python objects or into NumPy. There are functions `nd.as_py`  and `nd.as_numpy` to do this."
     ]
    },
    {
     "cell_type": "code",
     "collapsed": false,
     "input": [
      "a = nd.array([1,2.5,1+3j])\n",
      "nd.as_py(a)"
     ],
     "language": "python",
     "metadata": {},
     "outputs": [
      {
       "metadata": {},
       "output_type": "pyout",
       "prompt_number": 8,
       "text": [
        "[(1+0j), (2.5+0j), (1+3j)]"
       ]
      }
     ],
     "prompt_number": 8
    },
    {
     "cell_type": "code",
     "collapsed": false,
     "input": [
      "a = nd.array(\"a string\")\n",
      "nd.as_py(a)"
     ],
     "language": "python",
     "metadata": {},
     "outputs": [
      {
       "metadata": {},
       "output_type": "pyout",
       "prompt_number": 9,
       "text": [
        "'a string'"
       ]
      }
     ],
     "prompt_number": 9
    },
    {
     "cell_type": "code",
     "collapsed": false,
     "input": [
      "a = nd.array([1, 2, 3], dtype=ndt.int16)\n",
      "nd.as_numpy(a)"
     ],
     "language": "python",
     "metadata": {},
     "outputs": [
      {
       "metadata": {},
       "output_type": "pyout",
       "prompt_number": 10,
       "text": [
        "array([1, 2, 3], dtype=int16)"
       ]
      }
     ],
     "prompt_number": 10
    },
    {
     "cell_type": "heading",
     "level": 2,
     "metadata": {},
     "source": [
      "DyND Types"
     ]
    },
    {
     "cell_type": "markdown",
     "metadata": {},
     "source": [
      "Similar to NumPy, there are data types available in the `ndt` namespace. The type of these objects is `ndt.type`, there is no separate set of scalar types as in Numpy."
     ]
    },
    {
     "cell_type": "code",
     "collapsed": false,
     "input": [
      "ndt.bool"
     ],
     "language": "python",
     "metadata": {},
     "outputs": [
      {
       "metadata": {},
       "output_type": "pyout",
       "prompt_number": 11,
       "text": [
        "ndt.bool"
       ]
      }
     ],
     "prompt_number": 11
    },
    {
     "cell_type": "code",
     "collapsed": false,
     "input": [
      "ndt.int32"
     ],
     "language": "python",
     "metadata": {},
     "outputs": [
      {
       "metadata": {},
       "output_type": "pyout",
       "prompt_number": 12,
       "text": [
        "ndt.int32"
       ]
      }
     ],
     "prompt_number": 12
    },
    {
     "cell_type": "code",
     "collapsed": false,
     "input": [
      "ndt.complex_float64"
     ],
     "language": "python",
     "metadata": {},
     "outputs": [
      {
       "metadata": {},
       "output_type": "pyout",
       "prompt_number": 13,
       "text": [
        "ndt.complex_float64"
       ]
      }
     ],
     "prompt_number": 13
    },
    {
     "cell_type": "code",
     "collapsed": false,
     "input": [
      "ndt.complex128"
     ],
     "language": "python",
     "metadata": {},
     "outputs": [
      {
       "metadata": {},
       "output_type": "pyout",
       "prompt_number": 14,
       "text": [
        "ndt.complex_float64"
       ]
      }
     ],
     "prompt_number": 14
    },
    {
     "cell_type": "markdown",
     "metadata": {},
     "source": [
      "DyND understands a subset of the Blaze datashape language (http://blaze.pydata.org/docs/datashape.html), which is used when constructing dynd types from strings."
     ]
    },
    {
     "cell_type": "code",
     "collapsed": false,
     "input": [
      "ndt.type('float32')"
     ],
     "language": "python",
     "metadata": {},
     "outputs": [
      {
       "metadata": {},
       "output_type": "pyout",
       "prompt_number": 15,
       "text": [
        "ndt.float32"
       ]
      }
     ],
     "prompt_number": 15
    },
    {
     "cell_type": "code",
     "collapsed": false,
     "input": [
      "ndt.type('Fixed * Fixed * float64')"
     ],
     "language": "python",
     "metadata": {},
     "outputs": [
      {
       "metadata": {},
       "output_type": "pyout",
       "prompt_number": 17,
       "text": [
        "ndt.type(\"Fixed * Fixed * float64\")"
       ]
      }
     ],
     "prompt_number": 17
    },
    {
     "cell_type": "code",
     "collapsed": false,
     "input": [
      "ndt.type('{x: int32, y: string, z: date}')"
     ],
     "language": "python",
     "metadata": {},
     "outputs": [
      {
       "metadata": {},
       "output_type": "pyout",
       "prompt_number": 18,
       "text": [
        "ndt.type(\"{x : int32, y : string, z : date}\")"
       ]
      }
     ],
     "prompt_number": 18
    },
    {
     "cell_type": "markdown",
     "metadata": {},
     "source": [
      "For constructing more complicated types, the current preview release provides `ndt.make_*` functions which can be used."
     ]
    },
    {
     "cell_type": "code",
     "collapsed": false,
     "input": [
      "ndt.make_byteswap(ndt.int32)"
     ],
     "language": "python",
     "metadata": {},
     "outputs": [
      {
       "metadata": {},
       "output_type": "pyout",
       "prompt_number": 19,
       "text": [
        "ndt.type(\"byteswap[int32]\")"
       ]
      }
     ],
     "prompt_number": 19
    },
    {
     "cell_type": "heading",
     "level": 2,
     "metadata": {},
     "source": [
      "Casting Array Types"
     ]
    },
    {
     "cell_type": "markdown",
     "metadata": {},
     "source": [
      "One can convert arrays from one type to another using the `ucast` method. This casts the dtype, which is the array's type after all the array dimensions have been stripped from the front. Note how this casting allows floating point numbers that are actually integers to be converted without complaining."
     ]
    },
    {
     "cell_type": "code",
     "collapsed": false,
     "input": [
      "a = nd.array([1.0, 2.0, 3.0])\n",
      "a.ucast(ndt.int16)"
     ],
     "language": "python",
     "metadata": {},
     "outputs": [
      {
       "metadata": {},
       "output_type": "pyout",
       "prompt_number": 20,
       "text": [
        "nd.array([1, 2, 3],\n",
        "         type=\"3 * convert[to=int16, from=float64]\")"
       ]
      }
     ],
     "prompt_number": 20
    },
    {
     "cell_type": "markdown",
     "metadata": {},
     "source": [
      "What it is doing is checking that the values themselves can be converted. If we add a fraction part to one of the elements, it fails."
     ]
    },
    {
     "cell_type": "code",
     "collapsed": false,
     "input": [
      "a = nd.array([1.0, 2.1, 3.0])\n",
      "print(a.ucast(ndt.int16).eval())"
     ],
     "language": "python",
     "metadata": {},
     "outputs": [
      {
       "ename": "RuntimeError",
       "evalue": "fractional part lost while assigning float64 value 2.1 to int16",
       "output_type": "pyerr",
       "traceback": [
        "\u001b[1;31m---------------------------------------------------------------------------\u001b[0m\n\u001b[1;31mRuntimeError\u001b[0m                              Traceback (most recent call last)",
        "\u001b[1;32m<ipython-input-21-618cc2a84645>\u001b[0m in \u001b[0;36m<module>\u001b[1;34m()\u001b[0m\n\u001b[0;32m      1\u001b[0m \u001b[0ma\u001b[0m \u001b[1;33m=\u001b[0m \u001b[0mnd\u001b[0m\u001b[1;33m.\u001b[0m\u001b[0marray\u001b[0m\u001b[1;33m(\u001b[0m\u001b[1;33m[\u001b[0m\u001b[1;36m1.0\u001b[0m\u001b[1;33m,\u001b[0m \u001b[1;36m2.1\u001b[0m\u001b[1;33m,\u001b[0m \u001b[1;36m3.0\u001b[0m\u001b[1;33m]\u001b[0m\u001b[1;33m)\u001b[0m\u001b[1;33m\u001b[0m\u001b[0m\n\u001b[1;32m----> 2\u001b[1;33m \u001b[0mprint\u001b[0m\u001b[1;33m(\u001b[0m\u001b[0ma\u001b[0m\u001b[1;33m.\u001b[0m\u001b[0mucast\u001b[0m\u001b[1;33m(\u001b[0m\u001b[0mndt\u001b[0m\u001b[1;33m.\u001b[0m\u001b[0mint16\u001b[0m\u001b[1;33m)\u001b[0m\u001b[1;33m.\u001b[0m\u001b[0meval\u001b[0m\u001b[1;33m(\u001b[0m\u001b[1;33m)\u001b[0m\u001b[1;33m)\u001b[0m\u001b[1;33m\u001b[0m\u001b[0m\n\u001b[0m",
        "\u001b[1;32mC:\\Users\\mwiebe\\Anaconda\\lib\\site-packages\\dynd\\_pydynd.pyd\u001b[0m in \u001b[0;36mdynd._pydynd.w_array.eval (dynd._pydynd.cxx:7952)\u001b[1;34m()\u001b[0m\n",
        "\u001b[1;31mRuntimeError\u001b[0m: fractional part lost while assigning float64 value 2.1 to int16"
       ]
      }
     ],
     "prompt_number": 21
    },
    {
     "cell_type": "markdown",
     "metadata": {},
     "source": [
      "Similarly, if the conversion would overflow, an error is also raised."
     ]
    },
    {
     "cell_type": "code",
     "collapsed": false,
     "input": [
      "a = nd.array([1.0, 33000, 3.0])\n",
      "print(a.ucast(ndt.int16).eval())"
     ],
     "language": "python",
     "metadata": {},
     "outputs": [
      {
       "ename": "OverflowError",
       "evalue": "overflow while assigning float64 value 33000 to int16",
       "output_type": "pyerr",
       "traceback": [
        "\u001b[1;31m---------------------------------------------------------------------------\u001b[0m\n\u001b[1;31mOverflowError\u001b[0m                             Traceback (most recent call last)",
        "\u001b[1;32m<ipython-input-22-307786d88d86>\u001b[0m in \u001b[0;36m<module>\u001b[1;34m()\u001b[0m\n\u001b[0;32m      1\u001b[0m \u001b[0ma\u001b[0m \u001b[1;33m=\u001b[0m \u001b[0mnd\u001b[0m\u001b[1;33m.\u001b[0m\u001b[0marray\u001b[0m\u001b[1;33m(\u001b[0m\u001b[1;33m[\u001b[0m\u001b[1;36m1.0\u001b[0m\u001b[1;33m,\u001b[0m \u001b[1;36m33000\u001b[0m\u001b[1;33m,\u001b[0m \u001b[1;36m3.0\u001b[0m\u001b[1;33m]\u001b[0m\u001b[1;33m)\u001b[0m\u001b[1;33m\u001b[0m\u001b[0m\n\u001b[1;32m----> 2\u001b[1;33m \u001b[0mprint\u001b[0m\u001b[1;33m(\u001b[0m\u001b[0ma\u001b[0m\u001b[1;33m.\u001b[0m\u001b[0mucast\u001b[0m\u001b[1;33m(\u001b[0m\u001b[0mndt\u001b[0m\u001b[1;33m.\u001b[0m\u001b[0mint16\u001b[0m\u001b[1;33m)\u001b[0m\u001b[1;33m.\u001b[0m\u001b[0meval\u001b[0m\u001b[1;33m(\u001b[0m\u001b[1;33m)\u001b[0m\u001b[1;33m)\u001b[0m\u001b[1;33m\u001b[0m\u001b[0m\n\u001b[0m",
        "\u001b[1;32mC:\\Users\\mwiebe\\Anaconda\\lib\\site-packages\\dynd\\_pydynd.pyd\u001b[0m in \u001b[0;36mdynd._pydynd.w_array.eval (dynd._pydynd.cxx:7952)\u001b[1;34m()\u001b[0m\n",
        "\u001b[1;31mOverflowError\u001b[0m: overflow while assigning float64 value 33000 to int16"
       ]
      }
     ],
     "prompt_number": 22
    },
    {
     "cell_type": "markdown",
     "metadata": {},
     "source": [
      "The mode used for error checking can be customized with a parameter to the `ucast` method."
     ]
    },
    {
     "cell_type": "code",
     "collapsed": false,
     "input": [
      "a = nd.array([1.0, 3.1, 3.0])\n",
      "a.ucast(ndt.int16, errmode='overflow')"
     ],
     "language": "python",
     "metadata": {},
     "outputs": [
      {
       "ename": "TypeError",
       "evalue": "ucast() got an unexpected keyword argument 'errmode'",
       "output_type": "pyerr",
       "traceback": [
        "\u001b[1;31m---------------------------------------------------------------------------\u001b[0m\n\u001b[1;31mTypeError\u001b[0m                                 Traceback (most recent call last)",
        "\u001b[1;32m<ipython-input-23-4f5c68dc3847>\u001b[0m in \u001b[0;36m<module>\u001b[1;34m()\u001b[0m\n\u001b[0;32m      1\u001b[0m \u001b[0ma\u001b[0m \u001b[1;33m=\u001b[0m \u001b[0mnd\u001b[0m\u001b[1;33m.\u001b[0m\u001b[0marray\u001b[0m\u001b[1;33m(\u001b[0m\u001b[1;33m[\u001b[0m\u001b[1;36m1.0\u001b[0m\u001b[1;33m,\u001b[0m \u001b[1;36m3.1\u001b[0m\u001b[1;33m,\u001b[0m \u001b[1;36m3.0\u001b[0m\u001b[1;33m]\u001b[0m\u001b[1;33m)\u001b[0m\u001b[1;33m\u001b[0m\u001b[0m\n\u001b[1;32m----> 2\u001b[1;33m \u001b[0ma\u001b[0m\u001b[1;33m.\u001b[0m\u001b[0mucast\u001b[0m\u001b[1;33m(\u001b[0m\u001b[0mndt\u001b[0m\u001b[1;33m.\u001b[0m\u001b[0mint16\u001b[0m\u001b[1;33m,\u001b[0m \u001b[0merrmode\u001b[0m\u001b[1;33m=\u001b[0m\u001b[1;34m'overflow'\u001b[0m\u001b[1;33m)\u001b[0m\u001b[1;33m\u001b[0m\u001b[0m\n\u001b[0m",
        "\u001b[1;32mC:\\Users\\mwiebe\\Anaconda\\lib\\site-packages\\dynd\\_pydynd.pyd\u001b[0m in \u001b[0;36mdynd._pydynd.w_array.ucast (dynd._pydynd.cxx:8465)\u001b[1;34m()\u001b[0m\n",
        "\u001b[1;31mTypeError\u001b[0m: ucast() got an unexpected keyword argument 'errmode'"
       ]
      }
     ],
     "prompt_number": 23
    },
    {
     "cell_type": "heading",
     "level": 2,
     "metadata": {},
     "source": [
      "Interoperability with NumPy"
     ]
    },
    {
     "cell_type": "markdown",
     "metadata": {},
     "source": [
      "DyND has the ability to seamlessly move data to/from Numpy when the data can be represented in both systems. This allows you to experiment with new features in an existing Numpy/Scipy codebase, without requiring any new redundant copies of your data in memory."
     ]
    },
    {
     "cell_type": "code",
     "collapsed": false,
     "input": [
      "import numpy as np"
     ],
     "language": "python",
     "metadata": {},
     "outputs": [],
     "prompt_number": 24
    },
    {
     "cell_type": "markdown",
     "metadata": {},
     "source": [
      "Numpy arrays can be passed as parameters to DyND functions."
     ]
    },
    {
     "cell_type": "code",
     "collapsed": false,
     "input": [
      "a = np.arange(10)\n",
      "print(np.sum(a))\n",
      "# print nd.sum(a)"
     ],
     "language": "python",
     "metadata": {},
     "outputs": [
      {
       "output_type": "stream",
       "stream": "stdout",
       "text": [
        "45\n"
       ]
      }
     ],
     "prompt_number": 25
    },
    {
     "cell_type": "markdown",
     "metadata": {},
     "source": [
      "DyND arrays can be passed as parameters to NumPy functions. DyND's arrays provide the PEP3118 buffer protocol when its data is compatible."
     ]
    },
    {
     "cell_type": "code",
     "collapsed": false,
     "input": [
      "a = nd.array(np.arange(6).reshape(2,3))\n",
      "print(np.sum(a, axis=1))\n",
      "# print nd.sum(a, axis=1)"
     ],
     "language": "python",
     "metadata": {},
     "outputs": [
      {
       "output_type": "stream",
       "stream": "stdout",
       "text": [
        "[ 3 12]\n"
       ]
      }
     ],
     "prompt_number": 26
    },
    {
     "cell_type": "markdown",
     "metadata": {},
     "source": [
      "In addition to the `string` data type, DyND has a `fixedstring` type which supports strings in the same form as numpy."
     ]
    },
    {
     "cell_type": "code",
     "collapsed": false,
     "input": [
      "a = np.array([\"testing\", \"one\", \"two\", \"three\"], dtype='U16')\n",
      "nd.array(a)"
     ],
     "language": "python",
     "metadata": {},
     "outputs": [
      {
       "metadata": {},
       "output_type": "pyout",
       "prompt_number": 27,
       "text": [
        "nd.array([\"testing\",     \"one\",     \"two\",   \"three\"],\n",
        "         type=\"4 * string[16,'utf32']\")"
       ]
      }
     ],
     "prompt_number": 27
    },
    {
     "cell_type": "heading",
     "level": 2,
     "metadata": {},
     "source": [
      "Elementwise GFuncs"
     ]
    },
    {
     "cell_type": "markdown",
     "metadata": {},
     "source": [
      "(Note: these are not presently working) DyND has a very preliminary version of gfuncs, starting with elementwise operations and reductions. Elementwise gfuncs are very similar to Numpy ufuncs, but in their current form they do not yet do implicit type conversions, so to call a gfunc you must make the types match a kernel signature exactly. There is a small collection of gfuncs included in this preview release."
     ]
    },
    {
     "cell_type": "code",
     "collapsed": false,
     "input": [
      "nd.maximum(3,10)"
     ],
     "language": "python",
     "metadata": {},
     "outputs": []
    },
    {
     "cell_type": "markdown",
     "metadata": {},
     "source": [
      "Broadcasting of the operands works like it does in Numpy."
     ]
    },
    {
     "cell_type": "code",
     "collapsed": false,
     "input": [
      "nd.maximum([1,3,5,9,4], 5)"
     ],
     "language": "python",
     "metadata": {},
     "outputs": []
    },
    {
     "cell_type": "code",
     "collapsed": false,
     "input": [
      "nd.maximum([[1,5],[10,2],[4,4]], [3,3])"
     ],
     "language": "python",
     "metadata": {},
     "outputs": []
    },
    {
     "cell_type": "heading",
     "level": 2,
     "metadata": {},
     "source": [
      "Elementwise Reduction GFuncs"
     ]
    },
    {
     "cell_type": "markdown",
     "metadata": {},
     "source": [
      "Elementwise reduction gfuncs behave similarly to the ones in Numpy."
     ]
    },
    {
     "cell_type": "code",
     "collapsed": false,
     "input": [
      "nd.max([[1,5],[10,1],[3,3]])"
     ],
     "language": "python",
     "metadata": {},
     "outputs": []
    },
    {
     "cell_type": "code",
     "collapsed": false,
     "input": [
      "nd.max([[1,5],[10,1],[3,3]], axis=1)"
     ],
     "language": "python",
     "metadata": {},
     "outputs": []
    },
    {
     "cell_type": "code",
     "collapsed": false,
     "input": [
      "nd.max([[1,5],[10,1],[3,3]], axis=1, keepdims=True)"
     ],
     "language": "python",
     "metadata": {},
     "outputs": []
    },
    {
     "cell_type": "heading",
     "level": 2,
     "metadata": {},
     "source": [
      "Groupby Reductions"
     ]
    },
    {
     "cell_type": "markdown",
     "metadata": {},
     "source": [
      "DyND has a simple `nd.groupby` function which, when combined with elementwise reductions, can be used for groupby reductions."
     ]
    },
    {
     "cell_type": "code",
     "collapsed": false,
     "input": [
      "import numpy as np\n",
      "data = np.array([0, 1, 2, 3, 4, 5, 6, 7])\n",
      "by = np.array(['a', 'a', 'c', 'a', 'b', 'c', 'a', 'd'])\n",
      "groups = ndt.factor_categorical(by)\n",
      "gb = nd.groupby(data, by, groups)\n",
      "print('%r' % gb)"
     ],
     "language": "python",
     "metadata": {},
     "outputs": [
      {
       "output_type": "stream",
       "stream": "stdout",
       "text": [
        "nd.array([[0, 1, 3, 6],          [4],       [2, 5],          [7]],\n",
        "         type=\"groupby<values=strided * int32, by=strided * convert[to=categorical[string[1,'utf32'], [\"a\", \"b\", \"c\", \"d\"]], from=string[1,'utf32']]>\")\n"
       ]
      }
     ],
     "prompt_number": 22
    },
    {
     "cell_type": "heading",
     "level": 2,
     "metadata": {},
     "source": [
      "Deferred Evaluation"
     ]
    },
    {
     "cell_type": "markdown",
     "metadata": {},
     "source": [
      "(Note: these particular examples are not working presently) Operations in DyND which produce `array` results are evaluated in a deferred manner. As a result, an `array` may contain an arbitrary expression tree representing the computations that led up to it."
     ]
    },
    {
     "cell_type": "code",
     "collapsed": false,
     "input": [
      "a = nd.array(3)\n",
      "b = nd.array([3., 4.])\n",
      "c = a * b"
     ],
     "language": "python",
     "metadata": {},
     "outputs": []
    },
    {
     "cell_type": "code",
     "collapsed": false,
     "input": [
      "c.debug_dump()"
     ],
     "language": "python",
     "metadata": {},
     "outputs": []
    },
    {
     "cell_type": "markdown",
     "metadata": {},
     "source": [
      "The effect of this is that `c` is a view of the expression `a + b`, and changing the value of elements in `b` changes the value of `c`."
     ]
    },
    {
     "cell_type": "code",
     "collapsed": false,
     "input": [
      "a = nd.array(3)\n",
      "b = nd.array([3., 4.])\n",
      "c = a * b\n",
      "print c\n",
      "b[1].val_assign(50)\n",
      "print c"
     ],
     "language": "python",
     "metadata": {},
     "outputs": []
    },
    {
     "cell_type": "markdown",
     "metadata": {},
     "source": [
      "Only a small subset of possible expression trees are currently evaluated by the system. This will change as the evaluation subsystem is fully implemented."
     ]
    },
    {
     "cell_type": "code",
     "collapsed": false,
     "input": [
      "a = nd.array(3)\n",
      "b = nd.array([0, 3.1, 5])"
     ],
     "language": "python",
     "metadata": {},
     "outputs": []
    },
    {
     "cell_type": "code",
     "collapsed": false,
     "input": [
      "print a + b"
     ],
     "language": "python",
     "metadata": {},
     "outputs": []
    },
    {
     "cell_type": "code",
     "collapsed": false,
     "input": [
      "print (a + b) + 2"
     ],
     "language": "python",
     "metadata": {},
     "outputs": []
    },
    {
     "cell_type": "heading",
     "level": 2,
     "metadata": {},
     "source": [
      "Evaluating Lazy Expression Arrays"
     ]
    },
    {
     "cell_type": "markdown",
     "metadata": {},
     "source": [
      "To get a strided ndarray from an expression node, use one of the functions `vals`, `eval_immutable`, or `eval_copy`. The function `vals` gives you the values in any way it chooses, usually doing as little work as possible. The function `eval_immutable` guarantees that the result is an immutable array, so will make copies where data is not already immutable. The function `eval_copy` guarantees that the result is always a fresh copy."
     ]
    },
    {
     "cell_type": "code",
     "collapsed": false,
     "input": [
      "a = nd.array(3)\n",
      "b = nd.array([0, 3.1, 5])\n",
      "print (a + b).vals()\n",
      "print (a + b).eval_immutable()\n",
      "print (a + b).eval_copy()"
     ],
     "language": "python",
     "metadata": {},
     "outputs": []
    },
    {
     "cell_type": "heading",
     "level": 2,
     "metadata": {},
     "source": [
      "Creating New GFuncs"
     ]
    },
    {
     "cell_type": "markdown",
     "metadata": {},
     "source": [
      "In Numpy, ufuncs are created using the C API, specifying a set of builtin type signatures and corresponding kernel functions. In BlazeDyND, gfuncs are created in Python by creating an empty gfunc of the desired type, such as elementwise, then adding kernels defined through ctypes.\n",
      "\n",
      "To demonstrate this, we use a few kernels from the `basic_kernels` shared library included in BlazeDyND. These kernels are already imported, and available in the `nd.elwise_kernels` namespace."
     ]
    },
    {
     "cell_type": "code",
     "collapsed": false,
     "input": [
      "myfunc = nd.gfunc.elwise('myfunc')\n",
      "myfunc.debug_dump()"
     ],
     "language": "python",
     "metadata": {},
     "outputs": []
    },
    {
     "cell_type": "markdown",
     "metadata": {},
     "source": [
      "To demonstrate the dispatch mechanism, we use different operations for int and float types."
     ]
    },
    {
     "cell_type": "code",
     "collapsed": false,
     "input": [
      "myfunc.add_kernel(nd.elwise_kernels.add_int32)\n",
      "myfunc.add_kernel(nd.elwise_kernels.multiply_float64)\n",
      "myfunc.debug_dump()"
     ],
     "language": "python",
     "metadata": {},
     "outputs": []
    },
    {
     "cell_type": "code",
     "collapsed": false,
     "input": [
      "print myfunc([1,2,3,4,5], 2)\n",
      "print myfunc([1.,2.,3.,4.,5.], 2.)"
     ],
     "language": "python",
     "metadata": {},
     "outputs": []
    },
    {
     "cell_type": "markdown",
     "metadata": {},
     "source": [
      "The same can be done to make an elementwise reduction."
     ]
    },
    {
     "cell_type": "code",
     "collapsed": false,
     "input": [
      "myred = nd.gfunc.elwise_reduce('myred')\n",
      "myred.add_kernel(nd.elwise_kernels.add_int32, commutative=True, associative=True)\n",
      "myred.add_kernel(nd.elwise_kernels.multiply_float64, commutative=True, associative=True)"
     ],
     "language": "python",
     "metadata": {},
     "outputs": []
    },
    {
     "cell_type": "code",
     "collapsed": false,
     "input": [
      "print myred([1,2,3,4,5])\n",
      "print myred([1.,2.,3.,4.,5.])"
     ],
     "language": "python",
     "metadata": {},
     "outputs": []
    }
   ],
   "metadata": {}
  }
 ]
}

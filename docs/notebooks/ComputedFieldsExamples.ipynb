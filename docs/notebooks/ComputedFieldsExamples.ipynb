{
 "metadata": {
  "name": "",
  "signature": "sha256:09de4ca052488e3df03e98b48b5ef263f6dbf7212960951d5f97e7ed0d07e77c"
 },
 "nbformat": 3,
 "nbformat_minor": 0,
 "worksheets": [
  {
   "cells": [
    {
     "cell_type": "markdown",
     "metadata": {},
     "source": [
      "## Computed Fields in Blaze/DyND\n",
      "\n",
      "This demo shows a mechanism for creating computed fields, creating 'full name' and 'age' fields.\n",
      "\n",
      "To start, we import the DyND library."
     ]
    },
    {
     "cell_type": "code",
     "collapsed": false,
     "input": [
      "from dynd import nd, ndt"
     ],
     "language": "python",
     "metadata": {},
     "outputs": [],
     "prompt_number": 13
    },
    {
     "cell_type": "markdown",
     "metadata": {},
     "source": [
      "### Creating a Table\n",
      "\n",
      "Let's create a table with name and birthday fields."
     ]
    },
    {
     "cell_type": "code",
     "collapsed": false,
     "input": [
      "a = nd.array([('Smith', 'John', '1979-01-22'),\n",
      "                ('Katz', 'Barbara', '1990-12-03'),\n",
      "                ('Barker', 'Henry', '1979-06-12')],\n",
      "            dtype='{lastname: string[32], firstname: string[32], birthday: date}', access='rw')"
     ],
     "language": "python",
     "metadata": {},
     "outputs": [],
     "prompt_number": 14
    },
    {
     "cell_type": "code",
     "collapsed": false,
     "input": [
      "a"
     ],
     "language": "python",
     "metadata": {},
     "outputs": [
      {
       "metadata": {},
       "output_type": "pyout",
       "prompt_number": 15,
       "text": [
        "nd.array([[\"Smith\", \"John\", 1979-01-22],\n",
        "          [\"Katz\", \"Barbara\", 1990-12-03],\n",
        "          [\"Barker\", \"Henry\", 1979-06-12]],\n",
        "         type=\"strided * {lastname : string[32], firstname : string[32], birthday : date}\")"
       ]
      }
     ],
     "prompt_number": 15
    },
    {
     "cell_type": "markdown",
     "metadata": {},
     "source": [
      "Because we used fixed-buffer strings, we can reassign their values and convert them into NumPy."
     ]
    },
    {
     "cell_type": "code",
     "collapsed": false,
     "input": [
      "a[2].firstname = 'George'"
     ],
     "language": "python",
     "metadata": {},
     "outputs": [],
     "prompt_number": 16
    },
    {
     "cell_type": "code",
     "collapsed": false,
     "input": [
      "nd.as_numpy(a, allow_copy=True)"
     ],
     "language": "python",
     "metadata": {},
     "outputs": [
      {
       "ename": "TypeError",
       "evalue": "Cannot instantiate arrfunc with signature (date) -> int64 with types (date) -> unaligned[int64]",
       "output_type": "pyerr",
       "traceback": [
        "\u001b[1;31m---------------------------------------------------------------------------\u001b[0m\n\u001b[1;31mTypeError\u001b[0m                                 Traceback (most recent call last)",
        "\u001b[1;32m<ipython-input-17-bd6d5c88e235>\u001b[0m in \u001b[0;36m<module>\u001b[1;34m()\u001b[0m\n\u001b[1;32m----> 1\u001b[1;33m \u001b[0mnd\u001b[0m\u001b[1;33m.\u001b[0m\u001b[0mas_numpy\u001b[0m\u001b[1;33m(\u001b[0m\u001b[0ma\u001b[0m\u001b[1;33m,\u001b[0m \u001b[0mallow_copy\u001b[0m\u001b[1;33m=\u001b[0m\u001b[1;32mTrue\u001b[0m\u001b[1;33m)\u001b[0m\u001b[1;33m\u001b[0m\u001b[0m\n\u001b[0m",
        "\u001b[1;32mC:\\Users\\mwiebe\\Anaconda\\lib\\site-packages\\dynd\\_pydynd.pyd\u001b[0m in \u001b[0;36mdynd._pydynd.as_numpy (dynd._pydynd.cxx:11987)\u001b[1;34m()\u001b[0m\n",
        "\u001b[1;31mTypeError\u001b[0m: Cannot instantiate arrfunc with signature (date) -> int64 with types (date) -> unaligned[int64]"
       ]
      }
     ],
     "prompt_number": 17
    },
    {
     "cell_type": "markdown",
     "metadata": {},
     "source": [
      "### Adding Computed Fields\n",
      "\n",
      "Now let's add our two computed fields.\n",
      "\n",
      "The first one, 'fullname', is simple, we simply concatenate the first and last name strings together. The second one, 'age', is a little trickier. There doesn't seem to be a simple one-liner for this, and the code here will crash on February 29th, but hopefully it demonstrates the idea nicely."
     ]
    },
    {
     "cell_type": "code",
     "collapsed": false,
     "input": [
      "b = nd.add_computed_fields(a,\n",
      "    [('fullname', ndt.string,\n",
      "        'firstname + \" \" + lastname'),\n",
      "     ('age', ndt.int32,\n",
      "        'date.today().year - birthday.year - 1 + (date.today().replace(year=birthday.year) >= birthday)')])"
     ],
     "language": "python",
     "metadata": {},
     "outputs": [],
     "prompt_number": 18
    },
    {
     "cell_type": "markdown",
     "metadata": {},
     "source": [
      "Now 'b' is a deferred evaluation object, with a fairly complicated dynd type. You don't need to know what's going on in the type printout, but here it is for show."
     ]
    },
    {
     "cell_type": "code",
     "collapsed": false,
     "input": [
      "nd.type_of(b)"
     ],
     "language": "python",
     "metadata": {},
     "outputs": [
      {
       "metadata": {},
       "output_type": "pyout",
       "prompt_number": 19,
       "text": [
        "ndt.type(\"strided * expr<c{lastname : string[32], firstname : string[32], birthday : date, fullname : string, age : int32}, op0={lastname : string[32], firstname : string[32], birthday : date}, expr=computed_field_expr(op0)>\")"
       ]
      }
     ],
     "prompt_number": 19
    },
    {
     "cell_type": "markdown",
     "metadata": {},
     "source": [
      "We can evaluate back to an object with no deferred expression using the 'eval' method."
     ]
    },
    {
     "cell_type": "code",
     "collapsed": false,
     "input": [
      "b.eval()"
     ],
     "language": "python",
     "metadata": {},
     "outputs": [
      {
       "metadata": {},
       "output_type": "pyout",
       "prompt_number": 20,
       "text": [
        "nd.array([[\"Smith\", \"John\", 1979-01-22, \"John Smith\", 35],\n",
        "          [\"Katz\", \"Barbara\", 1990-12-03, \"Barbara Katz\", 23],\n",
        "          [\"Barker\", \"George\", 1979-06-12, \"George Barker\", 35]],\n",
        "         type=\"strided * c{lastname : string[32], firstname : string[32], birthday : date, fullname : string, age : int32}\")"
       ]
      }
     ],
     "prompt_number": 20
    },
    {
     "cell_type": "markdown",
     "metadata": {},
     "source": [
      "### Testing the Deferred Evaluation\n",
      "\n",
      "Finally, let's modify values in 'a', and see how that affects 'b'."
     ]
    },
    {
     "cell_type": "code",
     "collapsed": false,
     "input": [
      "print(nd.as_py(b[1]))\n",
      "print(nd.as_py(b.age))"
     ],
     "language": "python",
     "metadata": {},
     "outputs": [
      {
       "output_type": "stream",
       "stream": "stdout",
       "text": [
        "{'age': 23, 'fullname': 'Barbara Katz', 'birthday': datetime.date(1990, 12, 3), 'firstname': 'Barbara', 'lastname': 'Katz'}\n",
        "[35, 23, 35]\n"
       ]
      }
     ],
     "prompt_number": 21
    },
    {
     "cell_type": "code",
     "collapsed": false,
     "input": [
      "a[1] = ['Ford', 'Carol', '1967-05-12']"
     ],
     "language": "python",
     "metadata": {},
     "outputs": [],
     "prompt_number": 22
    },
    {
     "cell_type": "code",
     "collapsed": false,
     "input": [
      "print(nd.as_py(b[1]))\n",
      "print(nd.as_py(b.age))"
     ],
     "language": "python",
     "metadata": {},
     "outputs": [
      {
       "output_type": "stream",
       "stream": "stdout",
       "text": [
        "{'age': 23, 'fullname': 'Barbara Katz', 'birthday': datetime.date(1990, 12, 3), 'firstname': 'Barbara', 'lastname': 'Katz'}\n",
        "[35, 23, 35]\n"
       ]
      }
     ],
     "prompt_number": 23
    },
    {
     "cell_type": "code",
     "collapsed": false,
     "input": [],
     "language": "python",
     "metadata": {},
     "outputs": []
    }
   ],
   "metadata": {}
  }
 ]
}
{
 "metadata": {
  "name": "",
  "signature": "sha256:59d5d6f4be6a184d13faea3e888d526f35876a3a49d4feb01c62a7e6e4682589"
 },
 "nbformat": 3,
 "nbformat_minor": 0,
 "worksheets": [
  {
   "cells": [
    {
     "cell_type": "code",
     "collapsed": false,
     "input": [
      "import sys, dynd\n",
      "print('Python %s' % sys.version)\n",
      "print('DyND Python Bindings %s' % dynd.__version__)\n",
      "print('LibDyND %s' % dynd.__libdynd_version__)"
     ],
     "language": "python",
     "metadata": {},
     "outputs": [
      {
       "output_type": "stream",
       "stream": "stdout",
       "text": [
        "Python 3.3.3 |Continuum Analytics, Inc.| (default, Dec  3 2013, 11:56:40) [MSC v.1600 64 bit (AMD64)]\n",
        "DyND Python Bindings 0.6.5.post024.g5f07540\n",
        "LibDyND 0.6.5.post150.g8e9d756\n"
       ]
      }
     ],
     "prompt_number": 1
    },
    {
     "cell_type": "markdown",
     "metadata": {},
     "source": [
      "Standard dynd import: The `nd` namespace is for array operations, and the `ndt` namespace is for types. We'll import numpy as well to show some comparisons."
     ]
    },
    {
     "cell_type": "code",
     "collapsed": false,
     "input": [
      "from dynd import nd, ndt\n",
      "import numpy as np"
     ],
     "language": "python",
     "metadata": {},
     "outputs": [],
     "prompt_number": 2
    },
    {
     "cell_type": "markdown",
     "metadata": {},
     "source": [
      "---"
     ]
    },
    {
     "cell_type": "markdown",
     "metadata": {},
     "source": [
      "Basic usage is quite similar to numpy, the data type is deduced from python types when converting."
     ]
    },
    {
     "cell_type": "code",
     "collapsed": false,
     "input": [
      "nd.array([1,2,3,4,5]) # dynd"
     ],
     "language": "python",
     "metadata": {},
     "outputs": [
      {
       "metadata": {},
       "output_type": "pyout",
       "prompt_number": 3,
       "text": [
        "nd.array([1, 2, 3, 4, 5],\n",
        "         type=\"5 * int32\")"
       ]
      }
     ],
     "prompt_number": 3
    },
    {
     "cell_type": "code",
     "collapsed": false,
     "input": [
      "np.array([1,2,3,4,5]) # numpy"
     ],
     "language": "python",
     "metadata": {},
     "outputs": [
      {
       "metadata": {},
       "output_type": "pyout",
       "prompt_number": 4,
       "text": [
        "array([1, 2, 3, 4, 5])"
       ]
      }
     ],
     "prompt_number": 4
    },
    {
     "cell_type": "code",
     "collapsed": false,
     "input": [
      "nd.array([[1, 1.5], [-1.5, 1]]) # dynd"
     ],
     "language": "python",
     "metadata": {},
     "outputs": [
      {
       "metadata": {},
       "output_type": "pyout",
       "prompt_number": 5,
       "text": [
        "nd.array([  [  1, 1.5], [-1.5,    1]],\n",
        "         type=\"2 * 2 * float64\")"
       ]
      }
     ],
     "prompt_number": 5
    },
    {
     "cell_type": "code",
     "collapsed": false,
     "input": [
      "np.array([[1, 1.5], [-1.5, 1]]) # numpy"
     ],
     "language": "python",
     "metadata": {},
     "outputs": [
      {
       "metadata": {},
       "output_type": "pyout",
       "prompt_number": 6,
       "text": [
        "array([[ 1. ,  1.5],\n",
        "       [-1.5,  1. ]])"
       ]
      }
     ],
     "prompt_number": 6
    },
    {
     "cell_type": "markdown",
     "metadata": {},
     "source": [
      "You can see some differences with numpy at this level already, such as the array dimensionality being included in the type."
     ]
    },
    {
     "cell_type": "markdown",
     "metadata": {},
     "source": [
      "---"
     ]
    },
    {
     "cell_type": "markdown",
     "metadata": {},
     "source": [
      "The default string is variable-length in dynd. In numpy, you either choose a maximum size, or use object arrays with lower performance."
     ]
    },
    {
     "cell_type": "code",
     "collapsed": false,
     "input": [
      "nd.array([\"this\", \"is\", \"a\", \"test\"]) # dynd"
     ],
     "language": "python",
     "metadata": {},
     "outputs": [
      {
       "metadata": {},
       "output_type": "pyout",
       "prompt_number": 7,
       "text": [
        "nd.array([\"this\",   \"is\",    \"a\", \"test\"],\n",
        "         type=\"4 * string\")"
       ]
      }
     ],
     "prompt_number": 7
    },
    {
     "cell_type": "code",
     "collapsed": false,
     "input": [
      "np.array([\"this\", \"is\", \"a\", \"test\"]) # numpy"
     ],
     "language": "python",
     "metadata": {},
     "outputs": [
      {
       "metadata": {},
       "output_type": "pyout",
       "prompt_number": 8,
       "text": [
        "array(['this', 'is', 'a', 'test'], \n",
        "      dtype='<U4')"
       ]
      }
     ],
     "prompt_number": 8
    },
    {
     "cell_type": "markdown",
     "metadata": {},
     "source": [
      "Dynd has a variable-length dimension type, which supports ragged arrays. If you give this kind of data to numpy, it uses object arrays which are slower and the array programming functionality in the ragged dimension."
     ]
    },
    {
     "cell_type": "code",
     "collapsed": false,
     "input": [
      "nd.array([[1,5,2], [1], [7,9,10,20,13]]) # dynd"
     ],
     "language": "python",
     "metadata": {},
     "outputs": [
      {
       "metadata": {},
       "output_type": "pyout",
       "prompt_number": 9,
       "text": [
        "nd.array([           [1, 5, 2],                  [1], [ 7,  9, 10, 20, 13]],\n",
        "         type=\"3 * var * int32\")"
       ]
      }
     ],
     "prompt_number": 9
    },
    {
     "cell_type": "code",
     "collapsed": false,
     "input": [
      "np.array([[1,5,2], [1], [7,9,10,20,13]]) # numpy"
     ],
     "language": "python",
     "metadata": {},
     "outputs": [
      {
       "metadata": {},
       "output_type": "pyout",
       "prompt_number": 10,
       "text": [
        "array([[1, 5, 2], [1], [7, 9, 10, 20, 13]], dtype=object)"
       ]
      }
     ],
     "prompt_number": 10
    },
    {
     "cell_type": "markdown",
     "metadata": {},
     "source": [
      "---"
     ]
    },
    {
     "cell_type": "markdown",
     "metadata": {},
     "source": [
      "As a part of blaze, dynd is based on its datashape type system notation. This provides a convenient way to create arrays of structs."
     ]
    },
    {
     "cell_type": "code",
     "collapsed": false,
     "input": [
      "x = nd.array([('XDress - Type, But Verify', 'Anthony Scopatz', '2013-06-26T11:55', 204),\n",
      "          ('matplotlib: past, present and future', 'Michael Droettboom', '2013-06-27T10:15', 106),\n",
      "          ('The DyND Library', 'Mark Wiebe', '2013-06-27T14:35', 203),\n",
      "          ('The advantages of a scientific IDE', 'Carlos Cordoba', '2013-06-26T11:30', 203)],\n",
      "        dtype=\"\"\"{\n",
      "            title: string,\n",
      "            presenter: string,\n",
      "            time: datetime,\n",
      "            room: int32\n",
      "        }\"\"\")\n",
      "x"
     ],
     "language": "python",
     "metadata": {},
     "outputs": [
      {
       "metadata": {},
       "output_type": "pyout",
       "prompt_number": 11,
       "text": [
        "nd.array([[\"XDress - Type, But Verify\", \"Anthony Scopatz\", 2013-06-26T11:55, 204],\n",
        "          [\"matplotlib: past, present and future\", \"Michael Droettboom\", 2013-06-27T10:15, 106],\n",
        "          [\"The DyND Library\", \"Mark Wiebe\", 2013-06-27T14:35, 203],\n",
        "          [\"The advantages of a scientific IDE\", \"Carlos Cordoba\", 2013-06-26T11:30, 203]],\n",
        "         type=\"4 * {title : string, presenter : string, time : datetime, room : int32}\")"
       ]
      }
     ],
     "prompt_number": 11
    },
    {
     "cell_type": "markdown",
     "metadata": {},
     "source": [
      "Field access can be done directly via python attributes."
     ]
    },
    {
     "cell_type": "code",
     "collapsed": false,
     "input": [
      "x.room"
     ],
     "language": "python",
     "metadata": {},
     "outputs": [
      {
       "metadata": {},
       "output_type": "pyout",
       "prompt_number": 12,
       "text": [
        "nd.array([204, 106, 203, 203],\n",
        "         type=\"4 * int32\")"
       ]
      }
     ],
     "prompt_number": 12
    },
    {
     "cell_type": "markdown",
     "metadata": {},
     "source": [
      "Or, equivalently, by indexing into the dimension of the struct."
     ]
    },
    {
     "cell_type": "code",
     "collapsed": false,
     "input": [
      "x[:,3]"
     ],
     "language": "python",
     "metadata": {},
     "outputs": [
      {
       "metadata": {},
       "output_type": "pyout",
       "prompt_number": 13,
       "text": [
        "nd.array([204, 106, 203, 203],\n",
        "         type=\"4 * int32\")"
       ]
      }
     ],
     "prompt_number": 13
    },
    {
     "cell_type": "code",
     "collapsed": false,
     "input": [
      "x[:, :2]"
     ],
     "language": "python",
     "metadata": {},
     "outputs": [
      {
       "metadata": {},
       "output_type": "pyout",
       "prompt_number": 14,
       "text": [
        "nd.array([[\"XDress - Type, But Verify\", \"Anthony Scopatz\"],\n",
        "          [\"matplotlib: past, present and future\", \"Michael Droettboom\"],\n",
        "          [\"The DyND Library\", \"Mark Wiebe\"],\n",
        "          [\"The advantages of a scientific IDE\", \"Carlos Cordoba\"]],\n",
        "         type=\"4 * {title : string, presenter : string}\")"
       ]
      }
     ],
     "prompt_number": 14
    },
    {
     "cell_type": "markdown",
     "metadata": {},
     "source": [
      "---"
     ]
    },
    {
     "cell_type": "markdown",
     "metadata": {},
     "source": [
      "There is a preliminary groupby operation implemented. This is very basic compared to advanced stats packages like pandas, but demonstrates how the results of operations like this can be represented well within the dynd array."
     ]
    },
    {
     "cell_type": "code",
     "collapsed": false,
     "input": [
      "g = nd.groupby(x, x.room)\n",
      "g.groups"
     ],
     "language": "python",
     "metadata": {},
     "outputs": [
      {
       "metadata": {},
       "output_type": "pyout",
       "prompt_number": 15,
       "text": [
        "nd.array([106, 203, 204],\n",
        "         type=\"3 * int32\")"
       ]
      }
     ],
     "prompt_number": 15
    },
    {
     "cell_type": "code",
     "collapsed": false,
     "input": [
      "g.eval()[1]"
     ],
     "language": "python",
     "metadata": {},
     "outputs": [
      {
       "metadata": {},
       "output_type": "pyout",
       "prompt_number": 16,
       "text": [
        "nd.array([[\"The DyND Library\", \"Mark Wiebe\", 2013-06-27T14:35, 203],\n",
        "          [\"The advantages of a scientific IDE\", \"Carlos Cordoba\", 2013-06-26T11:30, 203]],\n",
        "         type=\"var * {title : string, presenter : string, time : datetime, room : int32}\")"
       ]
      }
     ],
     "prompt_number": 16
    },
    {
     "cell_type": "markdown",
     "metadata": {},
     "source": [
      "Another simple groupby, this time by date."
     ]
    },
    {
     "cell_type": "code",
     "collapsed": false,
     "input": [
      "g = nd.groupby(x, x.time.date)\n",
      "g.groups"
     ],
     "language": "python",
     "metadata": {},
     "outputs": [
      {
       "metadata": {},
       "output_type": "pyout",
       "prompt_number": 17,
       "text": [
        "nd.array([2013-06-26, 2013-06-27],\n",
        "         type=\"2 * date\")"
       ]
      }
     ],
     "prompt_number": 17
    },
    {
     "cell_type": "code",
     "collapsed": false,
     "input": [
      "g.eval()[1]"
     ],
     "language": "python",
     "metadata": {},
     "outputs": [
      {
       "metadata": {},
       "output_type": "pyout",
       "prompt_number": 18,
       "text": [
        "nd.array([[\"matplotlib: past, present and future\", \"Michael Droettboom\", 2013-06-27T10:15, 106],\n",
        "          [\"The DyND Library\", \"Mark Wiebe\", 2013-06-27T14:35, 203]],\n",
        "         type=\"var * {title : string, presenter : string, time : datetime, room : int32}\")"
       ]
      }
     ],
     "prompt_number": 18
    },
    {
     "cell_type": "markdown",
     "metadata": {},
     "source": [
      "---"
     ]
    },
    {
     "cell_type": "markdown",
     "metadata": {},
     "source": [
      "Evaluation of expressions is deferred, which in some cases can be used to make interesting views of data."
     ]
    },
    {
     "cell_type": "code",
     "collapsed": false,
     "input": [
      "a = nd.array([\"2011-07-11\", \"2012-07-16\", \"2013-06-24\"], dtype=\"string[10,'A']\")"
     ],
     "language": "python",
     "metadata": {},
     "outputs": [],
     "prompt_number": 19
    },
    {
     "cell_type": "code",
     "collapsed": false,
     "input": [
      "a[0]"
     ],
     "language": "python",
     "metadata": {},
     "outputs": [
      {
       "metadata": {},
       "output_type": "pyout",
       "prompt_number": 20,
       "text": [
        "nd.array(\"2011-07-11\",\n",
        "         type=\"string[10,'ascii']\")"
       ]
      }
     ],
     "prompt_number": 20
    },
    {
     "cell_type": "code",
     "collapsed": false,
     "input": [
      "b = a.ucast(ndt.date)"
     ],
     "language": "python",
     "metadata": {},
     "outputs": [],
     "prompt_number": 21
    },
    {
     "cell_type": "code",
     "collapsed": false,
     "input": [
      "b[0]"
     ],
     "language": "python",
     "metadata": {},
     "outputs": [
      {
       "metadata": {},
       "output_type": "pyout",
       "prompt_number": 22,
       "text": [
        "nd.array(2011-07-11,\n",
        "         type=\"convert[to=date, from=string[10,'ascii']]\")"
       ]
      }
     ],
     "prompt_number": 22
    },
    {
     "cell_type": "code",
     "collapsed": false,
     "input": [
      "b[0] = b[0].replace(month=3)"
     ],
     "language": "python",
     "metadata": {},
     "outputs": [],
     "prompt_number": 23
    },
    {
     "cell_type": "code",
     "collapsed": false,
     "input": [
      "a[0]"
     ],
     "language": "python",
     "metadata": {},
     "outputs": [
      {
       "metadata": {},
       "output_type": "pyout",
       "prompt_number": 24,
       "text": [
        "nd.array(\"2011-03-11\",\n",
        "         type=\"string[10,'ascii']\")"
       ]
      }
     ],
     "prompt_number": 24
    },
    {
     "cell_type": "markdown",
     "metadata": {},
     "source": [
      "The ascii size-10 strings we created is compatible with numpy. Whenever dynd data is compatible with numpy, we can create views."
     ]
    },
    {
     "cell_type": "code",
     "collapsed": false,
     "input": [
      "c = nd.as_numpy(a)\n",
      "c"
     ],
     "language": "python",
     "metadata": {},
     "outputs": [
      {
       "metadata": {},
       "output_type": "pyout",
       "prompt_number": 25,
       "text": [
        "array([b'2011-03-11', b'2012-07-16', b'2013-06-24'], \n",
        "      dtype='|S10')"
       ]
      }
     ],
     "prompt_number": 25
    },
    {
     "cell_type": "code",
     "collapsed": false,
     "input": [
      "c[1] = \"2010-07-16\""
     ],
     "language": "python",
     "metadata": {},
     "outputs": [],
     "prompt_number": 26
    },
    {
     "cell_type": "code",
     "collapsed": false,
     "input": [
      "b[1]"
     ],
     "language": "python",
     "metadata": {},
     "outputs": [
      {
       "metadata": {},
       "output_type": "pyout",
       "prompt_number": 27,
       "text": [
        "nd.array(2010-07-16,\n",
        "         type=\"convert[to=date, from=string[10,'ascii']]\")"
       ]
      }
     ],
     "prompt_number": 27
    },
    {
     "cell_type": "code",
     "collapsed": false,
     "input": [],
     "language": "python",
     "metadata": {},
     "outputs": []
    }
   ],
   "metadata": {}
  }
 ]
}
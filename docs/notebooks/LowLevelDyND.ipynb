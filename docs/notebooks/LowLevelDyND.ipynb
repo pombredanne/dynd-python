{
 "metadata": {
  "name": "",
  "signature": "sha256:9b8bcd188fd5a6a00f78b40a1a8724531f4d75e305d44dbbf4379986be773011"
 },
 "nbformat": 3,
 "nbformat_minor": 0,
 "worksheets": [
  {
   "cells": [
    {
     "cell_type": "heading",
     "level": 1,
     "metadata": {},
     "source": [
      "Low Level DyND"
     ]
    },
    {
     "cell_type": "markdown",
     "metadata": {},
     "source": [
      "DyND arrays are built out of three components, a type, arrmeta (array metadata) associated with each array, and a data pointer/reference. This notebook will pull apart these components in several example objects, showing how the different aspects of the library work together.\n",
      "\n",
      "Note that the dynd._lowlevel submodule which is used in this notebook exposes low level details of dynd, and it is easy to violate invariants of the dynd object system like immutability of dynd types or arrays flagged as such."
     ]
    },
    {
     "cell_type": "code",
     "collapsed": false,
     "input": [
      "from __future__ import print_function\n",
      "import sys, ctypes\n",
      "from pprint import pprint\n",
      "import dynd\n",
      "from dynd import nd, ndt, _lowlevel\n",
      "import numpy as np\n",
      "print('Python:', sys.version)\n",
      "print('DyND:', dynd.__version__)\n",
      "print('LibDyND:', dynd.__libdynd_version__)"
     ],
     "language": "python",
     "metadata": {},
     "outputs": [
      {
       "output_type": "stream",
       "stream": "stdout",
       "text": [
        "Python: 3.3.3 |Continuum Analytics, Inc.| (default, Dec  3 2013, 11:56:40) [MSC v.1600 64 bit (AMD64)]\n",
        "DyND: 0.6.5.post024.g5f07540\n",
        "LibDyND: 0.6.5.post150.g8e9d756\n"
       ]
      }
     ],
     "prompt_number": 1
    },
    {
     "cell_type": "heading",
     "level": 2,
     "metadata": {},
     "source": [
      "A NumPy Array As DyND"
     ]
    },
    {
     "cell_type": "heading",
     "level": 3,
     "metadata": {},
     "source": [
      "The NumPy Array"
     ]
    },
    {
     "cell_type": "markdown",
     "metadata": {},
     "source": [
      "Let's begin with a NumPy array, reviewing what its structure is and then looking at how it gets represented when we convert it to dynd. We'll do a simple 2-dimensional array, enough to show the dimension structure a bit."
     ]
    },
    {
     "cell_type": "code",
     "collapsed": false,
     "input": [
      "a = np.arange(1, 7, dtype=np.int32).reshape(2,3)\n",
      "a"
     ],
     "language": "python",
     "metadata": {},
     "outputs": [
      {
       "metadata": {},
       "output_type": "pyout",
       "prompt_number": 2,
       "text": [
        "array([[1, 2, 3],\n",
        "       [4, 5, 6]])"
       ]
      }
     ],
     "prompt_number": 2
    },
    {
     "cell_type": "markdown",
     "metadata": {},
     "source": [
      "The way this array's memory is arranged is specified by two attributes of the object, the `shape` and `strides`. If given an integer tuple of indices, where each index satisfies `0 <= index_tuple[i] < shape[i]`, the memory offset from element zero to the element at that index is the dot product with the strides."
     ]
    },
    {
     "cell_type": "code",
     "collapsed": false,
     "input": [
      "print('shape:  ', a.shape)\n",
      "print('strides:', a.strides)"
     ],
     "language": "python",
     "metadata": {},
     "outputs": [
      {
       "output_type": "stream",
       "stream": "stdout",
       "text": [
        "shape:   (2, 3)\n",
        "strides: (12, 4)\n"
       ]
      }
     ],
     "prompt_number": 3
    },
    {
     "cell_type": "markdown",
     "metadata": {},
     "source": [
      "To illustrate this, we'll use a low level attribute of NumPy arrays, `a.ctypes.data`, and ctypes `type.from_address()` method to view values at pointer addresses. If we look at the data address of `a`, we see the element for index (0,0)."
     ]
    },
    {
     "cell_type": "code",
     "collapsed": false,
     "input": [
      "addr = a.ctypes.data\n",
      "print('address:        ', hex(addr))\n",
      "print('memory contents:', ctypes.c_int32.from_address(addr).value)\n",
      "print('a[0,0] value:   ', a[0,0])"
     ],
     "language": "python",
     "metadata": {},
     "outputs": [
      {
       "output_type": "stream",
       "stream": "stdout",
       "text": [
        "address:         0x41a3d20\n",
        "memory contents: 1\n",
        "a[0,0] value:    1\n"
       ]
      }
     ],
     "prompt_number": 4
    },
    {
     "cell_type": "markdown",
     "metadata": {},
     "source": [
      "Now to get the address of another element, say for index (1,2), let's take its dot product with the strides to get an offset."
     ]
    },
    {
     "cell_type": "code",
     "collapsed": false,
     "input": [
      "offset = int(np.dot([1,2], a.strides)) # sum(x*y for x,y in zip((1,2), a.strides))\n",
      "addr = a.ctypes.data + offset\n",
      "print('offset:         ', hex(offset), '(%d)' % offset)\n",
      "print('address:        ', hex(addr))\n",
      "print('memory contents:', ctypes.c_int32.from_address(addr).value)\n",
      "print('a[1,2] value:   ', a[1,2])"
     ],
     "language": "python",
     "metadata": {},
     "outputs": [
      {
       "output_type": "stream",
       "stream": "stdout",
       "text": [
        "offset:          0x14 (20)\n",
        "address:         0x41a3d34\n",
        "memory contents: 6\n",
        "a[1,2] value:    6\n"
       ]
      }
     ],
     "prompt_number": 5
    },
    {
     "cell_type": "heading",
     "level": 3,
     "metadata": {},
     "source": [
      "As a DyND Array"
     ]
    },
    {
     "cell_type": "markdown",
     "metadata": {},
     "source": [
      "Let's now convert this array into dynd, and look at the same addresses using the `_lowlevel` submodule."
     ]
    },
    {
     "cell_type": "code",
     "collapsed": false,
     "input": [
      "b = nd.view(a)\n",
      "print('b address:     ', hex(_lowlevel.data_address_of(b)))\n",
      "print('b[1,2] address:', hex(_lowlevel.data_address_of(b[1,2])))"
     ],
     "language": "python",
     "metadata": {},
     "outputs": [
      {
       "output_type": "stream",
       "stream": "stdout",
       "text": [
        "b address:      0x41a3d20\n",
        "b[1,2] address: 0x41a3d34\n"
       ]
      }
     ],
     "prompt_number": 6
    },
    {
     "cell_type": "markdown",
     "metadata": {},
     "source": [
      "These addresses should be the same as the ones we just got from NumPy. DyND is providing a view of the same memory data NumPy is, let's take a look at the type and arrmeta dynd has created."
     ]
    },
    {
     "cell_type": "code",
     "collapsed": false,
     "input": [
      "nd.debug_repr(b)"
     ],
     "language": "python",
     "metadata": {},
     "outputs": [
      {
       "metadata": {},
       "output_type": "pyout",
       "prompt_number": 7,
       "text": [
        "------ array\n",
        " address: 00000000004F4DE0\n",
        " refcount: 1\n",
        " type:\n",
        "  pointer: 00000000004F2560\n",
        "  type: 2 * 3 * int32\n",
        "  type refcount: 1\n",
        " arrmeta:\n",
        "  flags: 3 (read_access write_access )\n",
        "  type-specific arrmeta:\n",
        "   fixed_dim arrmeta\n",
        "    size: 2\n",
        "    stride: 12\n",
        "    fixed_dim arrmeta\n",
        "     size: 3\n",
        "     stride: 4\n",
        " data:\n",
        "   pointer: 00000000041A3D20\n",
        "   reference: 00000000004B5BC0\n",
        "    ------ memory_block at 00000000004B5BC0\n",
        "     reference count: 1\n",
        "     type: external\n",
        "     object void pointer: 0000000004734100\n",
        "     free function: 000007FED7CF2EC8\n",
        "    ------\n",
        "------"
       ]
      }
     ],
     "prompt_number": 7
    },
    {
     "cell_type": "markdown",
     "metadata": {},
     "source": [
      "The `_lowlevel` submodule allows as to peek directly at the dynd array structure, so we can access everything here directly via ctypes as well. Reading values this way will work fine, but writing to the reference count will not, for example, as it requires atomic operations to support multi-threaded access. Let's take a look at the values this way. To show the ctypes structure a bit, we're also printing the fields of the `ctypes.Structure` type used."
     ]
    },
    {
     "cell_type": "code",
     "collapsed": false,
     "input": [
      "ndp = _lowlevel.array_preamble_of(b)\n",
      "pprint(ndp._fields_)"
     ],
     "language": "python",
     "metadata": {},
     "outputs": [
      {
       "output_type": "stream",
       "stream": "stdout",
       "text": [
        "[('memblockdata', <class 'dynd._lowlevel.ctypes_types.MemoryBlockData'>),\n",
        " ('dtype', <class 'ctypes.c_void_p'>),\n",
        " ('data_pointer', <class 'ctypes.c_void_p'>),\n",
        " ('flags', <class 'ctypes.c_ulonglong'>),\n",
        " ('data_reference', <class 'ctypes.c_void_p'>)]\n"
       ]
      }
     ],
     "prompt_number": 8
    },
    {
     "cell_type": "code",
     "collapsed": false,
     "input": [
      "# The dynd type\n",
      "print('dtype ptr:', hex(ndp.dtype))"
     ],
     "language": "python",
     "metadata": {},
     "outputs": [
      {
       "output_type": "stream",
       "stream": "stdout",
       "text": [
        "dtype ptr: 0x4f2560\n"
       ]
      }
     ],
     "prompt_number": 9
    },
    {
     "cell_type": "code",
     "collapsed": false,
     "input": [
      "# Part of the metadata\n",
      "print('flags:    ', ndp.flags)"
     ],
     "language": "python",
     "metadata": {},
     "outputs": [
      {
       "output_type": "stream",
       "stream": "stdout",
       "text": [
        "flags:     3\n"
       ]
      }
     ],
     "prompt_number": 10
    },
    {
     "cell_type": "code",
     "collapsed": false,
     "input": [
      "# The data\n",
      "print('data ptr: ', hex(ndp.data_pointer))\n",
      "print('data ref: ', hex(ndp.data_reference))"
     ],
     "language": "python",
     "metadata": {},
     "outputs": [
      {
       "output_type": "stream",
       "stream": "stdout",
       "text": [
        "data ptr:  0x41a3d20\n",
        "data ref:  0x4b5bc0\n"
       ]
      }
     ],
     "prompt_number": 11
    },
    {
     "cell_type": "markdown",
     "metadata": {},
     "source": [
      "The rest of the arrmeta has a structure specified by the dynd type. In the case of a NumPy-like array, as we have here, each dimension of the array gets a `size` and a `stride`. Let's create a ctypes Structure and take a look."
     ]
    },
    {
     "cell_type": "code",
     "collapsed": false,
     "input": [
      "class FixedMetadata(ctypes.Structure):\n",
      "    _fields_ = [('size', ctypes.c_ssize_t),\n",
      "                ('stride', ctypes.c_ssize_t)]\n",
      "meta = (FixedMetadata * 2).from_address(_lowlevel.arrmeta_address_of(b))\n",
      "print('meta[0].size:  ', meta[0].size)\n",
      "print('meta[0].stride:', meta[0].stride)\n",
      "print('meta[1].size:  ', meta[1].size)\n",
      "print('meta[1].stride:', meta[1].stride)\n"
     ],
     "language": "python",
     "metadata": {},
     "outputs": [
      {
       "output_type": "stream",
       "stream": "stdout",
       "text": [
        "meta[0].size:   2\n",
        "meta[0].stride: 12\n",
        "meta[1].size:   3\n",
        "meta[1].stride: 4\n"
       ]
      }
     ],
     "prompt_number": 12
    },
    {
     "cell_type": "code",
     "collapsed": false,
     "input": [
      "# Rearranged to match NumPy\n",
      "print('shape:  ', (meta[0].size, meta[1].size))\n",
      "print('strides:', (meta[0].stride, meta[1].stride))"
     ],
     "language": "python",
     "metadata": {},
     "outputs": [
      {
       "output_type": "stream",
       "stream": "stdout",
       "text": [
        "shape:   (2, 3)\n",
        "strides: (12, 4)\n"
       ]
      }
     ],
     "prompt_number": 13
    },
    {
     "cell_type": "heading",
     "level": 3,
     "metadata": {},
     "source": [
      "DType Comparison"
     ]
    },
    {
     "cell_type": "markdown",
     "metadata": {},
     "source": [
      "To understand why dynd is structuring this arrmeta into a `size/stride` for each dimension, instead of as separate `shape` and `strides` arrays like numpy does it, let's first compare the dtypes between the systems."
     ]
    },
    {
     "cell_type": "code",
     "collapsed": false,
     "input": [
      "a.dtype"
     ],
     "language": "python",
     "metadata": {},
     "outputs": [
      {
       "metadata": {},
       "output_type": "pyout",
       "prompt_number": 14,
       "text": [
        "dtype('int32')"
       ]
      }
     ],
     "prompt_number": 14
    },
    {
     "cell_type": "code",
     "collapsed": false,
     "input": [
      "nd.type_of(b)"
     ],
     "language": "python",
     "metadata": {},
     "outputs": [
      {
       "metadata": {},
       "output_type": "pyout",
       "prompt_number": 15,
       "text": [
        "ndt.type(\"2 * 3 * int32\")"
       ]
      }
     ],
     "prompt_number": 15
    },
    {
     "cell_type": "markdown",
     "metadata": {},
     "source": [
      "Observe that the numpy dtype only represents the data type, it contains no reference to the dimensions of the array. In dynd, information about the dimensions has moved into its array type, with the array sizes included. The way it works is that each `fixed_dim` gets a corresponding `size/stride` arrmeta, while the `int32` requires no arrmeta, thus the arrmeta is an array of two `size/stride` structures as we saw above.\n"
     ]
    },
    {
     "cell_type": "heading",
     "level": 3,
     "metadata": {},
     "source": [
      "DyND Dimension Type/Metadata Correspondence"
     ]
    },
    {
     "cell_type": "markdown",
     "metadata": {},
     "source": [
      "Lets take another look at the arrmeta, but now using a ctypes structure that has been generated from the dynd type, and then see how its hierarchy matches the one in the type."
     ]
    },
    {
     "cell_type": "code",
     "collapsed": false,
     "input": [
      "meta = _lowlevel.arrmeta_struct_of(b)\n",
      "pprint(meta._fields_)"
     ],
     "language": "python",
     "metadata": {},
     "outputs": [
      {
       "output_type": "stream",
       "stream": "stdout",
       "text": [
        "[('dim_size', <class 'ctypes.c_longlong'>),\n",
        " ('stride', <class 'ctypes.c_longlong'>),\n",
        " ('element',\n",
        "  <class 'dynd._lowlevel.arrmeta_struct.build_arrmeta_struct.<locals>.FixedDimMetadata'>)]\n"
       ]
      }
     ],
     "prompt_number": 16
    },
    {
     "cell_type": "markdown",
     "metadata": {},
     "source": [
      "For the first dimension, we have a `size` and a `stride` as before. The type id of the dtype is the corresponding `fixed_dim`."
     ]
    },
    {
     "cell_type": "code",
     "collapsed": false,
     "input": [
      "print('type id:', nd.type_of(b).type_id)\n",
      "print('size:   ', meta.dim_size)\n",
      "print('stride: ', meta.stride)"
     ],
     "language": "python",
     "metadata": {},
     "outputs": [
      {
       "output_type": "stream",
       "stream": "stdout",
       "text": [
        "type id: fixed_dim\n",
        "size:    2\n",
        "stride:  12\n"
       ]
      }
     ],
     "prompt_number": 17
    },
    {
     "cell_type": "markdown",
     "metadata": {},
     "source": [
      "To get to the second dimension, we look at the `element` field of the arrmeta, or the `element_dtype` attribute of the type."
     ]
    },
    {
     "cell_type": "code",
     "collapsed": false,
     "input": [
      "print(nd.type_of(b).element_type)\n",
      "pprint(meta.element._fields_)"
     ],
     "language": "python",
     "metadata": {},
     "outputs": [
      {
       "output_type": "stream",
       "stream": "stdout",
       "text": [
        "3 * int32\n",
        "[('dim_size', <class 'ctypes.c_longlong'>),\n",
        " ('stride', <class 'ctypes.c_longlong'>),\n",
        " ('element', <class 'dynd._lowlevel.arrmeta_struct.EmptyMetadata'>)]\n"
       ]
      }
     ],
     "prompt_number": 18
    },
    {
     "cell_type": "markdown",
     "metadata": {},
     "source": [
      "Now one dimension has been stripped off, and at this level we once again have a `size` and a `stride`."
     ]
    },
    {
     "cell_type": "code",
     "collapsed": false,
     "input": [
      "print('type id:', nd.type_of(b).element_type.type_id)\n",
      "print('size:   ', meta.element.dim_size)\n",
      "print('stride: ', meta.element.stride)"
     ],
     "language": "python",
     "metadata": {},
     "outputs": [
      {
       "output_type": "stream",
       "stream": "stdout",
       "text": [
        "type id: fixed_dim\n",
        "size:    3\n",
        "stride:  4\n"
       ]
      }
     ],
     "prompt_number": 19
    },
    {
     "cell_type": "markdown",
     "metadata": {},
     "source": [
      "If we strip away the second dimension, we end at the scalar type. The arrmeta structure at this level is using a placeholder empty structure."
     ]
    },
    {
     "cell_type": "code",
     "collapsed": false,
     "input": [
      "print('type id:', nd.type_of(b).element_type.element_type.type_id)"
     ],
     "language": "python",
     "metadata": {},
     "outputs": [
      {
       "output_type": "stream",
       "stream": "stdout",
       "text": [
        "type id: int32\n"
       ]
      }
     ],
     "prompt_number": 20
    },
    {
     "cell_type": "heading",
     "level": 2,
     "metadata": {},
     "source": [
      "A Ragged Array Example"
     ]
    },
    {
     "cell_type": "markdown",
     "metadata": {},
     "source": [
      "To show how this way of matching up the type with a arrmeta struct can work, let's do an example of a ragged array, where the second dimension is a variable-sized dimension. If we construct a dynd object from a ragged list, this is what we will get."
     ]
    },
    {
     "cell_type": "code",
     "collapsed": false,
     "input": [
      "a = nd.array([[1], [2,3,4], [5,6]])"
     ],
     "language": "python",
     "metadata": {},
     "outputs": [],
     "prompt_number": 21
    },
    {
     "cell_type": "code",
     "collapsed": false,
     "input": [
      "nd.type_of(a)"
     ],
     "language": "python",
     "metadata": {},
     "outputs": [
      {
       "metadata": {},
       "output_type": "pyout",
       "prompt_number": 22,
       "text": [
        "ndt.type(\"3 * var * int32\")"
       ]
      }
     ],
     "prompt_number": 22
    },
    {
     "cell_type": "markdown",
     "metadata": {},
     "source": [
      "The second dimension is now a `var_dim` instead of a `fixed_dim`. This dimension gets a different corresponding arrmeta associated with it. Let's first look at the debug_repr as before."
     ]
    },
    {
     "cell_type": "code",
     "collapsed": false,
     "input": [
      "nd.debug_repr(a)"
     ],
     "language": "python",
     "metadata": {},
     "outputs": [
      {
       "metadata": {},
       "output_type": "pyout",
       "prompt_number": 23,
       "text": [
        "------ array\n",
        " address: 00000000004BE4D0\n",
        " refcount: 1\n",
        " type:\n",
        "  pointer: 00000000004F2EE0\n",
        "  type: 3 * var * int32\n",
        "  type refcount: 2\n",
        " arrmeta:\n",
        "  flags: 5 (read_access immutable )\n",
        "  type-specific arrmeta:\n",
        "   fixed_dim arrmeta\n",
        "    size: 3\n",
        "    stride: 16\n",
        "    var_dim arrmeta\n",
        "     stride: 4\n",
        "     offset: 0\n",
        "     ------ memory_block at 00000000004F1740\n",
        "      reference count: 1\n",
        "      type: pod\n",
        "      finalized: 24\n",
        "     ------\n",
        " data:\n",
        "   pointer: 00000000004BE528\n",
        "   reference: 0000000000000000 (embedded in array memory)\n",
        "------"
       ]
      }
     ],
     "prompt_number": 23
    },
    {
     "cell_type": "markdown",
     "metadata": {},
     "source": [
      "We can see that the `fixed_dim` has the same arrmeta as before, but the `var_dim` has different entries. It's got a `stride`, an `offset`, and another memory block. What's going on here is that the variable-sized data goes in another reference-counted buffer, and the array data for the first dimension gets pointers into this second buffer."
     ]
    },
    {
     "cell_type": "code",
     "collapsed": false,
     "input": [
      "meta = _lowlevel.arrmeta_struct_of(a)\n",
      "pprint(meta._fields_)"
     ],
     "language": "python",
     "metadata": {},
     "outputs": [
      {
       "output_type": "stream",
       "stream": "stdout",
       "text": [
        "[('dim_size', <class 'ctypes.c_longlong'>),\n",
        " ('stride', <class 'ctypes.c_longlong'>),\n",
        " ('element',\n",
        "  <class 'dynd._lowlevel.arrmeta_struct.build_arrmeta_struct.<locals>.VarMetadata'>)]\n"
       ]
      }
     ],
     "prompt_number": 24
    },
    {
     "cell_type": "markdown",
     "metadata": {},
     "source": [
      "The first dimension type/arrmeta is as before, for `fixed_dim`."
     ]
    },
    {
     "cell_type": "code",
     "collapsed": false,
     "input": [
      "print('type id:', nd.type_of(a).type_id)\n",
      "print('size:   ', meta.dim_size)\n",
      "print('stride: ', meta.stride)"
     ],
     "language": "python",
     "metadata": {},
     "outputs": [
      {
       "output_type": "stream",
       "stream": "stdout",
       "text": [
        "type id: fixed_dim\n",
        "size:    3\n",
        "stride:  16\n"
       ]
      }
     ],
     "prompt_number": 25
    },
    {
     "cell_type": "code",
     "collapsed": false,
     "input": [
      "pprint(meta.element._fields_)"
     ],
     "language": "python",
     "metadata": {},
     "outputs": [
      {
       "output_type": "stream",
       "stream": "stdout",
       "text": [
        "[('blockref', <class 'dynd._lowlevel.arrmeta_struct.LP_MemoryBlockData'>),\n",
        " ('stride', <class 'ctypes.c_longlong'>),\n",
        " ('offset', <class 'ctypes.c_longlong'>),\n",
        " ('element', <class 'dynd._lowlevel.arrmeta_struct.EmptyMetadata'>)]\n"
       ]
      }
     ],
     "prompt_number": 26
    },
    {
     "cell_type": "markdown",
     "metadata": {},
     "source": [
      "The second dimension type/arrmeta is now for `var_dim`."
     ]
    },
    {
     "cell_type": "code",
     "collapsed": false,
     "input": [
      "print('type id:', nd.type_of(a).element_type.type_id)\n",
      "print('stride: ', meta.element.stride)\n",
      "print('offset: ', meta.element.offset)\n",
      "print('blockref: ', hex(ctypes.cast(meta.element.blockref, ctypes.c_void_p).value))"
     ],
     "language": "python",
     "metadata": {},
     "outputs": [
      {
       "output_type": "stream",
       "stream": "stdout",
       "text": [
        "type id: var_dim\n",
        "stride:  4\n",
        "offset:  0\n",
        "blockref:  0x4f1740\n"
       ]
      }
     ],
     "prompt_number": 27
    },
    {
     "cell_type": "markdown",
     "metadata": {},
     "source": [
      "The data elements of the first dimension are different from the fixed case. You may recall that the data address of the fixed array is the same as the data address at index zero. For the `var_dim`, this is not the case, something we can illustrate by showing the pointers."
     ]
    },
    {
     "cell_type": "code",
     "collapsed": false,
     "input": [
      "print('a data address:     ', hex(_lowlevel.data_address_of(a)))\n",
      "print('a[0] data address:  ', hex(_lowlevel.data_address_of(a[0])))\n",
      "print('a[0,0] data address:', hex(_lowlevel.data_address_of(a[0,0])))"
     ],
     "language": "python",
     "metadata": {},
     "outputs": [
      {
       "output_type": "stream",
       "stream": "stdout",
       "text": [
        "a data address:      0x4be528\n",
        "a[0] data address:   0x4be528\n",
        "a[0,0] data address: 0x4f65b0\n"
       ]
      }
     ],
     "prompt_number": 28
    },
    {
     "cell_type": "markdown",
     "metadata": {},
     "source": [
      "The reason for this is that the elements visible at the outer level are `pointer/size` pairs which point into the memory block held by the `var_dim` arrmeta. We can examine this directly by creating a ctypes structure corresponding to the first dimension's data."
     ]
    },
    {
     "cell_type": "code",
     "collapsed": false,
     "input": [
      "class VarData(ctypes.Structure):\n",
      "    _fields_ = [('data', ctypes.POINTER(ctypes.c_int32)),\n",
      "                ('size', ctypes.c_ssize_t)]\n",
      "data = (VarData * 3).from_address(_lowlevel.data_address_of(a))"
     ],
     "language": "python",
     "metadata": {},
     "outputs": [],
     "prompt_number": 29
    },
    {
     "cell_type": "markdown",
     "metadata": {},
     "source": [
      "To refresh your memory about the data we populated `a` with, lets print it out again."
     ]
    },
    {
     "cell_type": "code",
     "collapsed": false,
     "input": [
      "a"
     ],
     "language": "python",
     "metadata": {},
     "outputs": [
      {
       "metadata": {},
       "output_type": "pyout",
       "prompt_number": 30,
       "text": [
        "nd.array([      [1], [2, 3, 4],    [5, 6]],\n",
        "         type=\"3 * var * int32\")"
       ]
      }
     ],
     "prompt_number": 30
    },
    {
     "cell_type": "markdown",
     "metadata": {},
     "source": [
      "Let's compare this with the sizes specified in the data."
     ]
    },
    {
     "cell_type": "code",
     "collapsed": false,
     "input": [
      "print(data[0].size, data[1].size, data[2].size)"
     ],
     "language": "python",
     "metadata": {},
     "outputs": [
      {
       "output_type": "stream",
       "stream": "stdout",
       "text": [
        "1 3 2\n"
       ]
      }
     ],
     "prompt_number": 31
    },
    {
     "cell_type": "markdown",
     "metadata": {},
     "source": [
      "We can access the first element of each array by dereferencing the pointer directly. Recall that there was an additional arrmeta property called `offset`, which was zero. If this offset was not zero, we would have to add it to the pointer before dereferencing."
     ]
    },
    {
     "cell_type": "code",
     "collapsed": false,
     "input": [
      "print(data[0].data.contents.value, data[1].data.contents.value, data[2].data.contents.value)"
     ],
     "language": "python",
     "metadata": {},
     "outputs": [
      {
       "output_type": "stream",
       "stream": "stdout",
       "text": [
        "1 2 5\n"
       ]
      }
     ],
     "prompt_number": 32
    },
    {
     "cell_type": "heading",
     "level": 2,
     "metadata": {},
     "source": [
      "A String Example"
     ]
    },
    {
     "cell_type": "markdown",
     "metadata": {},
     "source": [
      "The scalar type we've been using so far, `int32`, has no arrmeta. This is not always the case, and the `string` type is a good example of this. Let's create a simple one-dimensional array of strings."
     ]
    },
    {
     "cell_type": "code",
     "collapsed": false,
     "input": [
      "a = nd.array([u'this is the first string', u'second', 'third'])"
     ],
     "language": "python",
     "metadata": {},
     "outputs": [],
     "prompt_number": 33
    },
    {
     "cell_type": "code",
     "collapsed": false,
     "input": [
      "nd.type_of(a)"
     ],
     "language": "python",
     "metadata": {},
     "outputs": [
      {
       "metadata": {},
       "output_type": "pyout",
       "prompt_number": 34,
       "text": [
        "ndt.type(\"3 * string\")"
       ]
      }
     ],
     "prompt_number": 34
    },
    {
     "cell_type": "markdown",
     "metadata": {},
     "source": [
      "The string type has one important property, the string encoding. For default strings, the encoding is UTF-8."
     ]
    },
    {
     "cell_type": "code",
     "collapsed": false,
     "input": [
      "nd.type_of(a).element_type.encoding"
     ],
     "language": "python",
     "metadata": {},
     "outputs": [
      {
       "metadata": {},
       "output_type": "pyout",
       "prompt_number": 35,
       "text": [
        "'utf8'"
       ]
      }
     ],
     "prompt_number": 35
    },
    {
     "cell_type": "markdown",
     "metadata": {},
     "source": [
      "Once again it's useful to look at the debug_repr first."
     ]
    },
    {
     "cell_type": "code",
     "collapsed": false,
     "input": [
      "nd.debug_repr(a)"
     ],
     "language": "python",
     "metadata": {},
     "outputs": [
      {
       "metadata": {},
       "output_type": "pyout",
       "prompt_number": 36,
       "text": [
        "------ array\n",
        " address: 00000000004F3460\n",
        " refcount: 1\n",
        " type:\n",
        "  pointer: 00000000004F3060\n",
        "  type: 3 * string\n",
        "  type refcount: 2\n",
        " arrmeta:\n",
        "  flags: 5 (read_access immutable )\n",
        "  type-specific arrmeta:\n",
        "   fixed_dim arrmeta\n",
        "    size: 3\n",
        "    stride: 16\n",
        "    string arrmeta\n",
        "     ------ memory_block at 00000000004F1A10\n",
        "      reference count: 1\n",
        "      type: pod\n",
        "      finalized: 35\n",
        "     ------\n",
        " data:\n",
        "   pointer: 00000000004F34A8\n",
        "   reference: 0000000000000000 (embedded in array memory)\n",
        "------"
       ]
      }
     ],
     "prompt_number": 36
    },
    {
     "cell_type": "markdown",
     "metadata": {},
     "source": [
      "Similar to the `var_dim` arrmeta, the `string` type has a memory block. In fact, that's all it contains.\n",
      "\n",
      "The data element structure is slightly different from `var_dim`, however. Instead of a pointer and a length, the data includes begin and end pointers which define a half-open interval of bytes for the string. Let's use ctypes to look into these bytes, and construct a string from them directly."
     ]
    },
    {
     "cell_type": "code",
     "collapsed": false,
     "input": [
      "class StringData(ctypes.Structure):\n",
      "    _fields_ = [('begin', ctypes.c_void_p),\n",
      "                ('end', ctypes.c_void_p)]\n",
      "data = (StringData * 3).from_address(_lowlevel.data_address_of(a))"
     ],
     "language": "python",
     "metadata": {},
     "outputs": [],
     "prompt_number": 37
    },
    {
     "cell_type": "markdown",
     "metadata": {},
     "source": [
      "The extents of the first string are"
     ]
    },
    {
     "cell_type": "code",
     "collapsed": false,
     "input": [
      "print('begin:', hex(data[0].begin))\n",
      "print('end:  ', hex(data[0].end))"
     ],
     "language": "python",
     "metadata": {},
     "outputs": [
      {
       "output_type": "stream",
       "stream": "stdout",
       "text": [
        "begin: 0x4f6dc0\n",
        "end:   0x4f6dd8\n"
       ]
      }
     ],
     "prompt_number": 38
    },
    {
     "cell_type": "markdown",
     "metadata": {},
     "source": [
      "To build our own string out of it, we can create a ctypes `char` array, convert it to bytes, than decode it using UTF-8, as that's the encoding from the dynd arrmeta."
     ]
    },
    {
     "cell_type": "code",
     "collapsed": false,
     "input": [
      "length = data[0].end - data[0].begin\n",
      "print('length:', length)"
     ],
     "language": "python",
     "metadata": {},
     "outputs": [
      {
       "output_type": "stream",
       "stream": "stdout",
       "text": [
        "length: 24\n"
       ]
      }
     ],
     "prompt_number": 39
    },
    {
     "cell_type": "code",
     "collapsed": false,
     "input": [
      "bytearray((ctypes.c_char * length).from_address(data[0].begin)).decode('utf-8')"
     ],
     "language": "python",
     "metadata": {},
     "outputs": [
      {
       "metadata": {},
       "output_type": "pyout",
       "prompt_number": 40,
       "text": [
        "'this is the first string'"
       ]
      }
     ],
     "prompt_number": 40
    },
    {
     "cell_type": "heading",
     "level": 2,
     "metadata": {},
     "source": [
      "Conclusion"
     ]
    },
    {
     "cell_type": "markdown",
     "metadata": {},
     "source": [
      "There are more things which need to be illustrated to more fully gain an understanding of how dynd's type/arrmeta system describes multi-dimensional data in a way which is quite general, yet useful for computation. So far we have just seen how the data is laid out, and have directly peeked at the internal structures of dynd using ctypes.\n",
      "\n",
      "Some next steps will be to demonstrate how indexing in the dynd \\__getitem__ implementation works, how struct types work, and how these ideas can apply in a JIT setting with LLVM. There were some unanswered questions, like why there is an `offset` field in the `var_dim` arrmeta, which will get answered by exploring these topics."
     ]
    },
    {
     "cell_type": "code",
     "collapsed": false,
     "input": [],
     "language": "python",
     "metadata": {},
     "outputs": [],
     "prompt_number": 40
    }
   ],
   "metadata": {}
  }
 ]
}
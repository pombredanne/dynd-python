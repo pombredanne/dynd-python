{
 "metadata": {
  "name": "",
  "signature": "sha256:30e6e771d509bdb3a198aa5a274951eb7019fcb2a9b84e910c05ca448759ebbf"
 },
 "nbformat": 3,
 "nbformat_minor": 0,
 "worksheets": [
  {
   "cells": [
    {
     "cell_type": "heading",
     "level": 1,
     "metadata": {},
     "source": [
      "DyND Categorical Type"
     ]
    },
    {
     "cell_type": "markdown",
     "metadata": {},
     "source": [
      "This notebook provides a short demonstration of the categorical type, which represents a set of values of a given type as an integer in the range `[0, N)`. This type is used in dynd's `groupby` function, and can be used to save memory when storing a large amount of data with only a small number of possible values.\n",
      "\n",
      "Let's start by importing dynd, and printing out some version numbers."
     ]
    },
    {
     "cell_type": "code",
     "collapsed": false,
     "input": [
      "from __future__ import print_function\n",
      "import sys\n",
      "import dynd\n",
      "from dynd import nd, ndt\n",
      "print('Python: ', sys.version)\n",
      "print('DyND:   ', dynd.__version__)\n",
      "print('LibDyND:', dynd.__libdynd_version__)"
     ],
     "language": "python",
     "metadata": {},
     "outputs": [
      {
       "output_type": "stream",
       "stream": "stdout",
       "text": [
        "Python:  3.3.3 |Continuum Analytics, Inc.| (default, Dec  3 2013, 11:56:40) [MSC v.1600 64 bit (AMD64)]\n",
        "DyND:    0.6.5.post021.gef97310\n",
        "LibDyND: 0.6.5.post142.g662202b\n"
       ]
      }
     ],
     "prompt_number": 1
    },
    {
     "cell_type": "heading",
     "level": 2,
     "metadata": {},
     "source": [
      "Rainbow Example: ndt.make_categorical"
     ]
    },
    {
     "cell_type": "markdown",
     "metadata": {},
     "source": [
      "There are two functions for creating a categorical type, `ndt.make_categorical` and `ndt.factor_categorical`. If you want to control exactly what categories there are, and in what order they appear, you want to use the `ndt.make_categorical` function. Let's make a rainbow type as our first example."
     ]
    },
    {
     "cell_type": "code",
     "collapsed": false,
     "input": [
      "rainbow = ndt.make_categorical(['red', 'orange', 'yellow', 'green', 'blue', 'indigo', 'violet'])\n",
      "rainbow"
     ],
     "language": "python",
     "metadata": {},
     "outputs": [
      {
       "metadata": {},
       "output_type": "pyout",
       "prompt_number": 2,
       "text": [
        "ndt.type(\"categorical[string, [\\\"red\\\", \\\"orange\\\", \\\"yellow\\\", \\\"green\\\", \\\"blue\\\", \\\"indigo\\\", \\\"violet\\\"]]\")"
       ]
      }
     ],
     "prompt_number": 2
    },
    {
     "cell_type": "markdown",
     "metadata": {},
     "source": [
      "We can look at some properties of the `rainbow` object to see what we have created. For instance, with only 7 values, the storage of the type is only one byte."
     ]
    },
    {
     "cell_type": "code",
     "collapsed": false,
     "input": [
      "print('type id:       ', rainbow.type_id)\n",
      "print('data size:     ', rainbow.data_size)\n",
      "print('data alignment:', rainbow.data_alignment)"
     ],
     "language": "python",
     "metadata": {},
     "outputs": [
      {
       "output_type": "stream",
       "stream": "stdout",
       "text": [
        "type id:        categorical\n",
        "data size:      1\n",
        "data alignment: 1\n"
       ]
      }
     ],
     "prompt_number": 3
    },
    {
     "cell_type": "markdown",
     "metadata": {},
     "source": [
      "We can get the integer storage type and the category type."
     ]
    },
    {
     "cell_type": "code",
     "collapsed": false,
     "input": [
      "print('storage type: ', rainbow.storage_type)\n",
      "print('category type:', rainbow.category_type)"
     ],
     "language": "python",
     "metadata": {},
     "outputs": [
      {
       "output_type": "stream",
       "stream": "stdout",
       "text": [
        "storage type:  uint8\n",
        "category type: string\n"
       ]
      }
     ],
     "prompt_number": 4
    },
    {
     "cell_type": "markdown",
     "metadata": {},
     "source": [
      "The list of categories is itself an immutable dynd array."
     ]
    },
    {
     "cell_type": "code",
     "collapsed": false,
     "input": [
      "rainbow.categories"
     ],
     "language": "python",
     "metadata": {},
     "outputs": [
      {
       "metadata": {},
       "output_type": "pyout",
       "prompt_number": 5,
       "text": [
        "nd.array([   \"red\", \"orange\", \"yellow\",  \"green\",   \"blue\", \"indigo\", \"violet\"],\n",
        "         type=\"7 * string\")"
       ]
      }
     ],
     "prompt_number": 5
    },
    {
     "cell_type": "markdown",
     "metadata": {},
     "source": [
      "Let's go ahead and make an array with the `rainbow` type. Note that we're using the `udtype` parameter to the `ndobject` constructor, indicating we want an array whose uniform type is `rainbow`. If we used the `dtype` parameter, we would have to explicitly include the dimensionality as well."
     ]
    },
    {
     "cell_type": "code",
     "collapsed": false,
     "input": [
      "colors = nd.array(['red', 'red', 'violet', 'blue', 'yellow', 'yellow', 'red', 'indigo'], dtype=rainbow)\n",
      "colors"
     ],
     "language": "python",
     "metadata": {},
     "outputs": [
      {
       "metadata": {},
       "output_type": "pyout",
       "prompt_number": 6,
       "text": [
        "nd.array([   \"red\",    \"red\", \"violet\",   \"blue\", \"yellow\", \"yellow\",    \"red\" \"indigo\"],\n",
        "         type=\"8 * categorical[string, [\"red\", \"orange\", \"yellow\", \"green\", \"blue\", \"indigo\", \"violet\"]]\")"
       ]
      }
     ],
     "prompt_number": 6
    },
    {
     "cell_type": "markdown",
     "metadata": {},
     "source": [
      "To access the stored integers of the categorical array, an `ints` property is exposed."
     ]
    },
    {
     "cell_type": "code",
     "collapsed": false,
     "input": [
      "colors.ints"
     ],
     "language": "python",
     "metadata": {},
     "outputs": [
      {
       "metadata": {},
       "output_type": "pyout",
       "prompt_number": 7,
       "text": [
        "nd.array([0, 0, 6, 4, 2, 2, 0, 5],\n",
        "         type=\"8 * uint8\")"
       ]
      }
     ],
     "prompt_number": 7
    },
    {
     "cell_type": "markdown",
     "metadata": {},
     "source": [
      "The values are always 0-based indices into the categories array."
     ]
    },
    {
     "cell_type": "code",
     "collapsed": false,
     "input": [
      "[str(rainbow.categories[i]) for i in colors.ints]"
     ],
     "language": "python",
     "metadata": {},
     "outputs": [
      {
       "metadata": {},
       "output_type": "pyout",
       "prompt_number": 8,
       "text": [
        "['red', 'red', 'violet', 'blue', 'yellow', 'yellow', 'red', 'indigo']"
       ]
      }
     ],
     "prompt_number": 8
    },
    {
     "cell_type": "markdown",
     "metadata": {},
     "source": [
      "If we have an array of integers that we want to view as a `rainbow`, we can do a view operation to get this. To make things interesting, let's also have the integers be of a different size, which means we'll have to cast to the the correct integer type before."
     ]
    },
    {
     "cell_type": "code",
     "collapsed": false,
     "input": [
      "myints = nd.array([5, 1, 3, 2, 0, 3, 3], access='rw')\n",
      "myints"
     ],
     "language": "python",
     "metadata": {},
     "outputs": [
      {
       "metadata": {},
       "output_type": "pyout",
       "prompt_number": 9,
       "text": [
        "nd.array([5, 1, 3, 2, 0, 3, 3],\n",
        "         type=\"7 * int32\")"
       ]
      }
     ],
     "prompt_number": 9
    },
    {
     "cell_type": "markdown",
     "metadata": {},
     "source": [
      "Let's first cast to the correct integer type, using the `ucast` method."
     ]
    },
    {
     "cell_type": "code",
     "collapsed": false,
     "input": [
      "my_cat_ints = myints.ucast(rainbow.storage_type)\n",
      "my_cat_ints"
     ],
     "language": "python",
     "metadata": {},
     "outputs": [
      {
       "metadata": {},
       "output_type": "pyout",
       "prompt_number": 10,
       "text": [
        "nd.array([5, 1, 3, 2, 0, 3, 3],\n",
        "         type=\"7 * convert[to=uint8, from=int32]\")"
       ]
      }
     ],
     "prompt_number": 10
    },
    {
     "cell_type": "markdown",
     "metadata": {},
     "source": [
      "Then view it as a `rainbow`."
     ]
    },
    {
     "cell_type": "code",
     "collapsed": false,
     "input": [
      "mycolors = my_cat_ints.view_scalars(rainbow)\n",
      "mycolors"
     ],
     "language": "python",
     "metadata": {},
     "outputs": [
      {
       "metadata": {},
       "output_type": "pyout",
       "prompt_number": 11,
       "text": [
        "nd.array([\"indigo\", \"orange\",  \"green\", \"yellow\",    \"red\",  \"green\",  \"green\"],\n",
        "         type=\"7 * view[as=categorical[string, [\"red\", \"orange\", \"yellow\", \"green\", \"blue\", \"indigo\", \"violet\"]], original=convert[to=uint8, from=int32]]\")"
       ]
      }
     ],
     "prompt_number": 11
    },
    {
     "cell_type": "markdown",
     "metadata": {},
     "source": [
      "This resulting object is still a view of the original integer data in `myints`, so if we modify `mycolors`, we are actually modifying `myints` in place."
     ]
    },
    {
     "cell_type": "code",
     "collapsed": false,
     "input": [
      "print(repr(myints))\n",
      "mycolors[1::2] = 'red'\n",
      "print(repr(myints))"
     ],
     "language": "python",
     "metadata": {},
     "outputs": [
      {
       "output_type": "stream",
       "stream": "stdout",
       "text": [
        "nd.array([5, 1, 3, 2, 0, 3, 3],\n",
        "         type=\"7 * int32\")\n",
        "nd.array([5, 0, 3, 0, 0, 0, 3],\n",
        "         type=\"7 * int32\")\n"
       ]
      }
     ],
     "prompt_number": 12
    },
    {
     "cell_type": "heading",
     "level": 2,
     "metadata": {},
     "source": [
      "Automatically Deducing The Categories: ndt.factor_categorical"
     ]
    },
    {
     "cell_type": "markdown",
     "metadata": {},
     "source": [
      "In the previous example, we saw how to create a categorical type by using the `ndt.make_categorical`. Let's take a look at how the related `ndt.factor_categorical` works. If we have an array of data, whose categories we don't necessarily know ahead of time, this function allows you to create a categorical type with a deduced list.\n",
      "\n",
      "Let's create an example array using a structure of (gender, age)."
     ]
    },
    {
     "cell_type": "code",
     "collapsed": false,
     "input": [
      "myarr = nd.array([('M', 13), ('F', 17), ('F', 34), ('M', 19), ('M', 13), ('F', 34), ('F', 22)],\n",
      "                dtype='{gender: string[1], age: int32}')\n",
      "myarr"
     ],
     "language": "python",
     "metadata": {},
     "outputs": [
      {
       "metadata": {},
       "output_type": "pyout",
       "prompt_number": 13,
       "text": [
        "nd.array([[\"M\", 13], [\"F\", 17], [\"F\", 34], [\"M\", 19], [\"M\", 13], [\"F\", 34] [\"F\", 22]],\n",
        "         type=\"7 * {gender : string[1], age : int32}\")"
       ]
      }
     ],
     "prompt_number": 13
    },
    {
     "cell_type": "markdown",
     "metadata": {},
     "source": [
      "There were a few repeated pairs in the data, so when we factor it into a categorical type, the list becomes slightly smaller. The categories list is also in lexicographic order based on the fields of the structure."
     ]
    },
    {
     "cell_type": "code",
     "collapsed": false,
     "input": [
      "catdt = ndt.factor_categorical(myarr)\n",
      "catdt"
     ],
     "language": "python",
     "metadata": {},
     "outputs": [
      {
       "metadata": {},
       "output_type": "pyout",
       "prompt_number": 14,
       "text": [
        "ndt.type(\"categorical[{gender : string[1], age : int32}, [[\\\"F\\\", 17], [\\\"F\\\", 22], [\\\"F\\\", 34], [\\\"M\\\", 13], [\\\"M\\\", 19]]]\")"
       ]
      }
     ],
     "prompt_number": 14
    },
    {
     "cell_type": "markdown",
     "metadata": {},
     "source": [
      "We can now use the `ucast` method to cast the uniform type of the array into the categorical type."
     ]
    },
    {
     "cell_type": "code",
     "collapsed": false,
     "input": [
      "mycats = myarr.ucast(catdt)\n",
      "mycats"
     ],
     "language": "python",
     "metadata": {},
     "outputs": [
      {
       "metadata": {},
       "output_type": "pyout",
       "prompt_number": 15,
       "text": [
        "nd.array([[\"M\", 13], [\"F\", 17], [\"F\", 34], [\"M\", 19], [\"M\", 13], [\"F\", 34] [\"F\", 22]],\n",
        "         type=\"7 * convert[to=categorical[{gender : string[1], age : int32}, [[\"F\", 17], [\"F\", 22], [\"F\", 34], [\"M\", 13], [\"M\", 19]]], from={gender : string[1], age : int32}]\")"
       ]
      }
     ],
     "prompt_number": 15
    },
    {
     "cell_type": "markdown",
     "metadata": {},
     "source": [
      "The result of this cast is once again a view into the original data. If we want to make a concrete array that doesn't include any transformations, we need to do an `eval` on the array."
     ]
    },
    {
     "cell_type": "code",
     "collapsed": false,
     "input": [
      "mycats = mycats.eval()\n",
      "mycats"
     ],
     "language": "python",
     "metadata": {},
     "outputs": [
      {
       "metadata": {},
       "output_type": "pyout",
       "prompt_number": 16,
       "text": [
        "nd.array([[\"M\", 13], [\"F\", 17], [\"F\", 34], [\"M\", 19], [\"M\", 13], [\"F\", 34] [\"F\", 22]],\n",
        "         type=\"7 * categorical[{gender : string[1], age : int32}, [[\"F\", 17], [\"F\", 22], [\"F\", 34], [\"M\", 13], [\"M\", 19]]]\")"
       ]
      }
     ],
     "prompt_number": 16
    },
    {
     "cell_type": "markdown",
     "metadata": {},
     "source": [
      "Once again we can take a look at the `ints` storage to see what this is under the hood."
     ]
    },
    {
     "cell_type": "code",
     "collapsed": false,
     "input": [
      "mycats.ints"
     ],
     "language": "python",
     "metadata": {},
     "outputs": [
      {
       "metadata": {},
       "output_type": "pyout",
       "prompt_number": 17,
       "text": [
        "nd.array([3, 0, 2, 4, 3, 2, 1],\n",
        "         type=\"7 * uint8\")"
       ]
      }
     ],
     "prompt_number": 17
    },
    {
     "cell_type": "heading",
     "level": 2,
     "metadata": {},
     "source": [
      "Categorical Example With Larger Ints"
     ]
    },
    {
     "cell_type": "markdown",
     "metadata": {},
     "source": [
      "In our first examples, we created categorical types with less than 256 categories in them. This meant that the storage for them fit in one byte. When there are more categories, the storage type will be bigger as needed to fit the larger number of values. We'll illustrate this with a simple categorical type based on a range of values."
     ]
    },
    {
     "cell_type": "code",
     "collapsed": false,
     "input": [
      "catdt = ndt.make_categorical(nd.range(-20000.0, 200000.0, 6))"
     ],
     "language": "python",
     "metadata": {},
     "outputs": [],
     "prompt_number": 18
    },
    {
     "cell_type": "markdown",
     "metadata": {},
     "source": [
      "If we were to print out this type, it will produce a very long list, because dynd doesn't yet do shortening of its `repr` output, like numpy does. To see that the storage type is bigger, let's look at it and the category type."
     ]
    },
    {
     "cell_type": "code",
     "collapsed": false,
     "input": [
      "print('storage type: ', catdt.storage_type)\n",
      "print('category type:', catdt.category_type)\n",
      "print('number of categories:', len(catdt.categories))"
     ],
     "language": "python",
     "metadata": {},
     "outputs": [
      {
       "output_type": "stream",
       "stream": "stdout",
       "text": [
        "storage type:  uint16\n",
        "category type: float64\n",
        "number of categories: 36667\n"
       ]
      }
     ],
     "prompt_number": 19
    }
   ],
   "metadata": {}
  }
 ]
}
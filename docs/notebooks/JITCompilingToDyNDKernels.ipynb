{
 "metadata": {
  "name": "JITCompilingToDyNDKernels"
 },
 "nbformat": 3,
 "nbformat_minor": 0,
 "worksheets": [
  {
   "cells": [
    {
     "cell_type": "heading",
     "level": 1,
     "metadata": {},
     "source": [
      "JIT Compiling To DyND Kernels"
     ]
    },
    {
     "cell_type": "markdown",
     "metadata": {},
     "source": [
      "This notebook explores how a JIT compiler targeting dynd kernels might be structured. DyND kernels are designed to play a role as a simple C ABI specification that multiple computation engines can consume and target. DyND itself does not contain a JIT compiler, but composes kernels in a hierarchical manner to build up array computations. With a JIT compiler, the resulting kernel hierarchy will be flat in most cases, unless the compiled expression uses another kernel which is not in a symbolic form it can inline."
     ]
    },
    {
     "cell_type": "code",
     "collapsed": false,
     "input": [
      "from IPython.display import SVG"
     ],
     "language": "python",
     "metadata": {},
     "outputs": [],
     "prompt_number": 1
    },
    {
     "cell_type": "heading",
     "level": 2,
     "metadata": {},
     "source": [
      "DyND Kernel Review"
     ]
    },
    {
     "cell_type": "markdown",
     "metadata": {},
     "source": [
      "For full details on how the dynd kernel works, take a look at [this document describing them](https://github.com/libdynd/libdynd/blob/master/documents/kernels.md). For here, we'll just review the structure layout and a few properties. The memory structure looks like this:\n",
      "\n",
      "\n",
      "    struct ckernel_prefix {\n",
      "        typedef void (*destructor_fn_t)(ckernel_prefix *);\n",
      "\n",
      "        void *function;\n",
      "        destructor_fn_t destructor;\n",
      "    };"
     ]
    },
    {
     "cell_type": "markdown",
     "metadata": {},
     "source": [
      "The first field, `function`, is function pointer with a prototype defined by the context of the kernel data. What this means is that one may request a \"unary single\" kernel from a kernel factory, and then the prototype will be as follows:\n",
      "\n",
      "    /** Typedef for a unary operation on a single element */\n",
      "    typedef void (*unary_single_operation_t)(char *dst, const char *src,\n",
      "                    ckernel_prefix *extra);\n"
     ]
    },
    {
     "cell_type": "markdown",
     "metadata": {},
     "source": [
      "The way dynd generally builds up kernels is hierarchically, matching the structure of the kernel to the structure of the arrays it is working on. There are more details [in this document](https://github.com/libdynd/libdynd/blob/master/documents/multidim_kernels.md).\n",
      "\n",
      "There is nothing inherently hierarchical about a dynd kernel, however, it is merely designed so that this form of hierarchy is supported naturally. In the case of producing a kernel with a JIT compiler, the resulting kernel may have only one extra bit of data, a handle to the JIT compiled object which owns the code behind the function pointer."
     ]
    },
    {
     "cell_type": "heading",
     "level": 2,
     "metadata": {},
     "source": [
      "Information Flow for a JIT Kernel"
     ]
    },
    {
     "cell_type": "markdown",
     "metadata": {},
     "source": [
      "Once a kernel has been built, the only information it gets about any elements it operates on are raw pointers. Knowledge of its data type and dimensional structure must be baked into the function pointer or into the `extra` parameter which is at the end of every kernel function prototype. This fits well with the dynd data model, where the `dtype` and `arrmeta` together fully define what is behind a raw pointer."
     ]
    },
    {
     "cell_type": "markdown",
     "metadata": {},
     "source": [
      "In dynd, the information flow from input dynd objects through to kernel execution is typically as follows."
     ]
    },
    {
     "cell_type": "code",
     "collapsed": false,
     "input": [
      "SVG(filename='images/dynd_kernel_information_flow.svg')"
     ],
     "language": "python",
     "metadata": {},
     "outputs": [
      {
       "output_type": "pyout",
       "prompt_number": 2,
       "svg": [
        "<svg height=\"296.38257\" id=\"svg2\" inkscape:version=\"0.48.4 r9939\" sodipodi:docname=\"dynd_kernel_information_flow.svg\" version=\"1.1\" width=\"492.23141\" xmlns=\"http://www.w3.org/2000/svg\" xmlns:cc=\"http://creativecommons.org/ns#\" xmlns:dc=\"http://purl.org/dc/elements/1.1/\" xmlns:inkscape=\"http://www.inkscape.org/namespaces/inkscape\" xmlns:rdf=\"http://www.w3.org/1999/02/22-rdf-syntax-ns#\" xmlns:sodipodi=\"http://sodipodi.sourceforge.net/DTD/sodipodi-0.dtd\" xmlns:svg=\"http://www.w3.org/2000/svg\">\n",
        "  <defs id=\"defs4\">\n",
        "    <marker id=\"Arrow1Mend\" inkscape:stockid=\"Arrow1Mend\" orient=\"auto\" refX=\"0\" refY=\"0\" style=\"overflow:visible\">\n",
        "      <path d=\"M 0,0 5,-5 -12.5,0 5,5 0,0 z\" id=\"path3965\" inkscape:connector-curvature=\"0\" style=\"fill-rule:evenodd;stroke:#000000;stroke-width:1pt\" transform=\"matrix(-0.4,0,0,-0.4,-4,0)\"/>\n",
        "    </marker>\n",
        "  </defs>\n",
        "  <sodipodi:namedview bordercolor=\"#666666\" borderopacity=\"1.0\" fit-margin-bottom=\"30\" fit-margin-left=\"30\" fit-margin-right=\"30\" fit-margin-top=\"30\" id=\"base\" inkscape:current-layer=\"layer1\" inkscape:cx=\"254.06178\" inkscape:cy=\"147.47676\" inkscape:document-units=\"px\" inkscape:pageopacity=\"0.0\" inkscape:pageshadow=\"2\" inkscape:window-height=\"689\" inkscape:window-maximized=\"0\" inkscape:window-width=\"1102\" inkscape:window-x=\"209\" inkscape:window-y=\"7\" inkscape:zoom=\"2\" pagecolor=\"#ffffff\" showgrid=\"false\"/>\n",
        "  <metadata id=\"metadata7\">\n",
        "    <rdf:RDF>\n",
        "      <cc:Work rdf:about=\"\">\n",
        "        <dc:format>image/svg+xml</dc:format>\n",
        "        <dc:type rdf:resource=\"http://purl.org/dc/dcmitype/StillImage\"/>\n",
        "        <dc:title/>\n",
        "      </cc:Work>\n",
        "    </rdf:RDF>\n",
        "  </metadata>\n",
        "  <g id=\"layer1\" inkscape:groupmode=\"layer\" inkscape:label=\"Layer 1\" transform=\"translate(-0.17369741,3.681899)\">\n",
        "    <text id=\"text2985\" sodipodi:linespacing=\"125%\" style=\"font-size:10.40809727px;font-style:normal;font-weight:normal;text-align:start;line-height:125%;letter-spacing:0px;word-spacing:0px;text-anchor:start;fill:#000000;fill-opacity:1;stroke:none;font-family:Sans\" x=\"36.659161\" xml:space=\"preserve\" y=\"63.704411\"><tspan id=\"tspan2989\" sodipodi:role=\"line\" x=\"36.659161\" y=\"63.704411\">Operand Arrays</tspan></text>\n",
        "    <g id=\"g3919\" transform=\"matrix(0.65050607,0,0,0.65050607,-27.555546,5.7530217)\">\n",
        "      <g id=\"g3885\" transform=\"translate(-0.51620102,0.15511513)\">\n",
        "        <text id=\"text2993\" sodipodi:linespacing=\"125%\" style=\"font-size:16px;font-style:normal;font-weight:normal;text-align:start;line-height:125%;letter-spacing:0px;word-spacing:0px;text-anchor:start;fill:#000000;fill-opacity:1;stroke:none;font-family:Sans\" x=\"115.5528\" xml:space=\"preserve\" y=\"129.50505\"><tspan id=\"tspan2995\" sodipodi:role=\"line\" x=\"115.5528\" y=\"129.50505\">DType</tspan></text>\n",
        "        <text id=\"text2993-7\" sodipodi:linespacing=\"125%\" style=\"font-size:16px;font-style:normal;font-weight:normal;text-align:start;line-height:125%;letter-spacing:0px;word-spacing:0px;text-anchor:start;fill:#000000;fill-opacity:1;stroke:none;font-family:Sans\" x=\"115.5528\" xml:space=\"preserve\" y=\"149.56813\"><tspan id=\"tspan2995-4\" sodipodi:role=\"line\" x=\"115.5528\" y=\"149.56813\">DType</tspan></text>\n",
        "      </g>\n",
        "      <rect height=\"51.51778\" id=\"rect3111\" rx=\"0.13128199\" ry=\"10\" style=\"fill:none;stroke:#000000;stroke-width:2;stroke-linejoin:round;stroke-miterlimit:4;stroke-opacity:1;stroke-dasharray:none;stroke-dashoffset:0\" width=\"71.720833\" x=\"103.03556\" y=\"109.88985\"/>\n",
        "    </g>\n",
        "    <g id=\"g3911\" transform=\"matrix(0.65050607,0,0,0.65050607,-27.884089,6.410133)\">\n",
        "      <g id=\"g3891\" transform=\"translate(0.19567871,0.73480415)\">\n",
        "        <text id=\"text2997\" sodipodi:linespacing=\"125%\" style=\"font-size:16px;font-style:normal;font-weight:normal;text-align:start;line-height:125%;letter-spacing:0px;word-spacing:0px;text-anchor:start;fill:#000000;fill-opacity:1;stroke:none;font-family:Sans\" x=\"213.16161\" xml:space=\"preserve\" y=\"129.50505\"><tspan id=\"tspan2999\" sodipodi:role=\"line\" x=\"213.16161\" y=\"129.50505\">Metadata</tspan></text>\n",
        "        <text id=\"text2997-0\" sodipodi:linespacing=\"125%\" style=\"font-size:16px;font-style:normal;font-weight:normal;text-align:start;line-height:125%;letter-spacing:0px;word-spacing:0px;text-anchor:start;fill:#000000;fill-opacity:1;stroke:none;font-family:Sans\" x=\"213.16161\" xml:space=\"preserve\" y=\"149.56813\"><tspan id=\"tspan2999-9\" sodipodi:role=\"line\" x=\"213.16161\" y=\"149.56813\">Metadata</tspan></text>\n",
        "      </g>\n",
        "      <rect height=\"51.51778\" id=\"rect3881\" rx=\"0.13128199\" ry=\"10\" style=\"fill:none;stroke:#000000;stroke-width:2;stroke-linejoin:round;stroke-miterlimit:4;stroke-opacity:1;stroke-dasharray:none;stroke-dashoffset:0\" width=\"75.761444\" x=\"209.10156\" y=\"108.87969\"/>\n",
        "    </g>\n",
        "    <g id=\"g3903\" transform=\"matrix(0.65050607,0,0,0.65050607,-27.555546,6.410133)\">\n",
        "      <g id=\"g3897\" transform=\"translate(-0.10256577,0.73480415)\">\n",
        "        <text id=\"text3001\" sodipodi:linespacing=\"125%\" style=\"font-size:16px;font-style:normal;font-weight:normal;text-align:start;line-height:125%;letter-spacing:0px;word-spacing:0px;text-anchor:start;fill:#000000;fill-opacity:1;stroke:none;font-family:Sans\" x=\"336.98135\" xml:space=\"preserve\" y=\"129.50505\"><tspan id=\"tspan3003\" sodipodi:role=\"line\" x=\"336.98135\" y=\"129.50505\">Data</tspan></text>\n",
        "        <text id=\"text3001-4\" sodipodi:linespacing=\"125%\" style=\"font-size:16px;font-style:normal;font-weight:normal;text-align:start;line-height:125%;letter-spacing:0px;word-spacing:0px;text-anchor:start;fill:#000000;fill-opacity:1;stroke:none;font-family:Sans\" x=\"336.98135\" xml:space=\"preserve\" y=\"149.56813\"><tspan id=\"tspan3003-8\" sodipodi:role=\"line\" x=\"336.98135\" y=\"149.56813\">Data</tspan></text>\n",
        "      </g>\n",
        "      <rect height=\"51.51778\" id=\"rect3883\" rx=\"0.13128199\" ry=\"10\" style=\"fill:none;stroke:#000000;stroke-width:2;stroke-linejoin:round;stroke-miterlimit:4;stroke-opacity:1;stroke-dasharray:none;stroke-dashoffset:0\" width=\"71.720833\" x=\"318.19806\" y=\"108.87969\"/>\n",
        "    </g>\n",
        "    <g id=\"g3939\" transform=\"matrix(0.65050607,0,0,0.65050607,-27.555546,6.410133)\">\n",
        "      <text id=\"text3927\" sodipodi:linespacing=\"125%\" style=\"font-size:16px;font-style:normal;font-weight:normal;text-align:center;line-height:125%;letter-spacing:0px;word-spacing:0px;text-anchor:middle;fill:#000000;fill-opacity:1;stroke:none;font-family:Sans\" x=\"198.83833\" xml:space=\"preserve\" y=\"245.42807\"><tspan id=\"tspan3929\" sodipodi:role=\"line\" x=\"198.83833\" y=\"245.42807\">Kernel Factory/</tspan><tspan id=\"tspan3339\" sodipodi:role=\"line\" x=\"198.83833\" y=\"265.42807\">Linker</tspan></text>\n",
        "      <path d=\"m 277.79195,246.76553 c 0,17.0157 -34.82407,30.80966 -77.78174,30.80966 -42.95767,0 -77.78175,-13.79396 -77.78175,-30.80966 0,-17.0157 34.82408,-30.80965 77.78175,-30.80965 42.95767,0 77.78174,13.79395 77.78174,30.80965 z\" id=\"path3931\" sodipodi:cx=\"200.01021\" sodipodi:cy=\"246.76553\" sodipodi:rx=\"77.781746\" sodipodi:ry=\"30.809652\" sodipodi:type=\"arc\" style=\"fill:none;stroke:#000000;stroke-width:2;stroke-linejoin:round;stroke-miterlimit:4;stroke-opacity:1;stroke-dasharray:none;stroke-dashoffset:0\"/>\n",
        "    </g>\n",
        "    <path d=\"m 60.66152,110.58538 c 1.971333,21.02754 4.236193,28.06925 7.488724,39.68543\" id=\"path3944\" inkscape:connector-curvature=\"0\" sodipodi:nodetypes=\"cc\" style=\"fill:none;stroke:#000000;stroke-width:0.65050608px;stroke-linecap:butt;stroke-linejoin:miter;stroke-opacity:1;marker-end:url(#Arrow1Mend)\"/>\n",
        "    <path d=\"m 131.46516,110.74967 c -1.98098,12.23093 -4.20902,21.67344 -7.90355,36.23559\" id=\"path3946\" inkscape:connector-curvature=\"0\" sodipodi:nodetypes=\"cc\" style=\"fill:none;stroke:#000000;stroke-width:0.65050608px;stroke-linecap:butt;stroke-linejoin:miter;stroke-opacity:1;marker-end:url(#Arrow1Mend)\"/>\n",
        "    <rect height=\"46.654839\" id=\"rect4396\" rx=\"0.085399732\" ry=\"14.784983\" style=\"fill:none;stroke:#000000;stroke-width:1.30101216;stroke-linejoin:round;stroke-miterlimit:4;stroke-opacity:1;stroke-dasharray:none;stroke-dashoffset:0\" width=\"125.83663\" x=\"67.015518\" y=\"215.39532\"/>\n",
        "    <text id=\"text4398\" sodipodi:linespacing=\"125%\" style=\"font-size:10.40809727px;font-style:normal;font-weight:normal;text-align:start;line-height:125%;letter-spacing:0px;word-spacing:0px;text-anchor:start;fill:#000000;fill-opacity:1;stroke:none;font-family:Sans\" x=\"75.659111\" xml:space=\"preserve\" y=\"228.91617\"><tspan id=\"tspan4400\" sodipodi:role=\"line\" x=\"75.659111\" y=\"228.91617\">Kernel Data</tspan><tspan id=\"tspan4596\" sodipodi:role=\"line\" x=\"75.659111\" y=\"241.92628\"/></text>\n",
        "    <path d=\"m 100.58098,186.97447 c 0,0 -0.19247,12.13602 -0.657119,23.98453\" id=\"path4407\" inkscape:connector-curvature=\"0\" sodipodi:nodetypes=\"cc\" style=\"fill:none;stroke:#000000;stroke-width:1.95151818;stroke-linecap:butt;stroke-linejoin:miter;stroke-miterlimit:4;stroke-opacity:1;stroke-dasharray:none;marker-end:url(#Arrow1Mend)\"/>\n",
        "    <rect height=\"50.554806\" id=\"rect4591\" rx=\"0\" ry=\"0\" style=\"fill:none;stroke:#000000;stroke-width:1.30101216;stroke-linejoin:round;stroke-miterlimit:4;stroke-opacity:1;stroke-dasharray:none;stroke-dashoffset:0\" width=\"203.25325\" x=\"30.824203\" y=\"68.319351\"/>\n",
        "    <g id=\"g4604\" transform=\"matrix(0.65050607,0,0,0.65050607,-63.696617,8.5465718)\">\n",
        "      <text id=\"text4598\" sodipodi:linespacing=\"125%\" style=\"font-size:16px;font-style:normal;font-weight:normal;text-align:start;line-height:125%;letter-spacing:0px;word-spacing:0px;text-anchor:start;fill:#000000;fill-opacity:1;stroke:none;font-family:Sans\" x=\"260.06836\" xml:space=\"preserve\" y=\"373.11157\"><tspan id=\"tspan4600\" sodipodi:role=\"line\" x=\"260.06836\" y=\"373.11157\">Kernel Function</tspan></text>\n",
        "      <rect height=\"24.243662\" id=\"rect4602\" rx=\"0.13128199\" ry=\"22.728432\" style=\"fill:none;stroke:#000000;stroke-width:2;stroke-linejoin:round;stroke-miterlimit:4;stroke-opacity:1;stroke-dasharray:none;stroke-dashoffset:0\" width=\"123.23861\" x=\"254.55844\" y=\"355.35693\"/>\n",
        "    </g>\n",
        "    <text id=\"text4977\" sodipodi:linespacing=\"125%\" style=\"font-size:10.40809727px;font-style:normal;font-weight:normal;text-align:start;line-height:125%;letter-spacing:0px;word-spacing:0px;text-anchor:start;fill:#000000;fill-opacity:1;stroke:none;font-family:Sans\" x=\"264.3363\" xml:space=\"preserve\" y=\"63.704411\"><tspan id=\"tspan4979\" sodipodi:role=\"line\" x=\"264.3363\" y=\"63.704411\">Operand Arrays</tspan></text>\n",
        "    <g id=\"g4981\" transform=\"matrix(0.65050607,0,0,0.65050607,200.12158,5.7530217)\">\n",
        "      <g id=\"g4983\" transform=\"translate(-0.51620102,0.15511513)\">\n",
        "        <text id=\"text4985\" sodipodi:linespacing=\"125%\" style=\"font-size:16px;font-style:normal;font-weight:normal;text-align:start;line-height:125%;letter-spacing:0px;word-spacing:0px;text-anchor:start;fill:#000000;fill-opacity:1;stroke:none;font-family:Sans\" x=\"115.5528\" xml:space=\"preserve\" y=\"129.50505\"><tspan id=\"tspan4987\" sodipodi:role=\"line\" x=\"115.5528\" y=\"129.50505\">DType</tspan></text>\n",
        "        <text id=\"text4989\" sodipodi:linespacing=\"125%\" style=\"font-size:16px;font-style:normal;font-weight:normal;text-align:start;line-height:125%;letter-spacing:0px;word-spacing:0px;text-anchor:start;fill:#000000;fill-opacity:1;stroke:none;font-family:Sans\" x=\"115.5528\" xml:space=\"preserve\" y=\"149.56813\"><tspan id=\"tspan4991\" sodipodi:role=\"line\" x=\"115.5528\" y=\"149.56813\">DType</tspan></text>\n",
        "      </g>\n",
        "      <rect height=\"51.51778\" id=\"rect4993\" rx=\"0.13128199\" ry=\"10\" style=\"fill:none;stroke:#000000;stroke-width:2;stroke-linejoin:round;stroke-miterlimit:4;stroke-opacity:1;stroke-dasharray:none;stroke-dashoffset:0\" width=\"71.720833\" x=\"103.03556\" y=\"109.88985\"/>\n",
        "    </g>\n",
        "    <g id=\"g4995\" transform=\"matrix(0.65050607,0,0,0.65050607,199.79303,6.410133)\">\n",
        "      <g id=\"g4997\" transform=\"translate(0.19567871,0.73480415)\">\n",
        "        <text id=\"text4999\" sodipodi:linespacing=\"125%\" style=\"font-size:16px;font-style:normal;font-weight:normal;text-align:start;line-height:125%;letter-spacing:0px;word-spacing:0px;text-anchor:start;fill:#000000;fill-opacity:1;stroke:none;font-family:Sans\" x=\"213.16161\" xml:space=\"preserve\" y=\"129.50505\"><tspan id=\"tspan5001\" sodipodi:role=\"line\" x=\"213.16161\" y=\"129.50505\">Metadata</tspan></text>\n",
        "        <text id=\"text5003\" sodipodi:linespacing=\"125%\" style=\"font-size:16px;font-style:normal;font-weight:normal;text-align:start;line-height:125%;letter-spacing:0px;word-spacing:0px;text-anchor:start;fill:#000000;fill-opacity:1;stroke:none;font-family:Sans\" x=\"213.16161\" xml:space=\"preserve\" y=\"149.56813\"><tspan id=\"tspan5005\" sodipodi:role=\"line\" x=\"213.16161\" y=\"149.56813\">Metadata</tspan></text>\n",
        "      </g>\n",
        "      <rect height=\"51.51778\" id=\"rect5007\" rx=\"0.13128199\" ry=\"10\" style=\"fill:none;stroke:#000000;stroke-width:2;stroke-linejoin:round;stroke-miterlimit:4;stroke-opacity:1;stroke-dasharray:none;stroke-dashoffset:0\" width=\"75.761444\" x=\"209.10156\" y=\"108.87969\"/>\n",
        "    </g>\n",
        "    <g id=\"g5009\" transform=\"matrix(0.65050607,0,0,0.65050607,200.12158,6.410133)\">\n",
        "      <g id=\"g5011\" transform=\"translate(-0.10256577,0.73480415)\">\n",
        "        <text id=\"text5013\" sodipodi:linespacing=\"125%\" style=\"font-size:16px;font-style:normal;font-weight:normal;text-align:start;line-height:125%;letter-spacing:0px;word-spacing:0px;text-anchor:start;fill:#000000;fill-opacity:1;stroke:none;font-family:Sans\" x=\"336.98135\" xml:space=\"preserve\" y=\"129.50505\"><tspan id=\"tspan5015\" sodipodi:role=\"line\" x=\"336.98135\" y=\"129.50505\">Data</tspan></text>\n",
        "        <text id=\"text5017\" sodipodi:linespacing=\"125%\" style=\"font-size:16px;font-style:normal;font-weight:normal;text-align:start;line-height:125%;letter-spacing:0px;word-spacing:0px;text-anchor:start;fill:#000000;fill-opacity:1;stroke:none;font-family:Sans\" x=\"336.98135\" xml:space=\"preserve\" y=\"149.56813\"><tspan id=\"tspan5019\" sodipodi:role=\"line\" x=\"336.98135\" y=\"149.56813\">Data</tspan></text>\n",
        "      </g>\n",
        "      <rect height=\"51.51778\" id=\"rect5021\" rx=\"0.13128199\" ry=\"10\" style=\"fill:none;stroke:#000000;stroke-width:2;stroke-linejoin:round;stroke-miterlimit:4;stroke-opacity:1;stroke-dasharray:none;stroke-dashoffset:0\" width=\"71.720833\" x=\"318.19806\" y=\"108.87969\"/>\n",
        "    </g>\n",
        "    <rect height=\"46.654839\" id=\"rect5035\" rx=\"0.085399732\" ry=\"14.784983\" style=\"fill:none;stroke:#000000;stroke-width:1.30101216;stroke-linejoin:round;stroke-miterlimit:4;stroke-opacity:1;stroke-dasharray:none;stroke-dashoffset:0\" width=\"125.83663\" x=\"294.69263\" y=\"215.39532\"/>\n",
        "    <text id=\"text5037\" sodipodi:linespacing=\"125%\" style=\"font-size:10.40809727px;font-style:normal;font-weight:normal;text-align:start;line-height:125%;letter-spacing:0px;word-spacing:0px;text-anchor:start;fill:#000000;fill-opacity:1;stroke:none;font-family:Sans\" x=\"303.33624\" xml:space=\"preserve\" y=\"228.91617\"><tspan id=\"tspan5039\" sodipodi:role=\"line\" x=\"303.33624\" y=\"228.91617\">Kernel Data</tspan><tspan id=\"tspan5041\" sodipodi:role=\"line\" x=\"303.33624\" y=\"241.92628\"/></text>\n",
        "    <rect height=\"50.554806\" id=\"rect5045\" rx=\"0\" ry=\"0\" style=\"fill:none;stroke:#000000;stroke-width:1.30101216;stroke-linejoin:round;stroke-miterlimit:4;stroke-opacity:1;stroke-dasharray:none;stroke-dashoffset:0\" width=\"203.25325\" x=\"258.50134\" y=\"68.319351\"/>\n",
        "    <g id=\"g5047\" transform=\"matrix(0.65050607,0,0,0.65050607,163.98051,8.5465718)\">\n",
        "      <text id=\"text5049\" sodipodi:linespacing=\"125%\" style=\"font-size:16px;font-style:normal;font-weight:normal;text-align:start;line-height:125%;letter-spacing:0px;word-spacing:0px;text-anchor:start;fill:#000000;fill-opacity:1;stroke:none;font-family:Sans\" x=\"260.06836\" xml:space=\"preserve\" y=\"373.11157\"><tspan id=\"tspan5051\" sodipodi:role=\"line\" x=\"260.06836\" y=\"373.11157\">Kernel Function</tspan></text>\n",
        "      <rect height=\"24.243662\" id=\"rect5053\" rx=\"0.13128199\" ry=\"22.728432\" style=\"fill:none;stroke:#000000;stroke-width:2;stroke-linejoin:round;stroke-miterlimit:4;stroke-opacity:1;stroke-dasharray:none;stroke-dashoffset:0\" width=\"123.23861\" x=\"254.55844\" y=\"355.35693\"/>\n",
        "    </g>\n",
        "    <path d=\"M 425.81906,110.78953 C 395.59198,180.44322 393.8137,229.78492 393.15659,237.83452\" id=\"path5055\" inkscape:connector-curvature=\"0\" sodipodi:nodetypes=\"cc\" style=\"fill:none;stroke:#000000;stroke-width:0.65050608px;stroke-linecap:butt;stroke-linejoin:miter;stroke-opacity:1;marker-end:url(#Arrow1Mend)\"/>\n",
        "    <path d=\"M 400.54024,238.88619 C 426.82465,173.83226 433.72431,122.50135 434.70998,112.6447\" id=\"path5057\" inkscape:connector-curvature=\"0\" sodipodi:nodetypes=\"cc\" style=\"fill:none;stroke:#000000;stroke-width:0.65050608px;stroke-linecap:butt;stroke-linejoin:miter;stroke-opacity:1;marker-end:url(#Arrow1Mend)\"/>\n",
        "    <text id=\"text5059\" sodipodi:linespacing=\"125%\" style=\"font-size:15.61214542px;font-style:normal;font-weight:normal;text-align:start;line-height:125%;letter-spacing:0px;word-spacing:0px;text-anchor:start;fill:#000000;fill-opacity:1;stroke:none;font-family:Sans\" x=\"50.50518\" xml:space=\"preserve\" y=\"37.68417\"><tspan id=\"tspan5061\" sodipodi:role=\"line\" x=\"50.50518\" y=\"37.68417\">Step 1 - Link Kernel</tspan></text>\n",
        "    <text id=\"text5063\" sodipodi:linespacing=\"125%\" style=\"font-size:15.61214542px;font-style:normal;font-weight:normal;text-align:start;line-height:125%;letter-spacing:0px;word-spacing:0px;text-anchor:start;fill:#000000;fill-opacity:1;stroke:none;font-family:Sans\" x=\"275.39444\" xml:space=\"preserve\" y=\"37.68417\"><tspan id=\"tspan5065\" sodipodi:role=\"line\" x=\"275.39444\" y=\"37.68417\">Step 2 - Execute Kernel</tspan></text>\n",
        "  </g>\n",
        "</svg>"
       ],
       "text": [
        "<IPython.core.display.SVG at 0x48042b0>"
       ]
      }
     ],
     "prompt_number": 2
    },
    {
     "cell_type": "markdown",
     "metadata": {},
     "source": [
      "After the kernel is created by the factory, the only information it receives are raw data pointers. The reason for this is to keep the C ABI that code using kernels must conform to simple. The hierarchical case requires manipulating only the data pointers and the `ckernel_prefix` pointer on the way down the hierarchy, instead of having to also worry about the multi-dimensional or heterogeneous structure of the data itself."
     ]
    },
    {
     "cell_type": "markdown",
     "metadata": {},
     "source": [
      "One way to think of what the kernel factory in the figure is doing, is as the linking step of a compiler. It puts together a series of pre-fabricated kernel functions, using the dtype and the arrmeta to fill in the kernel data as needed. This leads us to a diagram for how kernel construction can be done when using a JIT compiler. We add a step at the beginning, which compiles the operation to a kernel function pointer using some or all of the dtype and corresponding arrmeta."
     ]
    },
    {
     "cell_type": "code",
     "collapsed": false,
     "input": [
      "SVG(filename='images/dynd_kernel_jit_information_flow.svg')"
     ],
     "language": "python",
     "metadata": {},
     "outputs": [
      {
       "output_type": "pyout",
       "prompt_number": 4,
       "svg": [
        "<svg height=\"320.52542\" id=\"svg2\" inkscape:version=\"0.48.4 r9939\" sodipodi:docname=\"dynd_kernel_jit_information_flow.svg\" version=\"1.1\" width=\"771.72272\" xmlns=\"http://www.w3.org/2000/svg\" xmlns:cc=\"http://creativecommons.org/ns#\" xmlns:dc=\"http://purl.org/dc/elements/1.1/\" xmlns:inkscape=\"http://www.inkscape.org/namespaces/inkscape\" xmlns:rdf=\"http://www.w3.org/1999/02/22-rdf-syntax-ns#\" xmlns:sodipodi=\"http://sodipodi.sourceforge.net/DTD/sodipodi-0.dtd\" xmlns:svg=\"http://www.w3.org/2000/svg\">\n",
        "  <defs id=\"defs4\">\n",
        "    <marker id=\"Arrow1Mend\" inkscape:stockid=\"Arrow1Mend\" orient=\"auto\" refX=\"0\" refY=\"0\" style=\"overflow:visible\">\n",
        "      <path d=\"M 0,0 5,-5 -12.5,0 5,5 0,0 z\" id=\"path3965\" inkscape:connector-curvature=\"0\" style=\"fill-rule:evenodd;stroke:#000000;stroke-width:1pt\" transform=\"matrix(-0.4,0,0,-0.4,-4,0)\"/>\n",
        "    </marker>\n",
        "  </defs>\n",
        "  <sodipodi:namedview bordercolor=\"#666666\" borderopacity=\"1.0\" fit-margin-bottom=\"30\" fit-margin-left=\"30\" fit-margin-right=\"30\" fit-margin-top=\"30\" id=\"base\" inkscape:current-layer=\"layer1\" inkscape:cx=\"304.0321\" inkscape:cy=\"191.98542\" inkscape:document-units=\"px\" inkscape:pageopacity=\"0.0\" inkscape:pageshadow=\"2\" inkscape:window-height=\"689\" inkscape:window-maximized=\"0\" inkscape:window-width=\"1102\" inkscape:window-x=\"22\" inkscape:window-y=\"6\" inkscape:zoom=\"1.4\" pagecolor=\"#ffffff\" showgrid=\"false\"/>\n",
        "  <metadata id=\"metadata7\">\n",
        "    <rdf:RDF>\n",
        "      <cc:Work rdf:about=\"\">\n",
        "        <dc:format>image/svg+xml</dc:format>\n",
        "        <dc:type rdf:resource=\"http://purl.org/dc/dcmitype/StillImage\"/>\n",
        "        <dc:title/>\n",
        "      </cc:Work>\n",
        "    </rdf:RDF>\n",
        "  </metadata>\n",
        "  <g id=\"layer1\" inkscape:groupmode=\"layer\" inkscape:label=\"Layer 1\" transform=\"translate(-0.17369562,3.6818987)\">\n",
        "    <text id=\"text2985\" sodipodi:linespacing=\"125%\" style=\"font-size:11.1213522px;font-style:normal;font-weight:normal;text-align:start;line-height:125%;letter-spacing:0px;word-spacing:0px;text-anchor:start;fill:#000000;fill-opacity:1;stroke:none;font-family:Sans\" x=\"37.103603\" xml:space=\"preserve\" y=\"66.266457\"><tspan id=\"tspan2989\" sodipodi:role=\"line\" x=\"37.103603\" y=\"66.266457\">Operand Arrays</tspan></text>\n",
        "    <g id=\"g3919\" transform=\"matrix(0.69508452,0,0,0.69508452,-31.511667,4.3437199)\">\n",
        "      <g id=\"g3885\" transform=\"translate(-0.51620102,0.15511513)\">\n",
        "        <text id=\"text2993\" sodipodi:linespacing=\"125%\" style=\"font-size:16px;font-style:normal;font-weight:normal;text-align:start;line-height:125%;letter-spacing:0px;word-spacing:0px;text-anchor:start;fill:#000000;fill-opacity:1;stroke:none;font-family:Sans\" x=\"115.5528\" xml:space=\"preserve\" y=\"129.50505\"><tspan id=\"tspan2995\" sodipodi:role=\"line\" x=\"115.5528\" y=\"129.50505\">DType</tspan></text>\n",
        "        <text id=\"text2993-7\" sodipodi:linespacing=\"125%\" style=\"font-size:16px;font-style:normal;font-weight:normal;text-align:start;line-height:125%;letter-spacing:0px;word-spacing:0px;text-anchor:start;fill:#000000;fill-opacity:1;stroke:none;font-family:Sans\" x=\"115.5528\" xml:space=\"preserve\" y=\"149.56813\"><tspan id=\"tspan2995-4\" sodipodi:role=\"line\" x=\"115.5528\" y=\"149.56813\">DType</tspan></text>\n",
        "      </g>\n",
        "      <rect height=\"51.51778\" id=\"rect3111\" rx=\"0.13128199\" ry=\"10\" style=\"fill:none;stroke:#000000;stroke-width:2;stroke-linejoin:round;stroke-miterlimit:4;stroke-opacity:1;stroke-dasharray:none;stroke-dashoffset:0\" width=\"71.720833\" x=\"103.03556\" y=\"109.88985\"/>\n",
        "    </g>\n",
        "    <g id=\"g3911\" transform=\"matrix(0.69508452,0,0,0.69508452,-31.862724,5.0458623)\">\n",
        "      <g id=\"g3891\" transform=\"translate(0.19567871,0.73480415)\">\n",
        "        <text id=\"text2997\" sodipodi:linespacing=\"125%\" style=\"font-size:16px;font-style:normal;font-weight:normal;text-align:start;line-height:125%;letter-spacing:0px;word-spacing:0px;text-anchor:start;fill:#000000;fill-opacity:1;stroke:none;font-family:Sans\" x=\"213.16161\" xml:space=\"preserve\" y=\"129.50505\"><tspan id=\"tspan2999\" sodipodi:role=\"line\" x=\"213.16161\" y=\"129.50505\">Metadata</tspan></text>\n",
        "        <text id=\"text2997-0\" sodipodi:linespacing=\"125%\" style=\"font-size:16px;font-style:normal;font-weight:normal;text-align:start;line-height:125%;letter-spacing:0px;word-spacing:0px;text-anchor:start;fill:#000000;fill-opacity:1;stroke:none;font-family:Sans\" x=\"213.16161\" xml:space=\"preserve\" y=\"149.56813\"><tspan id=\"tspan2999-9\" sodipodi:role=\"line\" x=\"213.16161\" y=\"149.56813\">Metadata</tspan></text>\n",
        "      </g>\n",
        "      <rect height=\"51.51778\" id=\"rect3881\" rx=\"0.13128199\" ry=\"10\" style=\"fill:none;stroke:#000000;stroke-width:2;stroke-linejoin:round;stroke-miterlimit:4;stroke-opacity:1;stroke-dasharray:none;stroke-dashoffset:0\" width=\"75.761444\" x=\"209.10156\" y=\"108.87969\"/>\n",
        "    </g>\n",
        "    <g id=\"g3903\" transform=\"matrix(0.69508452,0,0,0.69508452,-31.511667,5.0458623)\">\n",
        "      <g id=\"g3897\" transform=\"translate(-0.10256577,0.73480415)\">\n",
        "        <text id=\"text3001\" sodipodi:linespacing=\"125%\" style=\"font-size:16px;font-style:normal;font-weight:normal;text-align:start;line-height:125%;letter-spacing:0px;word-spacing:0px;text-anchor:start;fill:#000000;fill-opacity:1;stroke:none;font-family:Sans\" x=\"336.98135\" xml:space=\"preserve\" y=\"129.50505\"><tspan id=\"tspan3003\" sodipodi:role=\"line\" x=\"336.98135\" y=\"129.50505\">Data</tspan></text>\n",
        "        <text id=\"text3001-4\" sodipodi:linespacing=\"125%\" style=\"font-size:16px;font-style:normal;font-weight:normal;text-align:start;line-height:125%;letter-spacing:0px;word-spacing:0px;text-anchor:start;fill:#000000;fill-opacity:1;stroke:none;font-family:Sans\" x=\"336.98135\" xml:space=\"preserve\" y=\"149.56813\"><tspan id=\"tspan3003-8\" sodipodi:role=\"line\" x=\"336.98135\" y=\"149.56813\">Data</tspan></text>\n",
        "      </g>\n",
        "      <rect height=\"51.51778\" id=\"rect3883\" rx=\"0.13128199\" ry=\"10\" style=\"fill:none;stroke:#000000;stroke-width:2;stroke-linejoin:round;stroke-miterlimit:4;stroke-opacity:1;stroke-dasharray:none;stroke-dashoffset:0\" width=\"71.720833\" x=\"318.19806\" y=\"108.87969\"/>\n",
        "    </g>\n",
        "    <g id=\"g3939\" transform=\"matrix(0.69508452,0,0,0.69508452,-31.511667,5.0458623)\">\n",
        "      <text id=\"text3927\" sodipodi:linespacing=\"125%\" style=\"font-size:16px;font-style:normal;font-weight:normal;text-align:start;line-height:125%;letter-spacing:0px;word-spacing:0px;text-anchor:start;fill:#000000;fill-opacity:1;stroke:none;font-family:Sans\" x=\"147.43208\" xml:space=\"preserve\" y=\"250.8085\"><tspan id=\"tspan3929\" sodipodi:role=\"line\" x=\"147.43208\" y=\"250.8085\">JIT Compiler</tspan></text>\n",
        "      <path d=\"m 277.79195,246.76553 c 0,17.0157 -34.82407,30.80966 -77.78174,30.80966 -42.95767,0 -77.78175,-13.79396 -77.78175,-30.80966 0,-17.0157 34.82408,-30.80965 77.78175,-30.80965 42.95767,0 77.78174,13.79395 77.78174,30.80965 z\" id=\"path3931\" sodipodi:cx=\"200.01021\" sodipodi:cy=\"246.76553\" sodipodi:rx=\"77.781746\" sodipodi:ry=\"30.809652\" sodipodi:type=\"arc\" style=\"fill:none;stroke:#000000;stroke-width:2;stroke-linejoin:round;stroke-miterlimit:4;stroke-opacity:1;stroke-dasharray:none;stroke-dashoffset:0\"/>\n",
        "    </g>\n",
        "    <path d=\"m 62.750817,116.36013 c 2.106426,22.46852 3.037028,22.7937 8.001917,42.40502\" id=\"path3944\" inkscape:connector-curvature=\"0\" sodipodi:nodetypes=\"cc\" style=\"fill:none;stroke:#000000;stroke-width:0.69508451px;stroke-linecap:butt;stroke-linejoin:miter;stroke-opacity:1;marker-end:url(#Arrow1Mend)\"/>\n",
        "    <path d=\"m 138.40655,116.53567 c -2.81754,16.66177 -4.89382,24.39456 -8.44517,38.71877\" id=\"path3946\" inkscape:connector-curvature=\"0\" sodipodi:nodetypes=\"cc\" style=\"fill:none;stroke:#000000;stroke-width:0.69508451px;stroke-linecap:butt;stroke-linejoin:miter;stroke-opacity:1;marker-end:url(#Arrow1Mend)\"/>\n",
        "    <rect height=\"49.852039\" id=\"rect4396\" rx=\"0.091252074\" ry=\"15.798181\" style=\"fill:none;stroke:#000000;stroke-width:1.39016902;stroke-linejoin:round;stroke-miterlimit:4;stroke-opacity:1;stroke-dasharray:none;stroke-dashoffset:0\" width=\"134.46008\" x=\"69.540245\" y=\"228.35257\"/>\n",
        "    <text id=\"text4398\" sodipodi:linespacing=\"125%\" style=\"font-size:11.1213522px;font-style:normal;font-weight:normal;text-align:start;line-height:125%;letter-spacing:0px;word-spacing:0px;text-anchor:start;fill:#000000;fill-opacity:1;stroke:none;font-family:Sans\" x=\"78.776176\" xml:space=\"preserve\" y=\"242.79999\"><tspan id=\"tspan4400\" sodipodi:role=\"line\" x=\"78.776176\" y=\"242.79999\">Unbound Kernel Function</tspan><tspan id=\"tspan4596\" sodipodi:role=\"line\" x=\"78.776176\" y=\"256.70169\"/></text>\n",
        "    <path d=\"m 105.40591,197.98407 c 0,0 -0.45391,15.45014 -0.70215,25.62816\" id=\"path4407\" inkscape:connector-curvature=\"0\" sodipodi:nodetypes=\"cc\" style=\"fill:none;stroke:#000000;stroke-width:2.08525348;stroke-linecap:butt;stroke-linejoin:miter;stroke-miterlimit:4;stroke-opacity:1;stroke-dasharray:none;marker-end:url(#Arrow1Mend)\"/>\n",
        "    <rect height=\"54.019272\" id=\"rect4591\" rx=\"0\" ry=\"0\" style=\"fill:none;stroke:#000000;stroke-width:1.39016902;stroke-linejoin:round;stroke-miterlimit:4;stroke-opacity:1;stroke-dasharray:none;stroke-dashoffset:0\" width=\"217.18196\" x=\"30.86878\" y=\"71.197647\"/>\n",
        "    <g id=\"g4604\" transform=\"matrix(0.69508452,0,0,0.69508452,-70.129444,7.3287089)\">\n",
        "      <text id=\"text4598\" sodipodi:linespacing=\"125%\" style=\"font-size:16px;font-style:normal;font-weight:normal;text-align:start;line-height:125%;letter-spacing:0px;word-spacing:0px;text-anchor:start;fill:#000000;fill-opacity:1;stroke:none;font-family:Sans\" x=\"260.06836\" xml:space=\"preserve\" y=\"373.11157\"><tspan id=\"tspan4600\" sodipodi:role=\"line\" x=\"260.06836\" y=\"373.11157\">Kernel Function</tspan></text>\n",
        "      <rect height=\"24.243662\" id=\"rect4602\" rx=\"0.13128199\" ry=\"22.728432\" style=\"fill:none;stroke:#000000;stroke-width:2;stroke-linejoin:round;stroke-miterlimit:4;stroke-opacity:1;stroke-dasharray:none;stroke-dashoffset:0\" width=\"123.23861\" x=\"254.55844\" y=\"355.35693\"/>\n",
        "    </g>\n",
        "    <text id=\"text4977\" sodipodi:linespacing=\"125%\" style=\"font-size:11.1213522px;font-style:normal;font-weight:normal;text-align:start;line-height:125%;letter-spacing:0px;word-spacing:0px;text-anchor:start;fill:#000000;fill-opacity:1;stroke:none;font-family:Sans\" x=\"280.38321\" xml:space=\"preserve\" y=\"66.266457\"><tspan id=\"tspan4979\" sodipodi:role=\"line\" x=\"280.38321\" y=\"66.266457\">Operand Arrays</tspan></text>\n",
        "    <g id=\"g4981\" transform=\"matrix(0.69508452,0,0,0.69508452,211.76791,4.3437199)\">\n",
        "      <g id=\"g4983\" transform=\"translate(-0.51620102,0.15511513)\">\n",
        "        <text id=\"text4985\" sodipodi:linespacing=\"125%\" style=\"font-size:16px;font-style:normal;font-weight:normal;text-align:start;line-height:125%;letter-spacing:0px;word-spacing:0px;text-anchor:start;fill:#000000;fill-opacity:1;stroke:none;font-family:Sans\" x=\"115.5528\" xml:space=\"preserve\" y=\"129.50505\"><tspan id=\"tspan4987\" sodipodi:role=\"line\" x=\"115.5528\" y=\"129.50505\">DType</tspan></text>\n",
        "        <text id=\"text4989\" sodipodi:linespacing=\"125%\" style=\"font-size:16px;font-style:normal;font-weight:normal;text-align:start;line-height:125%;letter-spacing:0px;word-spacing:0px;text-anchor:start;fill:#000000;fill-opacity:1;stroke:none;font-family:Sans\" x=\"115.5528\" xml:space=\"preserve\" y=\"149.56813\"><tspan id=\"tspan4991\" sodipodi:role=\"line\" x=\"115.5528\" y=\"149.56813\">DType</tspan></text>\n",
        "      </g>\n",
        "      <rect height=\"51.51778\" id=\"rect4993\" rx=\"0.13128199\" ry=\"10\" style=\"fill:none;stroke:#000000;stroke-width:2;stroke-linejoin:round;stroke-miterlimit:4;stroke-opacity:1;stroke-dasharray:none;stroke-dashoffset:0\" width=\"71.720833\" x=\"103.03556\" y=\"109.88985\"/>\n",
        "    </g>\n",
        "    <g id=\"g4995\" transform=\"matrix(0.69508452,0,0,0.69508452,211.41686,5.0458623)\">\n",
        "      <g id=\"g4997\" transform=\"translate(0.19567871,0.73480415)\">\n",
        "        <text id=\"text4999\" sodipodi:linespacing=\"125%\" style=\"font-size:16px;font-style:normal;font-weight:normal;text-align:start;line-height:125%;letter-spacing:0px;word-spacing:0px;text-anchor:start;fill:#000000;fill-opacity:1;stroke:none;font-family:Sans\" x=\"213.16161\" xml:space=\"preserve\" y=\"129.50505\"><tspan id=\"tspan5001\" sodipodi:role=\"line\" x=\"213.16161\" y=\"129.50505\">Metadata</tspan></text>\n",
        "        <text id=\"text5003\" sodipodi:linespacing=\"125%\" style=\"font-size:16px;font-style:normal;font-weight:normal;text-align:start;line-height:125%;letter-spacing:0px;word-spacing:0px;text-anchor:start;fill:#000000;fill-opacity:1;stroke:none;font-family:Sans\" x=\"213.16161\" xml:space=\"preserve\" y=\"149.56813\"><tspan id=\"tspan5005\" sodipodi:role=\"line\" x=\"213.16161\" y=\"149.56813\">Metadata</tspan></text>\n",
        "      </g>\n",
        "      <rect height=\"51.51778\" id=\"rect5007\" rx=\"0.13128199\" ry=\"10\" style=\"fill:none;stroke:#000000;stroke-width:2;stroke-linejoin:round;stroke-miterlimit:4;stroke-opacity:1;stroke-dasharray:none;stroke-dashoffset:0\" width=\"75.761444\" x=\"209.10156\" y=\"108.87969\"/>\n",
        "    </g>\n",
        "    <g id=\"g5009\" transform=\"matrix(0.69508452,0,0,0.69508452,211.76791,5.0458623)\">\n",
        "      <g id=\"g5011\" transform=\"translate(-0.10256577,0.73480415)\">\n",
        "        <text id=\"text5013\" sodipodi:linespacing=\"125%\" style=\"font-size:16px;font-style:normal;font-weight:normal;text-align:start;line-height:125%;letter-spacing:0px;word-spacing:0px;text-anchor:start;fill:#000000;fill-opacity:1;stroke:none;font-family:Sans\" x=\"336.98135\" xml:space=\"preserve\" y=\"129.50505\"><tspan id=\"tspan5015\" sodipodi:role=\"line\" x=\"336.98135\" y=\"129.50505\">Data</tspan></text>\n",
        "        <text id=\"text5017\" sodipodi:linespacing=\"125%\" style=\"font-size:16px;font-style:normal;font-weight:normal;text-align:start;line-height:125%;letter-spacing:0px;word-spacing:0px;text-anchor:start;fill:#000000;fill-opacity:1;stroke:none;font-family:Sans\" x=\"336.98135\" xml:space=\"preserve\" y=\"149.56813\"><tspan id=\"tspan5019\" sodipodi:role=\"line\" x=\"336.98135\" y=\"149.56813\">Data</tspan></text>\n",
        "      </g>\n",
        "      <rect height=\"51.51778\" id=\"rect5021\" rx=\"0.13128199\" ry=\"10\" style=\"fill:none;stroke:#000000;stroke-width:2;stroke-linejoin:round;stroke-miterlimit:4;stroke-opacity:1;stroke-dasharray:none;stroke-dashoffset:0\" width=\"71.720833\" x=\"318.19806\" y=\"108.87969\"/>\n",
        "    </g>\n",
        "    <rect height=\"54.019272\" id=\"rect5045\" rx=\"0\" ry=\"0\" style=\"fill:none;stroke:#000000;stroke-width:1.39016902;stroke-linejoin:round;stroke-miterlimit:4;stroke-opacity:1;stroke-dasharray:none;stroke-dashoffset:0\" width=\"217.18196\" x=\"274.14838\" y=\"71.197647\"/>\n",
        "    <g id=\"g5095\" transform=\"matrix(0.69508452,0,0,0.69508452,-23.567843,-84.322145)\">\n",
        "      <rect height=\"71.720833\" id=\"rect5035\" rx=\"0.13128199\" ry=\"22.728432\" style=\"fill:none;stroke:#000000;stroke-width:2;stroke-linejoin:round;stroke-miterlimit:4;stroke-opacity:1;stroke-dasharray:none;stroke-dashoffset:0\" width=\"193.44421\" x=\"549.66644\" y=\"461.26553\"/>\n",
        "      <text id=\"text5037\" sodipodi:linespacing=\"125%\" style=\"font-size:16px;font-style:normal;font-weight:normal;text-align:start;line-height:125%;letter-spacing:0px;word-spacing:0px;text-anchor:start;fill:#000000;fill-opacity:1;stroke:none;font-family:Sans\" x=\"562.95398\" xml:space=\"preserve\" y=\"482.05066\"><tspan id=\"tspan5039\" sodipodi:role=\"line\" x=\"562.95398\" y=\"482.05066\">Kernel Data</tspan><tspan id=\"tspan5041\" sodipodi:role=\"line\" x=\"562.95398\" y=\"502.05066\"/></text>\n",
        "      <g id=\"g5047\" transform=\"translate(348.72732,143.28427)\">\n",
        "        <text id=\"text5049\" sodipodi:linespacing=\"125%\" style=\"font-size:16px;font-style:normal;font-weight:normal;text-align:start;line-height:125%;letter-spacing:0px;word-spacing:0px;text-anchor:start;fill:#000000;fill-opacity:1;stroke:none;font-family:Sans\" x=\"260.06836\" xml:space=\"preserve\" y=\"373.11157\"><tspan id=\"tspan5051\" sodipodi:role=\"line\" x=\"260.06836\" y=\"373.11157\">Kernel Function</tspan></text>\n",
        "        <rect height=\"24.243662\" id=\"rect5053\" rx=\"0.13128199\" ry=\"22.728432\" style=\"fill:none;stroke:#000000;stroke-width:2;stroke-linejoin:round;stroke-miterlimit:4;stroke-opacity:1;stroke-dasharray:none;stroke-dashoffset:0\" width=\"123.23861\" x=\"254.55844\" y=\"355.35693\"/>\n",
        "      </g>\n",
        "    </g>\n",
        "    <text id=\"text5059\" sodipodi:linespacing=\"125%\" style=\"font-size:16.68202782px;font-style:normal;font-weight:normal;text-align:start;line-height:125%;letter-spacing:0px;word-spacing:0px;text-anchor:start;fill:#000000;fill-opacity:1;stroke:none;font-family:Sans\" x=\"51.898472\" xml:space=\"preserve\" y=\"38.463074\"><tspan id=\"tspan5061\" sodipodi:role=\"line\" x=\"51.898472\" y=\"38.463074\">Step 1 - JIT Compile Function</tspan></text>\n",
        "    <text id=\"text5063\" sodipodi:linespacing=\"125%\" style=\"font-size:16.68202782px;font-style:normal;font-weight:normal;text-align:start;line-height:125%;letter-spacing:0px;word-spacing:0px;text-anchor:start;fill:#000000;fill-opacity:1;stroke:none;font-family:Sans\" x=\"292.19916\" xml:space=\"preserve\" y=\"38.463074\"><tspan id=\"tspan5065\" sodipodi:role=\"line\" x=\"292.19916\" y=\"38.463074\">Step 2 - Bind Kernel</tspan></text>\n",
        "    <rect height=\"49.852039\" id=\"rect5071\" rx=\"0.091252074\" ry=\"15.798181\" style=\"fill:none;stroke:#000000;stroke-width:1.39016902;stroke-linejoin:round;stroke-miterlimit:4;stroke-opacity:1;stroke-dasharray:none;stroke-dashoffset:0\" width=\"134.46008\" x=\"358.49683\" y=\"139.97752\"/>\n",
        "    <text id=\"text5073\" sodipodi:linespacing=\"125%\" style=\"font-size:11.1213522px;font-style:normal;font-weight:normal;text-align:start;line-height:125%;letter-spacing:0px;word-spacing:0px;text-anchor:start;fill:#000000;fill-opacity:1;stroke:none;font-family:Sans\" x=\"367.73273\" xml:space=\"preserve\" y=\"154.42494\"><tspan id=\"tspan5075\" sodipodi:role=\"line\" x=\"367.73273\" y=\"154.42494\">Unbound Kernel Function</tspan><tspan id=\"tspan5077\" sodipodi:role=\"line\" x=\"367.73273\" y=\"168.32663\"/></text>\n",
        "    <g id=\"g5079\" transform=\"matrix(0.69508452,0,0,0.69508452,218.82712,-81.046316)\">\n",
        "      <text id=\"text5081\" sodipodi:linespacing=\"125%\" style=\"font-size:16px;font-style:normal;font-weight:normal;text-align:start;line-height:125%;letter-spacing:0px;word-spacing:0px;text-anchor:start;fill:#000000;fill-opacity:1;stroke:none;font-family:Sans\" x=\"260.06836\" xml:space=\"preserve\" y=\"373.11157\"><tspan id=\"tspan5083\" sodipodi:role=\"line\" x=\"260.06836\" y=\"373.11157\">Kernel Function</tspan></text>\n",
        "      <rect height=\"24.243662\" id=\"rect5085\" rx=\"0.13128199\" ry=\"22.728432\" style=\"fill:none;stroke:#000000;stroke-width:2;stroke-linejoin:round;stroke-miterlimit:4;stroke-opacity:1;stroke-dasharray:none;stroke-dashoffset:0\" width=\"123.23861\" x=\"254.55844\" y=\"355.35693\"/>\n",
        "    </g>\n",
        "    <g id=\"g5087\" transform=\"matrix(0.69508452,0,0,0.69508452,177.0137,43.772)\">\n",
        "      <text id=\"text5089\" sodipodi:linespacing=\"125%\" style=\"font-size:16px;font-style:normal;font-weight:normal;text-align:center;line-height:125%;letter-spacing:0px;word-spacing:0px;text-anchor:middle;fill:#000000;fill-opacity:1;stroke:none;font-family:Sans\" x=\"198.83833\" xml:space=\"preserve\" y=\"243.61513\"><tspan id=\"tspan3333\" sodipodi:role=\"line\" x=\"198.83833\" y=\"243.61513\">Kernel Factory/</tspan><tspan id=\"tspan3337\" sodipodi:role=\"line\" x=\"198.83833\" y=\"263.61514\">Linker</tspan></text>\n",
        "      <path d=\"m 277.79195,246.76553 c 0,17.0157 -34.82407,30.80966 -77.78174,30.80966 -42.95767,0 -77.78175,-13.79396 -77.78175,-30.80966 0,-17.0157 34.82408,-30.80965 77.78175,-30.80965 42.95767,0 77.78174,13.79395 77.78174,30.80965 z\" id=\"path5093\" sodipodi:cx=\"200.01021\" sodipodi:cy=\"246.76553\" sodipodi:rx=\"77.781746\" sodipodi:ry=\"30.809652\" sodipodi:type=\"arc\" style=\"fill:none;stroke:#000000;stroke-width:2;stroke-linejoin:round;stroke-miterlimit:4;stroke-opacity:1;stroke-dasharray:none;stroke-dashoffset:0\"/>\n",
        "    </g>\n",
        "    <path d=\"m 287.85146,116.54781 c -0.49649,43.19454 3.47542,68.51548 4.71664,77.45228\" id=\"path5105\" inkscape:connector-curvature=\"0\" sodipodi:nodetypes=\"cc\" style=\"fill:none;stroke:#000000;stroke-width:0.69508451px;stroke-linecap:butt;stroke-linejoin:miter;stroke-opacity:1;marker-end:url(#Arrow1Mend)\"/>\n",
        "    <path d=\"m 363.81427,116.05132 c -28.29988,27.80338 -33.63713,69.88082 -35.1266,76.33518\" id=\"path5107\" inkscape:connector-curvature=\"0\" sodipodi:nodetypes=\"cc\" style=\"fill:none;stroke:#000000;stroke-width:0.69508451px;stroke-linecap:butt;stroke-linejoin:miter;stroke-opacity:1;marker-end:url(#Arrow1Mend)\"/>\n",
        "    <path d=\"m 358.35289,155.77044 c -13.90169,1.48947 -20.35605,32.14766 -21.34903,37.85728\" id=\"path5109\" inkscape:connector-curvature=\"0\" sodipodi:nodetypes=\"cc\" style=\"fill:none;stroke:#000000;stroke-width:0.69508451px;stroke-linecap:butt;stroke-linejoin:miter;stroke-opacity:1;marker-end:url(#Arrow1Mend)\"/>\n",
        "    <path d=\"m 314.66186,236.69814 c -0.99298,27.80338 23.08674,27.05864 39.22263,27.55513\" id=\"path5111\" inkscape:connector-curvature=\"0\" sodipodi:nodetypes=\"cc\" style=\"fill:none;stroke:#000000;stroke-width:2.08525348;stroke-linecap:butt;stroke-linejoin:miter;stroke-miterlimit:4;stroke-opacity:1;stroke-dasharray:none;marker-end:url(#Arrow1Mend)\"/>\n",
        "    <text id=\"text5463\" sodipodi:linespacing=\"125%\" style=\"font-size:11.1213522px;font-style:normal;font-weight:normal;text-align:start;line-height:125%;letter-spacing:0px;word-spacing:0px;text-anchor:start;fill:#000000;fill-opacity:1;stroke:none;font-family:Sans\" x=\"528.62769\" xml:space=\"preserve\" y=\"66.266457\"><tspan id=\"tspan5465\" sodipodi:role=\"line\" x=\"528.62769\" y=\"66.266457\">Operand Arrays</tspan></text>\n",
        "    <g id=\"g5467\" transform=\"matrix(0.69508452,0,0,0.69508452,460.01239,4.3437199)\">\n",
        "      <g id=\"g5469\" transform=\"translate(-0.51620102,0.15511513)\">\n",
        "        <text id=\"text5471\" sodipodi:linespacing=\"125%\" style=\"font-size:16px;font-style:normal;font-weight:normal;text-align:start;line-height:125%;letter-spacing:0px;word-spacing:0px;text-anchor:start;fill:#000000;fill-opacity:1;stroke:none;font-family:Sans\" x=\"115.5528\" xml:space=\"preserve\" y=\"129.50505\"><tspan id=\"tspan5473\" sodipodi:role=\"line\" x=\"115.5528\" y=\"129.50505\">DType</tspan></text>\n",
        "        <text id=\"text5475\" sodipodi:linespacing=\"125%\" style=\"font-size:16px;font-style:normal;font-weight:normal;text-align:start;line-height:125%;letter-spacing:0px;word-spacing:0px;text-anchor:start;fill:#000000;fill-opacity:1;stroke:none;font-family:Sans\" x=\"115.5528\" xml:space=\"preserve\" y=\"149.56813\"><tspan id=\"tspan5477\" sodipodi:role=\"line\" x=\"115.5528\" y=\"149.56813\">DType</tspan></text>\n",
        "      </g>\n",
        "      <rect height=\"51.51778\" id=\"rect5479\" rx=\"0.13128199\" ry=\"10\" style=\"fill:none;stroke:#000000;stroke-width:2;stroke-linejoin:round;stroke-miterlimit:4;stroke-opacity:1;stroke-dasharray:none;stroke-dashoffset:0\" width=\"71.720833\" x=\"103.03556\" y=\"109.88985\"/>\n",
        "    </g>\n",
        "    <g id=\"g5481\" transform=\"matrix(0.69508452,0,0,0.69508452,459.66133,5.0458623)\">\n",
        "      <g id=\"g5483\" transform=\"translate(0.19567871,0.73480415)\">\n",
        "        <text id=\"text5485\" sodipodi:linespacing=\"125%\" style=\"font-size:16px;font-style:normal;font-weight:normal;text-align:start;line-height:125%;letter-spacing:0px;word-spacing:0px;text-anchor:start;fill:#000000;fill-opacity:1;stroke:none;font-family:Sans\" x=\"213.16161\" xml:space=\"preserve\" y=\"129.50505\"><tspan id=\"tspan5487\" sodipodi:role=\"line\" x=\"213.16161\" y=\"129.50505\">Metadata</tspan></text>\n",
        "        <text id=\"text5489\" sodipodi:linespacing=\"125%\" style=\"font-size:16px;font-style:normal;font-weight:normal;text-align:start;line-height:125%;letter-spacing:0px;word-spacing:0px;text-anchor:start;fill:#000000;fill-opacity:1;stroke:none;font-family:Sans\" x=\"213.16161\" xml:space=\"preserve\" y=\"149.56813\"><tspan id=\"tspan5491\" sodipodi:role=\"line\" x=\"213.16161\" y=\"149.56813\">Metadata</tspan></text>\n",
        "      </g>\n",
        "      <rect height=\"51.51778\" id=\"rect5493\" rx=\"0.13128199\" ry=\"10\" style=\"fill:none;stroke:#000000;stroke-width:2;stroke-linejoin:round;stroke-miterlimit:4;stroke-opacity:1;stroke-dasharray:none;stroke-dashoffset:0\" width=\"75.761444\" x=\"209.10156\" y=\"108.87969\"/>\n",
        "    </g>\n",
        "    <g id=\"g5495\" transform=\"matrix(0.69508452,0,0,0.69508452,460.01239,5.0458623)\">\n",
        "      <g id=\"g5497\" transform=\"translate(-0.10256577,0.73480415)\">\n",
        "        <text id=\"text5499\" sodipodi:linespacing=\"125%\" style=\"font-size:16px;font-style:normal;font-weight:normal;text-align:start;line-height:125%;letter-spacing:0px;word-spacing:0px;text-anchor:start;fill:#000000;fill-opacity:1;stroke:none;font-family:Sans\" x=\"336.98135\" xml:space=\"preserve\" y=\"129.50505\"><tspan id=\"tspan5501\" sodipodi:role=\"line\" x=\"336.98135\" y=\"129.50505\">Data</tspan></text>\n",
        "        <text id=\"text5503\" sodipodi:linespacing=\"125%\" style=\"font-size:16px;font-style:normal;font-weight:normal;text-align:start;line-height:125%;letter-spacing:0px;word-spacing:0px;text-anchor:start;fill:#000000;fill-opacity:1;stroke:none;font-family:Sans\" x=\"336.98135\" xml:space=\"preserve\" y=\"149.56813\"><tspan id=\"tspan5505\" sodipodi:role=\"line\" x=\"336.98135\" y=\"149.56813\">Data</tspan></text>\n",
        "      </g>\n",
        "      <rect height=\"51.51778\" id=\"rect5507\" rx=\"0.13128199\" ry=\"10\" style=\"fill:none;stroke:#000000;stroke-width:2;stroke-linejoin:round;stroke-miterlimit:4;stroke-opacity:1;stroke-dasharray:none;stroke-dashoffset:0\" width=\"71.720833\" x=\"318.19806\" y=\"108.87969\"/>\n",
        "    </g>\n",
        "    <rect height=\"54.019272\" id=\"rect5509\" rx=\"0\" ry=\"0\" style=\"fill:none;stroke:#000000;stroke-width:1.39016902;stroke-linejoin:round;stroke-miterlimit:4;stroke-opacity:1;stroke-dasharray:none;stroke-dashoffset:0\" width=\"217.18196\" x=\"522.39288\" y=\"71.197647\"/>\n",
        "    <g id=\"g5511\" transform=\"matrix(0.69508452,0,0,0.69508452,224.67663,-84.322145)\">\n",
        "      <rect height=\"71.720833\" id=\"rect5513\" rx=\"0.13128199\" ry=\"22.728432\" style=\"fill:none;stroke:#000000;stroke-width:2;stroke-linejoin:round;stroke-miterlimit:4;stroke-opacity:1;stroke-dasharray:none;stroke-dashoffset:0\" width=\"193.44421\" x=\"549.66644\" y=\"461.26553\"/>\n",
        "      <text id=\"text5515\" sodipodi:linespacing=\"125%\" style=\"font-size:16px;font-style:normal;font-weight:normal;text-align:start;line-height:125%;letter-spacing:0px;word-spacing:0px;text-anchor:start;fill:#000000;fill-opacity:1;stroke:none;font-family:Sans\" x=\"562.95398\" xml:space=\"preserve\" y=\"482.05066\"><tspan id=\"tspan5517\" sodipodi:role=\"line\" x=\"562.95398\" y=\"482.05066\">Kernel Data</tspan><tspan id=\"tspan5519\" sodipodi:role=\"line\" x=\"562.95398\" y=\"502.05066\"/></text>\n",
        "      <g id=\"g5521\" transform=\"translate(348.72732,143.28427)\">\n",
        "        <text id=\"text5523\" sodipodi:linespacing=\"125%\" style=\"font-size:16px;font-style:normal;font-weight:normal;text-align:start;line-height:125%;letter-spacing:0px;word-spacing:0px;text-anchor:start;fill:#000000;fill-opacity:1;stroke:none;font-family:Sans\" x=\"260.06836\" xml:space=\"preserve\" y=\"373.11157\"><tspan id=\"tspan5525\" sodipodi:role=\"line\" x=\"260.06836\" y=\"373.11157\">Kernel Function</tspan></text>\n",
        "        <rect height=\"24.243662\" id=\"rect5527\" rx=\"0.13128199\" ry=\"22.728432\" style=\"fill:none;stroke:#000000;stroke-width:2;stroke-linejoin:round;stroke-miterlimit:4;stroke-opacity:1;stroke-dasharray:none;stroke-dashoffset:0\" width=\"123.23861\" x=\"254.55844\" y=\"355.35693\"/>\n",
        "      </g>\n",
        "    </g>\n",
        "    <text id=\"text5529\" sodipodi:linespacing=\"125%\" style=\"font-size:16.68202782px;font-style:normal;font-weight:normal;text-align:start;line-height:125%;letter-spacing:0px;word-spacing:0px;text-anchor:start;fill:#000000;fill-opacity:1;stroke:none;font-family:Sans\" x=\"540.4436\" xml:space=\"preserve\" y=\"38.463074\"><tspan id=\"tspan5531\" sodipodi:role=\"line\" x=\"540.4436\" y=\"38.463074\">Step 3 - Execute Kernel</tspan></text>\n",
        "    <path d=\"m 688.29189,261.8366 c -5.9682,-33.70279 -3.68624,-99.00194 6.14374,-143.58792\" id=\"path5565\" inkscape:connector-curvature=\"0\" sodipodi:nodetypes=\"cc\" style=\"fill:none;stroke:#000000;stroke-width:0.69508451px;stroke-linecap:butt;stroke-linejoin:miter;stroke-opacity:1;marker-end:url(#Arrow1Mend)\"/>\n",
        "    <path d=\"m 711.46253,116.49333 c 5.9682,63.5438 1.22877,109.09522 -4.03733,143.85122\" id=\"path5567\" inkscape:connector-curvature=\"0\" sodipodi:nodetypes=\"cc\" style=\"fill:none;stroke:#000000;stroke-width:0.69508451px;stroke-linecap:butt;stroke-linejoin:miter;stroke-opacity:1;marker-end:url(#Arrow1Mend)\"/>\n",
        "  </g>\n",
        "</svg>"
       ],
       "text": [
        "<IPython.core.display.SVG at 0x48e26d8>"
       ]
      }
     ],
     "prompt_number": 4
    },
    {
     "cell_type": "markdown",
     "metadata": {},
     "source": [
      "In step 1, the dtype and arrmeta, which fully describe the data, are used to generate a JIT-compiled kernel function. This function cannot be called by itself, however, it needs to be paired with kernel data memory first. This compilation step is where some choices are made about how many times the JIT should be called versus how general the compiled function is.\n",
      "\n",
      "At one extreme is a JIT compiler which would always hard code all the dtype/arrmeta information into the compiled function. This would only require a trivial kernel data object which includes a destructor function to free the JIT-compiled function when the kernel is no longer needed. At the other extreme is a JIT compiler which would use very little of the information in the dtype/arrmeta. This requires a kernel linker which will copy all the information about the dtype/arrmeta into the kernel data, perhaps as a reference to dtype dtype and a pointer to the arrmeta.\n",
      "\n",
      "A happy medium between these two extremes is a goal of a JIT compiler and kernel factory pair. For example some information, like shape and strides, might go into the kernel data, but other information, like the element type of float or double gets baked into the compiled function. Probably the cached kernel function needs to be accompanied by an operation which knows how to build the kernel data out of the input dtype/arrmeta."
     ]
    },
    {
     "cell_type": "code",
     "collapsed": false,
     "input": [],
     "language": "python",
     "metadata": {},
     "outputs": []
    }
   ],
   "metadata": {}
  }
 ]
}
